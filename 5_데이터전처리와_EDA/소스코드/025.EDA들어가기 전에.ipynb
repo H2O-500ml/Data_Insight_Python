{
 "cells": [
  {
   "cell_type": "markdown",
   "metadata": {
    "colab_type": "text",
    "id": "Y4NnF_YX694i"
   },
   "source": [
    "# EDA 들어가기 전에...\n",
    "\n",
    "작성자 : 김정훈 (Rayleigh Kim)  \n",
    "수정자 : 한기영  \n",
    "\n"
   ]
  },
  {
   "cell_type": "markdown",
   "metadata": {
    "colab_type": "text",
    "id": "NU_aQOuH8Dhh"
   },
   "source": [
    "## 01. Easy Problem"
   ]
  },
  {
   "cell_type": "markdown",
   "metadata": {
    "colab_type": "text",
    "id": "lmpFjF-R8K38"
   },
   "source": [
    "### \"내가 생각하기에는 신규 eDM 디자인이 조금 더 좋단 말이야.\"\n",
    "\n",
    "하지만, 여러분의 동료들은 그렇게 생각하지 않습니다. <br>\n",
    "\n",
    "\"에이, 기존의 CTR이면 충분해.\"  \n",
    "\"그래, CTR이 40%면 어마어마 한거다~!\"\n",
    "\n",
    "**하지만 팀장님을 설득했습니다!**<br>\n",
    "**\"약간의 예산을 주겠네. 팀을 설득할 근거를 만들어오게.\"**\n",
    "\n",
    "자. 시작해보죠. 여러분은 10만명을 대상으로 어떤 eDM을 날릴지 선택해야 합니다."
   ]
  },
  {
   "cell_type": "code",
   "execution_count": 1,
   "metadata": {
    "colab": {},
    "colab_type": "code",
    "id": "E1PpV5l59h55"
   },
   "outputs": [],
   "source": [
    "import numpy as np"
   ]
  },
  {
   "cell_type": "code",
   "execution_count": 2,
   "metadata": {
    "colab": {},
    "colab_type": "code",
    "id": "0OkG1OvJ9jjD"
   },
   "outputs": [],
   "source": [
    "np.random.seed(2019)\n",
    "whole_data = np.random.binomial(1, 0.44, size = 100000)"
   ]
  },
  {
   "cell_type": "markdown",
   "metadata": {
    "colab_type": "text",
    "id": "X0W5ryJn-0Ma"
   },
   "source": [
    "whole_data 에는, 우리가 정말 원하는 데이터가 담겨 있습니다.\n",
    "\n",
    "십만명의 고객을 대상으로 새로운 디자인의 eDM을 전송할 경우, 반응한 고객은 1 그렇지 않은 고객은 0 으로 표시가 되어 있습니다. 데이터의 순서가 그대로 고객 번호구요.\n",
    "\n",
    "\n",
    "**우리는 코드 때문에 정답을 알고 있지만 현실에서는 새eDM을 전부 보내고 나서야 정답 데이터가 확보가 될겁니다.**\n",
    "\n",
    "**우리는 이 전체 데이터를 다 얻기 전에, 결정해야 합니다. 신규 eDM을 쓸지, 기존 디자인을 그대로 쓸지.**\n",
    "\n",
    "아래 코드를 통해서 몰래 10명의 회원들의 반응만 훔쳐보고 옵시다. 미래를 보고 오는거에요."
   ]
  },
  {
   "cell_type": "code",
   "execution_count": 3,
   "metadata": {
    "colab": {},
    "colab_type": "code",
    "id": "levBAmKo-X4g"
   },
   "outputs": [
    {
     "data": {
      "text/plain": [
       "array([1, 0, 1, 1, 1, 0, 1, 1, 1, 0])"
      ]
     },
     "execution_count": 3,
     "metadata": {},
     "output_type": "execute_result"
    }
   ],
   "source": [
    "whole_data[:10]"
   ]
  },
  {
   "cell_type": "markdown",
   "metadata": {
    "colab_type": "text",
    "id": "2l8KJxJq-ZP-"
   },
   "source": [
    "### 문제 1-1\n",
    "\n",
    "\n",
    "실험을 위해 확보된 예산은 1만원 입니다.  \n",
    "한 명에게 eDM을 전송시 1000원씩 필요합니다.  \n",
    "예산으로는 10명에게 보내 반응을 테스트해볼 수 있습니다.\n",
    "\n",
    "아래의 문제들을 풀어주세요."
   ]
  },
  {
   "cell_type": "markdown",
   "metadata": {
    "colab_type": "text",
    "id": "Wysq2hRtAIBr"
   },
   "source": [
    "1) 변수들을 정의 합시다.  \n",
    "10명의 고객들에게 새로운 디자인의 eDM을 보내고 반응을 측정할 겁니다.  \n",
    "주어진 예산과 대상 인원수를 변수로 받도록 코드로 작성하시오."
   ]
  },
  {
   "cell_type": "code",
   "execution_count": 5,
   "metadata": {
    "colab": {},
    "colab_type": "code",
    "id": "cYUPOXpGAdPI"
   },
   "outputs": [],
   "source": []
  },
  {
   "cell_type": "markdown",
   "metadata": {
    "colab_type": "text",
    "id": "pcpj_4oA9_X-"
   },
   "source": [
    "2) 이번 실험의 CTR은 어떤가요?\n",
    "\n",
    "계산하고, 팀원들을 설득할 수 있을지 확인해봅시다.  \n",
    "일종의 시뮬레이션이니, 여러번 시도해보셔도 좋습니다.  \n",
    "실제로는 이렇게 '여러 번' 할 수는 없을거에요.  \n",
    "\n",
    "* 반복 회수를 변수로 받아서  \n",
    "* whole_data중 임의로 10명의 반응을 추출하여 CTR을 계산하고\n",
    "* 매회 계산된 CTR을 리스트에 저장하시오.  \n",
    "* 그리고 결과(리스트)를 반환하는 함수를 작성하시오.\n"
   ]
  },
  {
   "cell_type": "code",
   "execution_count": 12,
   "metadata": {},
   "outputs": [],
   "source": []
  },
  {
   "cell_type": "code",
   "execution_count": 15,
   "metadata": {
    "colab": {},
    "colab_type": "code",
    "id": "-H_x0K5xAm9_"
   },
   "outputs": [
    {
     "data": {
      "text/plain": [
       "0.6"
      ]
     },
     "execution_count": 15,
     "metadata": {},
     "output_type": "execute_result"
    }
   ],
   "source": [
    "np.random.choice(whole_data, 10).mean()"
   ]
  },
  {
   "cell_type": "code",
   "execution_count": 17,
   "metadata": {},
   "outputs": [],
   "source": [
    "def sim1(x, n=10):\n",
    "    result=[]\n",
    "    for i in range(x):\n",
    "        result.append(np.random.choice(whole_data, n).mean())\n",
    "    return result"
   ]
  },
  {
   "cell_type": "code",
   "execution_count": 18,
   "metadata": {},
   "outputs": [],
   "source": [
    "def sim1(x, n=10):\n",
    "    result=[np.random.choice(whole_data, n).mean() or i in range(x)]\n",
    "    return result"
   ]
  },
  {
   "cell_type": "code",
   "execution_count": 30,
   "metadata": {},
   "outputs": [
    {
     "data": {
      "text/plain": [
       "[0.4]"
      ]
     },
     "execution_count": 30,
     "metadata": {},
     "output_type": "execute_result"
    }
   ],
   "source": [
    "sim1(5)"
   ]
  },
  {
   "cell_type": "markdown",
   "metadata": {
    "colab_type": "text",
    "id": "QS2p8UFKAncO"
   },
   "source": [
    "1.3 확보된 예산 '만원'으로 충분한가요?"
   ]
  },
  {
   "cell_type": "markdown",
   "metadata": {
    "colab_type": "text",
    "id": "JmveuAJqAxN_"
   },
   "source": [
    "Answer>"
   ]
  },
  {
   "cell_type": "markdown",
   "metadata": {
    "colab_type": "text",
    "id": "0EDh4t-HA0cZ"
   },
   "source": [
    "1.4 예산이 어느 정도 있어야 기존 CTR인 40%보다 더 나아졌다고 확신할 수 있나요?\n",
    "\n",
    "* 예산과 반복 회수를 변수로 받아서  \n",
    "* 매회 계산된 CTR을 리스트에 저장하시오.  \n",
    "* 그리고 결과(리스트)를 반환하는 함수를 작성하시오.\n",
    "\n",
    "예산을 조금씩 늘리거나, 같은 예산에서 여러번 시뮬레이션 하여 CTR의 변화를 관찰해봅시다."
   ]
  },
  {
   "cell_type": "markdown",
   "metadata": {
    "colab_type": "text",
    "id": "d_N0M0btBnih"
   },
   "source": [
    "## 02. A little little difficult \n",
    "\n",
    "조금 어렵습니다. 문제의 지문이 불친절해질 거에요."
   ]
  },
  {
   "cell_type": "markdown",
   "metadata": {
    "colab_type": "text",
    "id": "gHWhJ3XIBuZ3"
   },
   "source": [
    "### 앞으로 한 달 동안, 배너를 띄울 건데 말이야.\n",
    "\n",
    "배너들 생긴 디자인끼리 서로 다르단건 알겠는데, 그래서.. 뭘 선택해야 하는거야?\n",
    "\n",
    "우린 이번 마케팅에 대해서 기존에 배너를 띄워본 적 조차 없는데...?!\n",
    "이번 기획 자체가 처음이잖아.\n",
    "\n",
    "어떤 배너를 띄워야 하는거지?\n",
    "\n",
    "\n",
    "아! 회원의 일부를 대상으로 실험을 통해서 반응을 보자!"
   ]
  },
  {
   "cell_type": "code",
   "execution_count": 1,
   "metadata": {
    "colab": {},
    "colab_type": "code",
    "id": "EnnukS11ZhvH"
   },
   "outputs": [],
   "source": [
    "import numpy as np"
   ]
  },
  {
   "cell_type": "markdown",
   "metadata": {
    "colab_type": "text",
    "id": "ZNNNrhjrZ-ak"
   },
   "source": [
    "여러분은   A, B, C 세개의 배너 중 하나 골라야 합니다.  \n",
    "각 어레이의 인덱스는 회원 번호를 의미하고,   \n",
    "각 회원은 A, B, C 배너 중 '하나'에만 노출 됩니다.  \n",
    "\n",
    "10만 명 회원들을 대상으로 배너를 노출 시킬 생각입니다."
   ]
  },
  {
   "cell_type": "code",
   "execution_count": 2,
   "metadata": {
    "colab": {},
    "colab_type": "code",
    "id": "alIBrM0SZjFq"
   },
   "outputs": [],
   "source": [
    "np.random.seed(2019)\n",
    "\n",
    "A_CTR_we_want_to_know = np.random.binomial(1, 0.32, size = 100000)\n",
    "B_CTR_we_want_to_know = np.random.binomial(1, 0.39, size = 100000)\n",
    "C_CTR_we_want_to_know = np.random.binomial(1, 0.34, size = 100000)"
   ]
  },
  {
   "cell_type": "markdown",
   "metadata": {
    "colab_type": "text",
    "id": "emRYx1NGaYH4"
   },
   "source": [
    "위의 A_CTR_we_want_to_know에는 A 배너로 마케팅 했을 때, 사람들이 클릭했는지 안했는지 담겨있습니다.\n",
    "\n",
    "예를 들어서, 45번 회원의 경우..."
   ]
  },
  {
   "cell_type": "code",
   "execution_count": 3,
   "metadata": {
    "colab": {},
    "colab_type": "code",
    "id": "yLJICF7ratOR"
   },
   "outputs": [
    {
     "name": "stdout",
     "output_type": "stream",
     "text": [
      "0은 클릭을 안했다는 뜻! 1은 클릭을 했다는 뜻!\n",
      "40~49번 회원이 A배너를 보면? [0 0 1 0 0 1 0 0 1]\n",
      "40~49번 회원이 B배너를 보면? [0 0 0 0 1 0 0 0 1]\n",
      "40~49번 회원이 C배너를 보면? [1 1 0 1 0 0 0 0 1]\n"
     ]
    }
   ],
   "source": [
    "print('0은 클릭을 안했다는 뜻! 1은 클릭을 했다는 뜻!')\n",
    "print(\"40~49번 회원이 A배너를 보면?\", A_CTR_we_want_to_know[41:50])\n",
    "print(\"40~49번 회원이 B배너를 보면?\", B_CTR_we_want_to_know[41:50])\n",
    "print(\"40~49번 회원이 C배너를 보면?\", C_CTR_we_want_to_know[41:50])\n"
   ]
  },
  {
   "cell_type": "markdown",
   "metadata": {
    "colab_type": "text",
    "id": "TVGLgi3Sa4xo"
   },
   "source": [
    "**한 명의 회원은, 하나의 배너에만 노출 됩니다. 샘플링에 주의하세요.**\n",
    "\n",
    "Q1. 위에서 했던 것을 조금 응용해서 코드를 작성해주세요.  \n",
    "* 함수를 만듭니다.  \n",
    "* 임의의 30명에게 임의의 배너(A,B,C)를 띄워 클릭했는지 여부를 dataframe으로 저장하시오.  \n",
    "* 30명을 넘기지 않고, 의사결정을 해주세요.\n",
    "* 전체 샘플 사이즈는 3의 배수로 지정하도록 합니다."
   ]
  },
  {
   "cell_type": "code",
   "execution_count": 15,
   "metadata": {},
   "outputs": [],
   "source": [
    "import pandas as pd\n",
    "import numpy as np"
   ]
  },
  {
   "cell_type": "code",
   "execution_count": 16,
   "metadata": {
    "colab": {},
    "colab_type": "code",
    "id": "bdahHg-sbOQ5"
   },
   "outputs": [
    {
     "name": "stdout",
     "output_type": "stream",
     "text": [
      "0.3\n",
      "0.5\n",
      "0.5\n"
     ]
    }
   ],
   "source": [
    "ranc = list(np.random.choice(100000, 30))\n",
    "\n",
    "result_a = []\n",
    "result_b = []\n",
    "result_c = []\n",
    "\n",
    "for i, v in enumerate(ranc):\n",
    "    if(i % 3 == 0):\n",
    "        result_a.append(A_CTR_we_want_to_know[v])\n",
    "    elif(i % 3 == 1):\n",
    "        result_b.append(B_CTR_we_want_to_know[v])\n",
    "    else:\n",
    "        result_c.append(C_CTR_we_want_to_know[v])\n",
    "\n",
    "print(np.array(result_a).mean())\n",
    "print(np.array(result_b).mean())\n",
    "print(np.array(result_c).mean())"
   ]
  },
  {
   "cell_type": "code",
   "execution_count": 17,
   "metadata": {},
   "outputs": [
    {
     "data": {
      "text/plain": [
       "A    0.3\n",
       "B    0.5\n",
       "C    0.5\n",
       "dtype: float64"
      ]
     },
     "execution_count": 17,
     "metadata": {},
     "output_type": "execute_result"
    }
   ],
   "source": [
    "results = pd.DataFrame({'A':result_a, 'B':result_b,'C':result_c})\n",
    "results.mean()"
   ]
  },
  {
   "cell_type": "markdown",
   "metadata": {
    "colab_type": "text",
    "id": "wOa2Clsabjv3"
   },
   "source": [
    "Q2. 전체 샘플 사이즈를 45명을 넘기지 않고, 의사결정을 해주세요."
   ]
  },
  {
   "cell_type": "code",
   "execution_count": null,
   "metadata": {
    "colab": {},
    "colab_type": "code",
    "id": "FGsCDb5xbmzc"
   },
   "outputs": [],
   "source": []
  },
  {
   "cell_type": "code",
   "execution_count": null,
   "metadata": {
    "colab": {},
    "colab_type": "code",
    "id": "Qb_LsDj7bnLV"
   },
   "outputs": [],
   "source": []
  },
  {
   "cell_type": "markdown",
   "metadata": {
    "colab_type": "text",
    "id": "-tQCZwy6bnRx"
   },
   "source": [
    "Q3. 여러분이 샘플 사이즈를 달리하면서 의사결정을 해주세요."
   ]
  },
  {
   "cell_type": "code",
   "execution_count": null,
   "metadata": {
    "colab": {},
    "colab_type": "code",
    "id": "MohF5VNNbwvw"
   },
   "outputs": [],
   "source": []
  },
  {
   "cell_type": "code",
   "execution_count": null,
   "metadata": {
    "colab": {},
    "colab_type": "code",
    "id": "-FQzUkh6bw1s"
   },
   "outputs": [],
   "source": []
  },
  {
   "cell_type": "code",
   "execution_count": null,
   "metadata": {
    "colab": {},
    "colab_type": "code",
    "id": "7xoxvNLcbw7v"
   },
   "outputs": [],
   "source": []
  },
  {
   "cell_type": "markdown",
   "metadata": {
    "colab_type": "text",
    "id": "7PIHIK6ObxZ0"
   },
   "source": [
    "결론을 내주세요.\n",
    "\n",
    "\n",
    "반드시 포함되어야 할 것\n",
    "* 실험 규모. (샘플사이즈, 소모 비용)\n",
    "* 실험의 결과가 어떠한지 (다양한 관점에서)\n",
    "* 10만명 전체에 확산할 경우 예상되는 결과가 어떤지.\n",
    "* 어떤 의사결정을 해야 하는지"
   ]
  },
  {
   "cell_type": "code",
   "execution_count": null,
   "metadata": {
    "colab": {},
    "colab_type": "code",
    "id": "dqWAdeebcHAW"
   },
   "outputs": [],
   "source": []
  }
 ],
 "metadata": {
  "colab": {
   "collapsed_sections": [
    "NU_aQOuH8Dhh",
    "d_N0M0btBnih"
   ],
   "name": "An introduction to statistical computing.ipynb",
   "provenance": [],
   "version": "0.3.2"
  },
  "kernelspec": {
   "display_name": "Python 3",
   "language": "python",
   "name": "python3"
  },
  "language_info": {
   "codemirror_mode": {
    "name": "ipython",
    "version": 3
   },
   "file_extension": ".py",
   "mimetype": "text/x-python",
   "name": "python",
   "nbconvert_exporter": "python",
   "pygments_lexer": "ipython3",
   "version": "3.7.1"
  }
 },
 "nbformat": 4,
 "nbformat_minor": 1
}
