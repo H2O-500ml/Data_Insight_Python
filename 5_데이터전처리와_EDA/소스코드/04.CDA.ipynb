{
 "cells": [
  {
   "cell_type": "markdown",
   "metadata": {},
   "source": [
    "# 04. CDA(Confirmatory Data Analysis)\n",
    "\n",
    "* writer : rayleigh kim  \n",
    "**잠깐, 원래 데이터를 벗어난 실습을 하고 옵니다.**\n",
    "\n",
    "## 이번 실습을 통해서 우리는\n",
    "\n",
    "1. Comparative Type Test를 배웁니다.  \n",
    "    ① T-Test를 배웁니다.  \n",
    "    ② Anova를 배웁니다.  \n",
    "    ③ '실제' 어떤식으로 하는지 팁을 배웁니다.  \n",
    "* Associative Type Test를 배웁니다.  \n",
    "    ① Correlation Coefficient를 관찰하고, p-value도 구해봅니다.  \n",
    "    ② Chi-squared Test를 해봅니다.  \n",
    "* EDA 에서, 가설검정의 기술을 빌려와 판단하는 방법을 익힙니다.\n",
    "\n"
   ]
  },
  {
   "cell_type": "markdown",
   "metadata": {},
   "source": [
    "### Confirmatory data analysis Review\n",
    "\n",
    "1. 가설 검정의 '테크닉'자체는 데이터로 부터 어떤 현상이 '우연'인지 그렇지는 않은지를 서술하기 위함입니다.\n",
    "2. 그 데이터가 과거 데이터인지, 최근 데이터인지, 새롭게 수집한 데이터인지에 따라서 재현성의 의미가 달라집니다.\n",
    "3. 가설 확인을 위해 '새롭게 수집한 데이터 위에서 재현성 확인을 하는 것'이 진짜 CDA입니다.\n",
    "\n",
    "**하지만, 우리는 이번 실습을 통해 <U>가설검정 테크닉</U>을 우선 배웁니다.**"
   ]
  },
  {
   "cell_type": "markdown",
   "metadata": {},
   "source": [
    "먼저 필요한 라이브러리를 모두 가져옵시다."
   ]
  },
  {
   "cell_type": "code",
   "execution_count": 1,
   "metadata": {},
   "outputs": [],
   "source": [
    "import scipy.stats as spst\n",
    "import numpy as np\n",
    "import matplotlib.pyplot as plt\n",
    "import pandas as pd\n",
    "import seaborn as sns"
   ]
  },
  {
   "cell_type": "markdown",
   "metadata": {},
   "source": [
    "### 유효샘플 사이즈에 대하여...\n",
    "시작하기 전에 대한 간단한 시뮬레이션을 통해 유효샘플 사이즈에 대해 살펴보려고 합니다."
   ]
  },
  {
   "cell_type": "markdown",
   "metadata": {},
   "source": [
    "① 600개의 임의의 값(모집단)을 구성합니다."
   ]
  },
  {
   "cell_type": "code",
   "execution_count": 2,
   "metadata": {},
   "outputs": [],
   "source": [
    "#평균이 5.5에 근사하도록 구성\n",
    "np.random.seed(2019)\n",
    "people_from_B = np.random.normal(loc = 5, scale = 2, size = 600) \\\n",
    "                            + np.random.uniform(size = 600)"
   ]
  },
  {
   "cell_type": "markdown",
   "metadata": {},
   "source": [
    "랜덤 샘플링(numpy.random)과 관련된 설명은 [여기](https://rfriend.tistory.com/284) 에 잘 되어 있습니다."
   ]
  },
  {
   "cell_type": "code",
   "execution_count": 3,
   "metadata": {},
   "outputs": [
    {
     "data": {
      "text/plain": [
       "5.477600661767645"
      ]
     },
     "execution_count": 3,
     "metadata": {},
     "output_type": "execute_result"
    }
   ],
   "source": [
    "# 아래코드는 당연히 전체(모집단)의 평균은 5.5에 가까울 것입니다. \n",
    "# 그러나 우리는 모집단의 분포와 평균을 모른다고 가정해야 합니다.\n",
    "# 그러므로 적당한 크기(갯수)로 구성된 샘플들 의 평균을 통해 모집단의 평균을 추론해볼 수 있습니다.\n",
    "people_from_B.mean()"
   ]
  },
  {
   "cell_type": "markdown",
   "metadata": {},
   "source": [
    "② 실험은 1~100차까지 진행합니다.\n",
    "  * 각 차수마다 30회를 반복해서 샘플링 합니다.\n",
    "  * 샘플 개수는 1차때는 1개,........10차는 10개,.........100차는 100개를 추출(샘플링)합니다.\n",
    "  * 각 샘플링한 값들의 평균을 저장합니다."
   ]
  },
  {
   "cell_type": "code",
   "execution_count": 4,
   "metadata": {},
   "outputs": [],
   "source": [
    "trial = []\n",
    "sample_size = []\n",
    "sample_mean = []\n",
    "\n",
    "for i in range (1, 101) :\n",
    "    for j in range(1,31) :\n",
    "        trial.append('{}차 실험_{}회'.format(i,j))\n",
    "        sample_size.append(i)\n",
    "        temp = np.random.choice(people_from_B, size = i, replace = False)\n",
    "        sample_mean.append(temp.mean())\n",
    "        \n",
    "df_vz = pd.DataFrame({'trial' : trial,\n",
    "                                     'sample_size' : sample_size,\n",
    "                                     'sample_mean' : sample_mean})"
   ]
  },
  {
   "cell_type": "code",
   "execution_count": 5,
   "metadata": {},
   "outputs": [
    {
     "data": {
      "text/html": [
       "<div>\n",
       "<style scoped>\n",
       "    .dataframe tbody tr th:only-of-type {\n",
       "        vertical-align: middle;\n",
       "    }\n",
       "\n",
       "    .dataframe tbody tr th {\n",
       "        vertical-align: top;\n",
       "    }\n",
       "\n",
       "    .dataframe thead th {\n",
       "        text-align: right;\n",
       "    }\n",
       "</style>\n",
       "<table border=\"1\" class=\"dataframe\">\n",
       "  <thead>\n",
       "    <tr style=\"text-align: right;\">\n",
       "      <th></th>\n",
       "      <th>trial</th>\n",
       "      <th>sample_size</th>\n",
       "      <th>sample_mean</th>\n",
       "    </tr>\n",
       "  </thead>\n",
       "  <tbody>\n",
       "    <tr>\n",
       "      <th>0</th>\n",
       "      <td>1차 실험_1회</td>\n",
       "      <td>1</td>\n",
       "      <td>3.725014</td>\n",
       "    </tr>\n",
       "    <tr>\n",
       "      <th>1</th>\n",
       "      <td>1차 실험_2회</td>\n",
       "      <td>1</td>\n",
       "      <td>4.377617</td>\n",
       "    </tr>\n",
       "    <tr>\n",
       "      <th>2</th>\n",
       "      <td>1차 실험_3회</td>\n",
       "      <td>1</td>\n",
       "      <td>7.858824</td>\n",
       "    </tr>\n",
       "    <tr>\n",
       "      <th>3</th>\n",
       "      <td>1차 실험_4회</td>\n",
       "      <td>1</td>\n",
       "      <td>3.027112</td>\n",
       "    </tr>\n",
       "    <tr>\n",
       "      <th>4</th>\n",
       "      <td>1차 실험_5회</td>\n",
       "      <td>1</td>\n",
       "      <td>6.920331</td>\n",
       "    </tr>\n",
       "    <tr>\n",
       "      <th>5</th>\n",
       "      <td>1차 실험_6회</td>\n",
       "      <td>1</td>\n",
       "      <td>5.107692</td>\n",
       "    </tr>\n",
       "    <tr>\n",
       "      <th>6</th>\n",
       "      <td>1차 실험_7회</td>\n",
       "      <td>1</td>\n",
       "      <td>7.494300</td>\n",
       "    </tr>\n",
       "    <tr>\n",
       "      <th>7</th>\n",
       "      <td>1차 실험_8회</td>\n",
       "      <td>1</td>\n",
       "      <td>4.352693</td>\n",
       "    </tr>\n",
       "    <tr>\n",
       "      <th>8</th>\n",
       "      <td>1차 실험_9회</td>\n",
       "      <td>1</td>\n",
       "      <td>3.137153</td>\n",
       "    </tr>\n",
       "    <tr>\n",
       "      <th>9</th>\n",
       "      <td>1차 실험_10회</td>\n",
       "      <td>1</td>\n",
       "      <td>6.409119</td>\n",
       "    </tr>\n",
       "    <tr>\n",
       "      <th>10</th>\n",
       "      <td>1차 실험_11회</td>\n",
       "      <td>1</td>\n",
       "      <td>3.225957</td>\n",
       "    </tr>\n",
       "    <tr>\n",
       "      <th>11</th>\n",
       "      <td>1차 실험_12회</td>\n",
       "      <td>1</td>\n",
       "      <td>5.491516</td>\n",
       "    </tr>\n",
       "    <tr>\n",
       "      <th>12</th>\n",
       "      <td>1차 실험_13회</td>\n",
       "      <td>1</td>\n",
       "      <td>5.038791</td>\n",
       "    </tr>\n",
       "    <tr>\n",
       "      <th>13</th>\n",
       "      <td>1차 실험_14회</td>\n",
       "      <td>1</td>\n",
       "      <td>4.716635</td>\n",
       "    </tr>\n",
       "    <tr>\n",
       "      <th>14</th>\n",
       "      <td>1차 실험_15회</td>\n",
       "      <td>1</td>\n",
       "      <td>4.097859</td>\n",
       "    </tr>\n",
       "    <tr>\n",
       "      <th>15</th>\n",
       "      <td>1차 실험_16회</td>\n",
       "      <td>1</td>\n",
       "      <td>5.233182</td>\n",
       "    </tr>\n",
       "    <tr>\n",
       "      <th>16</th>\n",
       "      <td>1차 실험_17회</td>\n",
       "      <td>1</td>\n",
       "      <td>8.686198</td>\n",
       "    </tr>\n",
       "    <tr>\n",
       "      <th>17</th>\n",
       "      <td>1차 실험_18회</td>\n",
       "      <td>1</td>\n",
       "      <td>6.876702</td>\n",
       "    </tr>\n",
       "    <tr>\n",
       "      <th>18</th>\n",
       "      <td>1차 실험_19회</td>\n",
       "      <td>1</td>\n",
       "      <td>8.694307</td>\n",
       "    </tr>\n",
       "    <tr>\n",
       "      <th>19</th>\n",
       "      <td>1차 실험_20회</td>\n",
       "      <td>1</td>\n",
       "      <td>6.857307</td>\n",
       "    </tr>\n",
       "    <tr>\n",
       "      <th>20</th>\n",
       "      <td>1차 실험_21회</td>\n",
       "      <td>1</td>\n",
       "      <td>6.436906</td>\n",
       "    </tr>\n",
       "    <tr>\n",
       "      <th>21</th>\n",
       "      <td>1차 실험_22회</td>\n",
       "      <td>1</td>\n",
       "      <td>8.503760</td>\n",
       "    </tr>\n",
       "    <tr>\n",
       "      <th>22</th>\n",
       "      <td>1차 실험_23회</td>\n",
       "      <td>1</td>\n",
       "      <td>4.244417</td>\n",
       "    </tr>\n",
       "    <tr>\n",
       "      <th>23</th>\n",
       "      <td>1차 실험_24회</td>\n",
       "      <td>1</td>\n",
       "      <td>7.064993</td>\n",
       "    </tr>\n",
       "    <tr>\n",
       "      <th>24</th>\n",
       "      <td>1차 실험_25회</td>\n",
       "      <td>1</td>\n",
       "      <td>5.940646</td>\n",
       "    </tr>\n",
       "    <tr>\n",
       "      <th>25</th>\n",
       "      <td>1차 실험_26회</td>\n",
       "      <td>1</td>\n",
       "      <td>7.531066</td>\n",
       "    </tr>\n",
       "    <tr>\n",
       "      <th>26</th>\n",
       "      <td>1차 실험_27회</td>\n",
       "      <td>1</td>\n",
       "      <td>6.989278</td>\n",
       "    </tr>\n",
       "    <tr>\n",
       "      <th>27</th>\n",
       "      <td>1차 실험_28회</td>\n",
       "      <td>1</td>\n",
       "      <td>5.982485</td>\n",
       "    </tr>\n",
       "    <tr>\n",
       "      <th>28</th>\n",
       "      <td>1차 실험_29회</td>\n",
       "      <td>1</td>\n",
       "      <td>6.001799</td>\n",
       "    </tr>\n",
       "    <tr>\n",
       "      <th>29</th>\n",
       "      <td>1차 실험_30회</td>\n",
       "      <td>1</td>\n",
       "      <td>4.148932</td>\n",
       "    </tr>\n",
       "    <tr>\n",
       "      <th>...</th>\n",
       "      <td>...</td>\n",
       "      <td>...</td>\n",
       "      <td>...</td>\n",
       "    </tr>\n",
       "    <tr>\n",
       "      <th>70</th>\n",
       "      <td>3차 실험_11회</td>\n",
       "      <td>3</td>\n",
       "      <td>4.501252</td>\n",
       "    </tr>\n",
       "    <tr>\n",
       "      <th>71</th>\n",
       "      <td>3차 실험_12회</td>\n",
       "      <td>3</td>\n",
       "      <td>5.874706</td>\n",
       "    </tr>\n",
       "    <tr>\n",
       "      <th>72</th>\n",
       "      <td>3차 실험_13회</td>\n",
       "      <td>3</td>\n",
       "      <td>6.165751</td>\n",
       "    </tr>\n",
       "    <tr>\n",
       "      <th>73</th>\n",
       "      <td>3차 실험_14회</td>\n",
       "      <td>3</td>\n",
       "      <td>3.994964</td>\n",
       "    </tr>\n",
       "    <tr>\n",
       "      <th>74</th>\n",
       "      <td>3차 실험_15회</td>\n",
       "      <td>3</td>\n",
       "      <td>4.442089</td>\n",
       "    </tr>\n",
       "    <tr>\n",
       "      <th>75</th>\n",
       "      <td>3차 실험_16회</td>\n",
       "      <td>3</td>\n",
       "      <td>4.048682</td>\n",
       "    </tr>\n",
       "    <tr>\n",
       "      <th>76</th>\n",
       "      <td>3차 실험_17회</td>\n",
       "      <td>3</td>\n",
       "      <td>6.942861</td>\n",
       "    </tr>\n",
       "    <tr>\n",
       "      <th>77</th>\n",
       "      <td>3차 실험_18회</td>\n",
       "      <td>3</td>\n",
       "      <td>4.399902</td>\n",
       "    </tr>\n",
       "    <tr>\n",
       "      <th>78</th>\n",
       "      <td>3차 실험_19회</td>\n",
       "      <td>3</td>\n",
       "      <td>8.003854</td>\n",
       "    </tr>\n",
       "    <tr>\n",
       "      <th>79</th>\n",
       "      <td>3차 실험_20회</td>\n",
       "      <td>3</td>\n",
       "      <td>5.970046</td>\n",
       "    </tr>\n",
       "    <tr>\n",
       "      <th>80</th>\n",
       "      <td>3차 실험_21회</td>\n",
       "      <td>3</td>\n",
       "      <td>6.596934</td>\n",
       "    </tr>\n",
       "    <tr>\n",
       "      <th>81</th>\n",
       "      <td>3차 실험_22회</td>\n",
       "      <td>3</td>\n",
       "      <td>5.223435</td>\n",
       "    </tr>\n",
       "    <tr>\n",
       "      <th>82</th>\n",
       "      <td>3차 실험_23회</td>\n",
       "      <td>3</td>\n",
       "      <td>5.255369</td>\n",
       "    </tr>\n",
       "    <tr>\n",
       "      <th>83</th>\n",
       "      <td>3차 실험_24회</td>\n",
       "      <td>3</td>\n",
       "      <td>6.650749</td>\n",
       "    </tr>\n",
       "    <tr>\n",
       "      <th>84</th>\n",
       "      <td>3차 실험_25회</td>\n",
       "      <td>3</td>\n",
       "      <td>5.509417</td>\n",
       "    </tr>\n",
       "    <tr>\n",
       "      <th>85</th>\n",
       "      <td>3차 실험_26회</td>\n",
       "      <td>3</td>\n",
       "      <td>6.165630</td>\n",
       "    </tr>\n",
       "    <tr>\n",
       "      <th>86</th>\n",
       "      <td>3차 실험_27회</td>\n",
       "      <td>3</td>\n",
       "      <td>3.274902</td>\n",
       "    </tr>\n",
       "    <tr>\n",
       "      <th>87</th>\n",
       "      <td>3차 실험_28회</td>\n",
       "      <td>3</td>\n",
       "      <td>3.449888</td>\n",
       "    </tr>\n",
       "    <tr>\n",
       "      <th>88</th>\n",
       "      <td>3차 실험_29회</td>\n",
       "      <td>3</td>\n",
       "      <td>5.131160</td>\n",
       "    </tr>\n",
       "    <tr>\n",
       "      <th>89</th>\n",
       "      <td>3차 실험_30회</td>\n",
       "      <td>3</td>\n",
       "      <td>5.693524</td>\n",
       "    </tr>\n",
       "    <tr>\n",
       "      <th>90</th>\n",
       "      <td>4차 실험_1회</td>\n",
       "      <td>4</td>\n",
       "      <td>6.248477</td>\n",
       "    </tr>\n",
       "    <tr>\n",
       "      <th>91</th>\n",
       "      <td>4차 실험_2회</td>\n",
       "      <td>4</td>\n",
       "      <td>5.537761</td>\n",
       "    </tr>\n",
       "    <tr>\n",
       "      <th>92</th>\n",
       "      <td>4차 실험_3회</td>\n",
       "      <td>4</td>\n",
       "      <td>6.621068</td>\n",
       "    </tr>\n",
       "    <tr>\n",
       "      <th>93</th>\n",
       "      <td>4차 실험_4회</td>\n",
       "      <td>4</td>\n",
       "      <td>3.231387</td>\n",
       "    </tr>\n",
       "    <tr>\n",
       "      <th>94</th>\n",
       "      <td>4차 실험_5회</td>\n",
       "      <td>4</td>\n",
       "      <td>5.147001</td>\n",
       "    </tr>\n",
       "    <tr>\n",
       "      <th>95</th>\n",
       "      <td>4차 실험_6회</td>\n",
       "      <td>4</td>\n",
       "      <td>5.145644</td>\n",
       "    </tr>\n",
       "    <tr>\n",
       "      <th>96</th>\n",
       "      <td>4차 실험_7회</td>\n",
       "      <td>4</td>\n",
       "      <td>4.280028</td>\n",
       "    </tr>\n",
       "    <tr>\n",
       "      <th>97</th>\n",
       "      <td>4차 실험_8회</td>\n",
       "      <td>4</td>\n",
       "      <td>6.116524</td>\n",
       "    </tr>\n",
       "    <tr>\n",
       "      <th>98</th>\n",
       "      <td>4차 실험_9회</td>\n",
       "      <td>4</td>\n",
       "      <td>5.158018</td>\n",
       "    </tr>\n",
       "    <tr>\n",
       "      <th>99</th>\n",
       "      <td>4차 실험_10회</td>\n",
       "      <td>4</td>\n",
       "      <td>4.805715</td>\n",
       "    </tr>\n",
       "  </tbody>\n",
       "</table>\n",
       "<p>100 rows × 3 columns</p>\n",
       "</div>"
      ],
      "text/plain": [
       "        trial  sample_size  sample_mean\n",
       "0    1차 실험_1회            1     3.725014\n",
       "1    1차 실험_2회            1     4.377617\n",
       "2    1차 실험_3회            1     7.858824\n",
       "3    1차 실험_4회            1     3.027112\n",
       "4    1차 실험_5회            1     6.920331\n",
       "5    1차 실험_6회            1     5.107692\n",
       "6    1차 실험_7회            1     7.494300\n",
       "7    1차 실험_8회            1     4.352693\n",
       "8    1차 실험_9회            1     3.137153\n",
       "9   1차 실험_10회            1     6.409119\n",
       "10  1차 실험_11회            1     3.225957\n",
       "11  1차 실험_12회            1     5.491516\n",
       "12  1차 실험_13회            1     5.038791\n",
       "13  1차 실험_14회            1     4.716635\n",
       "14  1차 실험_15회            1     4.097859\n",
       "15  1차 실험_16회            1     5.233182\n",
       "16  1차 실험_17회            1     8.686198\n",
       "17  1차 실험_18회            1     6.876702\n",
       "18  1차 실험_19회            1     8.694307\n",
       "19  1차 실험_20회            1     6.857307\n",
       "20  1차 실험_21회            1     6.436906\n",
       "21  1차 실험_22회            1     8.503760\n",
       "22  1차 실험_23회            1     4.244417\n",
       "23  1차 실험_24회            1     7.064993\n",
       "24  1차 실험_25회            1     5.940646\n",
       "25  1차 실험_26회            1     7.531066\n",
       "26  1차 실험_27회            1     6.989278\n",
       "27  1차 실험_28회            1     5.982485\n",
       "28  1차 실험_29회            1     6.001799\n",
       "29  1차 실험_30회            1     4.148932\n",
       "..        ...          ...          ...\n",
       "70  3차 실험_11회            3     4.501252\n",
       "71  3차 실험_12회            3     5.874706\n",
       "72  3차 실험_13회            3     6.165751\n",
       "73  3차 실험_14회            3     3.994964\n",
       "74  3차 실험_15회            3     4.442089\n",
       "75  3차 실험_16회            3     4.048682\n",
       "76  3차 실험_17회            3     6.942861\n",
       "77  3차 실험_18회            3     4.399902\n",
       "78  3차 실험_19회            3     8.003854\n",
       "79  3차 실험_20회            3     5.970046\n",
       "80  3차 실험_21회            3     6.596934\n",
       "81  3차 실험_22회            3     5.223435\n",
       "82  3차 실험_23회            3     5.255369\n",
       "83  3차 실험_24회            3     6.650749\n",
       "84  3차 실험_25회            3     5.509417\n",
       "85  3차 실험_26회            3     6.165630\n",
       "86  3차 실험_27회            3     3.274902\n",
       "87  3차 실험_28회            3     3.449888\n",
       "88  3차 실험_29회            3     5.131160\n",
       "89  3차 실험_30회            3     5.693524\n",
       "90   4차 실험_1회            4     6.248477\n",
       "91   4차 실험_2회            4     5.537761\n",
       "92   4차 실험_3회            4     6.621068\n",
       "93   4차 실험_4회            4     3.231387\n",
       "94   4차 실험_5회            4     5.147001\n",
       "95   4차 실험_6회            4     5.145644\n",
       "96   4차 실험_7회            4     4.280028\n",
       "97   4차 실험_8회            4     6.116524\n",
       "98   4차 실험_9회            4     5.158018\n",
       "99  4차 실험_10회            4     4.805715\n",
       "\n",
       "[100 rows x 3 columns]"
      ]
     },
     "execution_count": 5,
     "metadata": {},
     "output_type": "execute_result"
    }
   ],
   "source": [
    "# 저장된 값을 몇개만 살펴봅시다.\n",
    "df_vz.head(100)"
   ]
  },
  {
   "cell_type": "markdown",
   "metadata": {},
   "source": [
    "③ 샘플의 평균들의 분포를 시각화해 봅시다."
   ]
  },
  {
   "cell_type": "code",
   "execution_count": 6,
   "metadata": {},
   "outputs": [
    {
     "data": {
      "image/png": "[encoded data removed]",
      "text/plain": [
       "<Figure size 432x288 with 1 Axes>"
      ]
     },
     "metadata": {
      "needs_background": "light"
     },
     "output_type": "display_data"
    }
   ],
   "source": [
    "df_vz.plot(kind= 'scatter', x='sample_size', y ='sample_mean')\n",
    "plt.show()"
   ]
  },
  {
   "cell_type": "markdown",
   "metadata": {},
   "source": [
    "샘플 평균들의 평균과 표준편차를 구해서 시각화해 보면"
   ]
  },
  {
   "cell_type": "code",
   "execution_count": 8,
   "metadata": {},
   "outputs": [
    {
     "data": {
      "image/png": "[encoded data removed]",
      "text/plain": [
       "<Figure size 432x288 with 1 Axes>"
      ]
     },
     "metadata": {
      "needs_background": "light"
     },
     "output_type": "display_data"
    }
   ],
   "source": [
    "df_mean = df_vz.groupby('sample_size', as_index = False)[['sample_mean']].mean()\n",
    "df_mean.plot(kind= 'line', x='sample_size', y ='sample_mean')\n",
    "plt.show()"
   ]
  },
  {
   "cell_type": "code",
   "execution_count": 9,
   "metadata": {},
   "outputs": [
    {
     "data": {
      "image/png": "[encoded data removed]",
      "text/plain": [
       "<Figure size 432x288 with 1 Axes>"
      ]
     },
     "metadata": {
      "needs_background": "light"
     },
     "output_type": "display_data"
    }
   ],
   "source": [
    "df_std = df_vz.groupby('sample_size', as_index = False)[['sample_mean']].std()\n",
    "df_std.plot(kind= 'line', x='sample_size', y ='sample_mean')\n",
    "plt.show()"
   ]
  },
  {
   "cell_type": "markdown",
   "metadata": {},
   "source": [
    "## 1. Comparative Type Test"
   ]
  },
  {
   "cell_type": "markdown",
   "metadata": {},
   "source": [
    "### ① T-test\n",
    "\n",
    " * 우리는 데이터가 너무 부족한 경우는 다루지 않는다.\n",
    " * 샘플 사이즈가 30개 쯤 넘어가면 T-test는 Z-test와 차이가 없어진다. 그러니 T-Test만 이용한다. "
   ]
  },
  {
   "cell_type": "markdown",
   "metadata": {},
   "source": [
    "### Case1. One-sample t-test\n",
    "**상황**  \n",
    "* A채널의 배너를 클릭하여 들어오는 고객님들의 평균 지출 금액은 5만원이다.\n",
    "* A채널의 디자인에서 브랜드의 배너가 잘 눈에 띄지 않는 것 같아서, 기각 했던 예전의 배너 B를 올리려 한다.\n",
    "* B배너는 색감이 강렬한 편이다. 과연 효과가 있을까?\n",
    "\n",
    "**가정**\n",
    "* B배너를 이용하면, 고객님들의 평균 지출 금액이 5만5천원 정도로 향상 될 것으로 기대되지만 우리는 그 사실을 모른다.\n",
    "* 그래서 시뮬레이션 할 예정\n",
    "* 하루에 약 10명 정도 배너를 클릭해준다. B로 바꿔도 그렇다고 하자.\n",
    "* 앞으로 A채널에 배너를 달 수 있는 기간은 60일 동안이다.\n",
    "\n",
    "\n",
    "**귀무 가설 : B배너로 해도 평균 지출 금액 5만원**<br>\n",
    "**대립 가설 : B배너로 하면 지금 보단 나을 듯.**<br>"
   ]
  },
  {
   "cell_type": "code",
   "execution_count": 10,
   "metadata": {},
   "outputs": [],
   "source": [
    "# 60일 총 600명에 대한 모집단을 임의로 만들어서 저장합니다.\n",
    "np.random.seed(2019)\n",
    "# mean_spent = 5.5\n",
    "people_from_B = np.random.normal(loc = 5, scale = 2, size = 600) \\\n",
    "                            + np.random.uniform(size = 600)"
   ]
  },
  {
   "cell_type": "code",
   "execution_count": 12,
   "metadata": {},
   "outputs": [
    {
     "data": {
      "text/plain": [
       "Ttest_1sampResult(statistic=5.810272049873847, pvalue=1.013619414110334e-08)"
      ]
     },
     "execution_count": 12,
     "metadata": {},
     "output_type": "execute_result"
    }
   ],
   "source": [
    "# 당연하게도, 600명 전체를 대상으로 하면, 대립 가설이 맞다고 나온다.\n",
    "# spst.ttest_1samp(대립가설, 귀무가설)\n",
    "spst.ttest_1samp(people_from_B, popmean = 5)\n"
   ]
  },
  {
   "cell_type": "markdown",
   "metadata": {},
   "source": [
    "**pvalue** : 1.013619414110334e-08 라는 뜻은, 1이 소수점 아래 8번째 부터 등장한다는 것이다.\n",
    "\n",
    "* 정직한 설명 : 귀무가설이 참이라는 전제하에 이렇게 데이터가 관찰될 확률이 0.0....01%정도라는 뜻이다.\n",
    "* 발칙한 설명 : 기존 배너보다 나을 확률이 99%를 넘는다는 뜻이다.\n",
    "\n",
    "Chance to Beal Original을 검색하여 공부해보자.  기본 공식은 1-pvalue이다. 대립가설이 옳을 확률"
   ]
  },
  {
   "cell_type": "markdown",
   "metadata": {},
   "source": [
    "**statistic** : 5.810272049873847  \n",
    "* 신호/노이즈가 5.8, 즉 신호가 노이즈보다 5.8배 높다는 뜻"
   ]
  },
  {
   "cell_type": "markdown",
   "metadata": {},
   "source": [
    "하지만, 우리는 전체 데이터가 없다. 전체 데이터를 수집하려면 B배너를 달고 60일 동안 있어야 하는데,\n",
    "우리는 B배너를 달지 말지 고민해야 하는 단계 이다. 데이터가 없다!\n",
    "\n",
    "그래서 '샘플링'해서 시뮬레이션을 시도하고,  \n",
    "T-test해보자."
   ]
  },
  {
   "cell_type": "markdown",
   "metadata": {},
   "source": [
    "**실습T1**\n",
    "\n",
    "1. 하루만 실험해서 T-test의 결과를 확인해보자. (위에서 언급했듯이 하루에 10명만 클릭한다고 가정했다.)\n",
    "2. 2일, 3일, 4일 실험해서 T-test의 결과를 확인해보자.\n",
    "\n",
    "1,2를 여러번 반복해보자. 실험계획을 해야 한다면, B배너를 실험적으로 며칠이나 노출시켜 보겠는가?"
   ]
  },
  {
   "cell_type": "code",
   "execution_count": 28,
   "metadata": {},
   "outputs": [
    {
     "data": {
      "text/plain": [
       "array([3.13715257, 7.92188336, 4.1166032 , 4.6395563 , 8.56255264,\n",
       "       6.29681041, 6.56767306, 4.30687408, 1.09390671, 6.56021974])"
      ]
     },
     "execution_count": 28,
     "metadata": {},
     "output_type": "execute_result"
    }
   ],
   "source": [
    "# np.random.choice를 이용하여 추출하고,\n",
    "a = np.random.choice( people_from_B , 10,replace= False)\n",
    "a"
   ]
  },
  {
   "cell_type": "code",
   "execution_count": 34,
   "metadata": {},
   "outputs": [
    {
     "data": {
      "text/plain": [
       "Ttest_1sampResult(statistic=0.7251475088200434, pvalue=0.48678659836792104)"
      ]
     },
     "execution_count": 34,
     "metadata": {},
     "output_type": "execute_result"
    }
   ],
   "source": [
    "# spst.ttest_1samp 를 이용하여 one-sample T-test를 수행해 봅시다.\n",
    "spst.ttest_1samp(a, popmean = 5)\n"
   ]
  },
  {
   "cell_type": "code",
   "execution_count": 44,
   "metadata": {},
   "outputs": [
    {
     "name": "stdout",
     "output_type": "stream",
     "text": [
      "[0.02835693914672027, 0.014215676516852549, 0.0017438390105461539, 0.07438371432325609, 0.0001830342669139709, 0.06364642459226752, 0.01551254317092901, 0.00010446921891312847, 0.003474963631092969, 0.0020268119698778875]\n"
     ]
    }
   ],
   "source": [
    "b = []\n",
    "for i in range(10):\n",
    "    a = np.random.choice( people_from_B , 200,replace= False)\n",
    "    b.append(spst.ttest_1samp(a, popmean = 5)[1])\n",
    "print(b)"
   ]
  },
  {
   "cell_type": "markdown",
   "metadata": {},
   "source": [
    "### Case2. Two-sample t-test\n",
    "\n",
    "홈페이지 구축 중에, 메뉴 디자인A와 B를 두고 논쟁이 일어났다.\n",
    "고객에게 맡기자!\n",
    "\n",
    "**가정**\n",
    "* A디자인을 이용하면, 고객님들 중 20%는 클릭해준다.(아직은 모른다)\n",
    "* B디자인을 이용하면, 고객님들 중 25%는 클릭해준다.(역시 아직은 모른다)\n",
    "* 그래서 시뮬레이션 할 예정\n",
    "* 하루에 약 100명 정도 홈페이지를 방문해준다.(아직 초창기다.)\n",
    "\n",
    "**귀무 가설 : A, B 어떤 디자인이어도 CTR은 같다.**<br>\n",
    "**대립 가설 : CTR은 A, B냐에 따라 차이가 있을 것이다.**<br>"
   ]
  },
  {
   "cell_type": "code",
   "execution_count": 111,
   "metadata": {},
   "outputs": [],
   "source": [
    "np.random.seed(2019)\n",
    "# 역시 아래는 모집단을 만든 것으로 우리는 CTR를 모른다고 가정한다.\n",
    "people_from_A = np.random.binomial(1, 0.2, size=10000)\n",
    "people_from_B = np.random.binomial(1, 0.25, size=10000)"
   ]
  },
  {
   "cell_type": "code",
   "execution_count": 112,
   "metadata": {},
   "outputs": [
    {
     "data": {
      "text/plain": [
       "array([25, 19, 21, ..., 20, 20, 25])"
      ]
     },
     "execution_count": 112,
     "metadata": {},
     "output_type": "execute_result"
    }
   ],
   "source": [
    "people_from_A"
   ]
  },
  {
   "cell_type": "markdown",
   "metadata": {},
   "source": [
    "**조건이 있다.**\n",
    "* 위에서 만든 데이터 A와 B의 인덱스 번호가 같으면 같은 사람이다.\n",
    "* 그리고 한 사람은 A 혹은 B 둘 중 하나의 디자인만 볼 수 있다."
   ]
  },
  {
   "cell_type": "code",
   "execution_count": 52,
   "metadata": {},
   "outputs": [
    {
     "data": {
      "text/plain": [
       "Ttest_indResult(statistic=-8.566294220690699, pvalue=1.1454883039955057e-17)"
      ]
     },
     "execution_count": 52,
     "metadata": {},
     "output_type": "execute_result"
    }
   ],
   "source": [
    "# 당연하게도 전체를 대상으로 하면, 대립 가설이 맞다고 나온다.\n",
    "# 그런데 그런 데이터는 얻을 수도 없다. \n",
    "# 또한 한 사람이 동시에 A와 B를 보고 있을 수는 없기에 아래 test는 부적절하다.\n",
    "\n",
    "spst.ttest_ind(people_from_A, people_from_B, equal_var=False)"
   ]
  },
  {
   "cell_type": "markdown",
   "metadata": {},
   "source": [
    "샘플링하여 T-test 해보자.\n",
    "\n",
    "\n",
    "**실습T2**\n",
    "\n",
    "1. 하루만 실험해서 T-test의 결과를 확인해보자.\n",
    "2. 2일, 3일, 4일 실험해서 T-test의 결과를 확인해보자.\n",
    "\n",
    "1,2를 여러번 반복해보자. 실험계획을 해야 한다면, B배너를 실험적으로 며칠이나 노출시켜 보겠는가?"
   ]
  },
  {
   "cell_type": "code",
   "execution_count": 54,
   "metadata": {},
   "outputs": [
    {
     "data": {
      "text/plain": [
       "array([6534, 4722, 3936, 6160,  502, 5365, 1643, 7714, 2306, 9847, 1157,\n",
       "         73, 3115, 2718,  697,  457, 1986, 7268, 7916, 6497, 7856, 8256,\n",
       "       1552, 9270, 9757, 7726, 6258, 4454, 6858, 5608, 2868, 1178, 8434,\n",
       "       5743, 7719, 6580,  340, 3671, 4996, 2881, 4703, 1864, 4766,  768,\n",
       "       2777, 2352, 5264, 1532, 8249, 2751, 4823, 8263, 6223, 4207,   72,\n",
       "       8485,  613, 1470, 7764, 5602, 7493, 9891, 7835, 5091, 7007, 5230,\n",
       "       4496, 1742, 8239, 6118, 3432, 1750, 9056, 3565, 5192, 5755, 4791,\n",
       "       1075, 3917, 9680, 8757, 9934, 7024, 8855, 5240, 2762, 3839, 5791,\n",
       "       2545, 1369,  819, 4977, 4694, 5434, 2052, 3771, 2124, 8010, 2483,\n",
       "        147])"
      ]
     },
     "execution_count": 54,
     "metadata": {},
     "output_type": "execute_result"
    }
   ],
   "source": [
    "# 하루에 100명 방문하므로\n",
    "# 1~10000 사이에서 100개의 인덱스(회원번호, 사람번호 등 의미)를 추출하자.\n",
    "idx = np.random.choice(10000, 100, replace = False)\n",
    "idx"
   ]
  },
  {
   "cell_type": "code",
   "execution_count": 59,
   "metadata": {},
   "outputs": [
    {
     "data": {
      "text/plain": [
       "[0.08715653867975878,\n",
       " 0.24712790928233924,\n",
       " 0.8403041297190446,\n",
       " 0.6066687124767951,\n",
       " 0.9451176279400672,\n",
       " 0.06380792965741292,\n",
       " 0.5606464000417997,\n",
       " 0.3672652921073881,\n",
       " 0.13510934354007395,\n",
       " 0.49491695608630204,\n",
       " 0.017488202738818813,\n",
       " 0.14788388278634026,\n",
       " 0.20892575422764464,\n",
       " 0.6138086266611775,\n",
       " 0.2373686080172734,\n",
       " 0.11863897391517611,\n",
       " 0.7427133660863092,\n",
       " 0.6973378920333706,\n",
       " 0.9716843353358128,\n",
       " 0.06290257306464986,\n",
       " 0.7834751302961418,\n",
       " 0.057832432027536455,\n",
       " 0.5592090484987853,\n",
       " 0.24712790928233924,\n",
       " 0.7770199441439763,\n",
       " 0.08536145339743376,\n",
       " 0.3452941663757165,\n",
       " 0.4029722987948504,\n",
       " 0.07204089521540441,\n",
       " 0.03418439061909884]"
      ]
     },
     "execution_count": 59,
     "metadata": {},
     "output_type": "execute_result"
    }
   ],
   "source": [
    "# 위에서 추출된 100개의 번호(인덱스)를 무작위로 A와 B 배너쪽에 할당하자.\n",
    "# 위에서 추출한 방식 자체가 무작위추출이므로 100개의 번호 순서도 무작위로 되어 있다.\n",
    "# 그러므로 그냥 반을 나누서 idx[:50]는 A, idx[50:]는 B에 할당하면 된다.\n",
    "aa = []\n",
    "for i in range(30):\n",
    "    idx = np.random.choice(10000, 500, replace = False)\n",
    "    aa.append(spst.ttest_ind(people_from_A[idx[:50]], people_from_B[idx[50:]], equal_var=False)[1])\n",
    "aa  "
   ]
  },
  {
   "cell_type": "code",
   "execution_count": null,
   "metadata": {},
   "outputs": [],
   "source": [
    "# A와 B로 부터 추출한 리스트(0 혹은 1로 구성된)로 2 sample T test를 수행해보자.\n",
    "\n"
   ]
  },
  {
   "cell_type": "code",
   "execution_count": null,
   "metadata": {},
   "outputs": [],
   "source": [
    "# 위 실습의 샘플 크기를 1일에서 2~4일로 늘려가며 테스트해보자\n"
   ]
  },
  {
   "cell_type": "code",
   "execution_count": null,
   "metadata": {},
   "outputs": [],
   "source": []
  },
  {
   "cell_type": "code",
   "execution_count": null,
   "metadata": {},
   "outputs": [],
   "source": []
  },
  {
   "cell_type": "code",
   "execution_count": null,
   "metadata": {},
   "outputs": [],
   "source": []
  },
  {
   "cell_type": "markdown",
   "metadata": {},
   "source": [
    "### Case3. Paired t-test\n",
    "\n",
    "에스케이 피트니스 센터에서 단 1주일 만에 체중을 감량시키는 훈련 프로그램을 개발하였습니다.  \n",
    "이 훈련 프로그램에 참여한 회원 30명에 대해서 참여 전 몸무게와 참여 후 몸무게를 측정하였습니다.\n",
    "\n",
    "**귀무 가설 : 참여 전과 후의 몸무게는 같다.**(3일 다이어트 훈련 프로그램이라니!!)<br>\n",
    "**대립 가설 : 참여 전과 후의 몸무게에 차이가 있을 것이다.**<br>\n",
    "\n",
    "Paired T-Test는, 각각의 데이터가 서로 관련이 있을 경우(같은 인덱스의 값이 동일인 인 경우) 사용할 수 있습니다.  \n",
    "\n",
    "여기는 먼저 코드를 감상합시다."
   ]
  },
  {
   "cell_type": "code",
   "execution_count": 113,
   "metadata": {},
   "outputs": [],
   "source": [
    "np.random.seed(2019)\n",
    "\n",
    "before = np.random.normal(80, 10, 30)\n",
    "after = before + np.random.uniform(-10,3, 30)"
   ]
  },
  {
   "cell_type": "code",
   "execution_count": 116,
   "metadata": {},
   "outputs": [],
   "source": [
    "weight =pd.DataFrame({'before':before, 'after':after})"
   ]
  },
  {
   "cell_type": "code",
   "execution_count": 117,
   "metadata": {},
   "outputs": [
    {
     "data": {
      "text/html": [
       "<div>\n",
       "<style scoped>\n",
       "    .dataframe tbody tr th:only-of-type {\n",
       "        vertical-align: middle;\n",
       "    }\n",
       "\n",
       "    .dataframe tbody tr th {\n",
       "        vertical-align: top;\n",
       "    }\n",
       "\n",
       "    .dataframe thead th {\n",
       "        text-align: right;\n",
       "    }\n",
       "</style>\n",
       "<table border=\"1\" class=\"dataframe\">\n",
       "  <thead>\n",
       "    <tr style=\"text-align: right;\">\n",
       "      <th></th>\n",
       "      <th>before</th>\n",
       "      <th>after</th>\n",
       "    </tr>\n",
       "  </thead>\n",
       "  <tbody>\n",
       "    <tr>\n",
       "      <th>0</th>\n",
       "      <td>77.823210</td>\n",
       "      <td>71.781501</td>\n",
       "    </tr>\n",
       "    <tr>\n",
       "      <th>1</th>\n",
       "      <td>88.214554</td>\n",
       "      <td>80.134135</td>\n",
       "    </tr>\n",
       "    <tr>\n",
       "      <th>2</th>\n",
       "      <td>94.812778</td>\n",
       "      <td>92.272419</td>\n",
       "    </tr>\n",
       "    <tr>\n",
       "      <th>3</th>\n",
       "      <td>93.318640</td>\n",
       "      <td>94.544882</td>\n",
       "    </tr>\n",
       "    <tr>\n",
       "      <th>4</th>\n",
       "      <td>76.381346</td>\n",
       "      <td>70.584239</td>\n",
       "    </tr>\n",
       "    <tr>\n",
       "      <th>5</th>\n",
       "      <td>86.856088</td>\n",
       "      <td>80.439531</td>\n",
       "    </tr>\n",
       "    <tr>\n",
       "      <th>6</th>\n",
       "      <td>85.737614</td>\n",
       "      <td>84.606050</td>\n",
       "    </tr>\n",
       "    <tr>\n",
       "      <th>7</th>\n",
       "      <td>82.877277</td>\n",
       "      <td>75.365559</td>\n",
       "    </tr>\n",
       "    <tr>\n",
       "      <th>8</th>\n",
       "      <td>77.643657</td>\n",
       "      <td>75.196976</td>\n",
       "    </tr>\n",
       "    <tr>\n",
       "      <th>9</th>\n",
       "      <td>89.534902</td>\n",
       "      <td>90.748160</td>\n",
       "    </tr>\n",
       "    <tr>\n",
       "      <th>10</th>\n",
       "      <td>63.103747</td>\n",
       "      <td>56.152593</td>\n",
       "    </tr>\n",
       "    <tr>\n",
       "      <th>11</th>\n",
       "      <td>76.550573</td>\n",
       "      <td>70.318647</td>\n",
       "    </tr>\n",
       "    <tr>\n",
       "      <th>12</th>\n",
       "      <td>80.169049</td>\n",
       "      <td>75.146146</td>\n",
       "    </tr>\n",
       "    <tr>\n",
       "      <th>13</th>\n",
       "      <td>74.850165</td>\n",
       "      <td>69.395016</td>\n",
       "    </tr>\n",
       "    <tr>\n",
       "      <th>14</th>\n",
       "      <td>82.445093</td>\n",
       "      <td>76.719412</td>\n",
       "    </tr>\n",
       "    <tr>\n",
       "      <th>15</th>\n",
       "      <td>78.106874</td>\n",
       "      <td>80.329147</td>\n",
       "    </tr>\n",
       "    <tr>\n",
       "      <th>16</th>\n",
       "      <td>106.721724</td>\n",
       "      <td>97.216063</td>\n",
       "    </tr>\n",
       "    <tr>\n",
       "      <th>17</th>\n",
       "      <td>84.648025</td>\n",
       "      <td>84.747011</td>\n",
       "    </tr>\n",
       "    <tr>\n",
       "      <th>18</th>\n",
       "      <td>88.459304</td>\n",
       "      <td>83.459685</td>\n",
       "    </tr>\n",
       "    <tr>\n",
       "      <th>19</th>\n",
       "      <td>74.964584</td>\n",
       "      <td>74.281993</td>\n",
       "    </tr>\n",
       "    <tr>\n",
       "      <th>20</th>\n",
       "      <td>70.366645</td>\n",
       "      <td>66.248691</td>\n",
       "    </tr>\n",
       "    <tr>\n",
       "      <th>21</th>\n",
       "      <td>80.649686</td>\n",
       "      <td>79.736197</td>\n",
       "    </tr>\n",
       "    <tr>\n",
       "      <th>22</th>\n",
       "      <td>47.949598</td>\n",
       "      <td>42.546664</td>\n",
       "    </tr>\n",
       "    <tr>\n",
       "      <th>23</th>\n",
       "      <td>90.549694</td>\n",
       "      <td>90.874741</td>\n",
       "    </tr>\n",
       "    <tr>\n",
       "      <th>24</th>\n",
       "      <td>88.072767</td>\n",
       "      <td>81.935229</td>\n",
       "    </tr>\n",
       "    <tr>\n",
       "      <th>25</th>\n",
       "      <td>84.741406</td>\n",
       "      <td>77.999701</td>\n",
       "    </tr>\n",
       "    <tr>\n",
       "      <th>26</th>\n",
       "      <td>84.109282</td>\n",
       "      <td>85.182557</td>\n",
       "    </tr>\n",
       "    <tr>\n",
       "      <th>27</th>\n",
       "      <td>84.866893</td>\n",
       "      <td>85.469965</td>\n",
       "    </tr>\n",
       "    <tr>\n",
       "      <th>28</th>\n",
       "      <td>74.644703</td>\n",
       "      <td>70.290460</td>\n",
       "    </tr>\n",
       "    <tr>\n",
       "      <th>29</th>\n",
       "      <td>71.610921</td>\n",
       "      <td>71.537665</td>\n",
       "    </tr>\n",
       "  </tbody>\n",
       "</table>\n",
       "</div>"
      ],
      "text/plain": [
       "        before      after\n",
       "0    77.823210  71.781501\n",
       "1    88.214554  80.134135\n",
       "2    94.812778  92.272419\n",
       "3    93.318640  94.544882\n",
       "4    76.381346  70.584239\n",
       "5    86.856088  80.439531\n",
       "6    85.737614  84.606050\n",
       "7    82.877277  75.365559\n",
       "8    77.643657  75.196976\n",
       "9    89.534902  90.748160\n",
       "10   63.103747  56.152593\n",
       "11   76.550573  70.318647\n",
       "12   80.169049  75.146146\n",
       "13   74.850165  69.395016\n",
       "14   82.445093  76.719412\n",
       "15   78.106874  80.329147\n",
       "16  106.721724  97.216063\n",
       "17   84.648025  84.747011\n",
       "18   88.459304  83.459685\n",
       "19   74.964584  74.281993\n",
       "20   70.366645  66.248691\n",
       "21   80.649686  79.736197\n",
       "22   47.949598  42.546664\n",
       "23   90.549694  90.874741\n",
       "24   88.072767  81.935229\n",
       "25   84.741406  77.999701\n",
       "26   84.109282  85.182557\n",
       "27   84.866893  85.469965\n",
       "28   74.644703  70.290460\n",
       "29   71.610921  71.537665"
      ]
     },
     "execution_count": 117,
     "metadata": {},
     "output_type": "execute_result"
    }
   ],
   "source": [
    "weight"
   ]
  },
  {
   "cell_type": "code",
   "execution_count": 118,
   "metadata": {},
   "outputs": [
    {
     "data": {
      "text/plain": [
       "<matplotlib.axes._subplots.AxesSubplot at 0xc263438>"
      ]
     },
     "execution_count": 118,
     "metadata": {},
     "output_type": "execute_result"
    },
    {
     "data": {
      "image/png": "[encoded data removed]",
      "text/plain": [
       "<Figure size 432x288 with 2 Axes>"
      ]
     },
     "metadata": {
      "needs_background": "light"
     },
     "output_type": "display_data"
    }
   ],
   "source": [
    "plt.subplot(1,2,1)\n",
    "weight['before'].plot(kind = 'box', ylim = (50,100))\n",
    "\n",
    "plt.subplot(1,2,2)\n",
    "weight['after'].plot(kind = 'box', ylim = (50,100))"
   ]
  },
  {
   "cell_type": "code",
   "execution_count": 119,
   "metadata": {},
   "outputs": [],
   "source": [
    "weight['diff'] = weight['before'] - weight['after']"
   ]
  },
  {
   "cell_type": "code",
   "execution_count": 120,
   "metadata": {},
   "outputs": [
    {
     "data": {
      "text/plain": [
       "Ttest_relResult(statistic=5.755395332208213, pvalue=3.1221904501479888e-06)"
      ]
     },
     "execution_count": 120,
     "metadata": {},
     "output_type": "execute_result"
    }
   ],
   "source": [
    "spst.ttest_rel(before, after) # 얘가 Paried t-test"
   ]
  },
  {
   "cell_type": "code",
   "execution_count": 121,
   "metadata": {},
   "outputs": [
    {
     "data": {
      "text/plain": [
       "Ttest_indResult(statistic=1.2480434943647793, pvalue=0.2170501234846975)"
      ]
     },
     "execution_count": 121,
     "metadata": {},
     "output_type": "execute_result"
    }
   ],
   "source": [
    "spst.ttest_ind(before, after, equal_var=False) # Two sample test"
   ]
  },
  {
   "cell_type": "code",
   "execution_count": 122,
   "metadata": {},
   "outputs": [
    {
     "data": {
      "text/plain": [
       "Ttest_1sampResult(statistic=5.755395332208213, pvalue=3.1221904501479888e-06)"
      ]
     },
     "execution_count": 122,
     "metadata": {},
     "output_type": "execute_result"
    }
   ],
   "source": [
    "spst.ttest_1samp(weight['diff'], popmean = 0) # One sample test"
   ]
  },
  {
   "cell_type": "code",
   "execution_count": 123,
   "metadata": {},
   "outputs": [
    {
     "data": {
      "text/plain": [
       "3.5173255495705575"
      ]
     },
     "execution_count": 123,
     "metadata": {},
     "output_type": "execute_result"
    }
   ],
   "source": [
    "before.mean() - after.mean()"
   ]
  },
  {
   "cell_type": "markdown",
   "metadata": {},
   "source": [
    "#### 실습 T3"
   ]
  },
  {
   "cell_type": "code",
   "execution_count": null,
   "metadata": {},
   "outputs": [],
   "source": [
    "# Q1. paired t-test시, pvalue는?\n",
    "\n"
   ]
  },
  {
   "cell_type": "code",
   "execution_count": null,
   "metadata": {},
   "outputs": [],
   "source": [
    "# Q2. two-sample t-test시, pvalue는?\n",
    "\n"
   ]
  },
  {
   "cell_type": "code",
   "execution_count": null,
   "metadata": {},
   "outputs": [],
   "source": [
    "# Q3. 결과가 어떻게 다른가, 어디를 신뢰해야 하는가?\n",
    "\n"
   ]
  },
  {
   "cell_type": "code",
   "execution_count": null,
   "metadata": {},
   "outputs": [],
   "source": [
    "# Q4. before와 after 각각의 평균과 표준편차를 구해보자. 그리고, 시각화 하여 비교해보자.\n",
    "\n"
   ]
  },
  {
   "cell_type": "code",
   "execution_count": null,
   "metadata": {},
   "outputs": [],
   "source": [
    "# Q5. before - after로 계산된 diff(체중증감) 변수를 추가하고, diff의 평균과 표준편차를 구해보자. \n",
    "# 그리고 시각화 해 보자.\n",
    "\n"
   ]
  },
  {
   "cell_type": "code",
   "execution_count": null,
   "metadata": {},
   "outputs": [],
   "source": [
    "# Q6. 다시, 어떤 테스트가 더 합당한가?\n",
    "\n"
   ]
  },
  {
   "cell_type": "markdown",
   "metadata": {},
   "source": [
    "### Case4. Analysis of Variance (ANOVA)\n",
    "\n",
    "\n",
    "나에게 주어진 예산은 300만원<br>\n",
    "내 눈 앞에는 슬롯머신이 3대<br>\n",
    "가장 돈을 많이 벌 것 같은 슬롯머신을 찾고 싶은데...\n",
    "\n",
    "\n",
    "**가정**\n",
    "* 한번 땡길때 마다 1000원이 든다.\n",
    "* A머신을 이용하면, 9% 확률로 10000원을 번다.(아직 모른다)\n",
    "* B머신을 이용하면, 10% 확률로 10000원을 번다.(아직 모른다)\n",
    "* C머신을 이용하면, 8% 확률로 10000원을 번다.(아직 모른다)\n",
    "* 머신당 10만원을 사용하여 실험해보기로 하자!\n",
    "\n",
    "**사용 금액 대비 얻게 될 금액의 기댓값을 구해보는 것도 재미있을 것이다.**<br>\n",
    "\n",
    "\n",
    "다음, 귀무가설과 대립가설의 구조를 '정확히'이해하자.\n",
    "\n",
    "**귀무가설 : A,B,C 다 똑같다**  \n",
    "**대립가설 : A,B,C 중 '무언가 하나는' 다를 것이다.**\n",
    "\n",
    "대립가설 조심, A, B, C 중 뭐가 다르고, 얼마나 다르고 등은 전혀 알 수 없다. 따로 계산해야 한다."
   ]
  },
  {
   "cell_type": "code",
   "execution_count": 70,
   "metadata": {},
   "outputs": [],
   "source": [
    "np.random.seed(2019)\n",
    "\n",
    "a_machine = np.random.binomial(1, 0.09, 3000)*10000\n",
    "b_machine = np.random.binomial(1, 0.10, 3000)*10000\n",
    "c_machine = np.random.binomial(1, 0.08, 3000)*10000"
   ]
  },
  {
   "cell_type": "code",
   "execution_count": 71,
   "metadata": {},
   "outputs": [
    {
     "data": {
      "text/plain": [
       "array([    0,     0,     0,     0,     0,     0,     0,     0,     0,\n",
       "           0,     0,     0,     0,     0,     0, 10000,     0,     0,\n",
       "           0,     0])"
      ]
     },
     "execution_count": 71,
     "metadata": {},
     "output_type": "execute_result"
    }
   ],
   "source": [
    "a_machine[:20]"
   ]
  },
  {
   "cell_type": "code",
   "execution_count": 74,
   "metadata": {},
   "outputs": [
    {
     "data": {
      "text/plain": [
       "array([    0,     0,     0,     0, 10000,     0,     0,     0,     0,\n",
       "           0, 10000,     0,     0,     0,     0,     0,     0,     0,\n",
       "           0,     0])"
      ]
     },
     "execution_count": 74,
     "metadata": {},
     "output_type": "execute_result"
    }
   ],
   "source": [
    "b_machine[:20]"
   ]
  },
  {
   "cell_type": "code",
   "execution_count": 75,
   "metadata": {},
   "outputs": [
    {
     "data": {
      "text/plain": [
       "array([    0,     0,     0,     0, 10000,     0,     0,     0,     0,\n",
       "           0,     0,     0,     0,     0,     0,     0,     0,     0,\n",
       "       10000,     0])"
      ]
     },
     "execution_count": 75,
     "metadata": {},
     "output_type": "execute_result"
    }
   ],
   "source": [
    "c_machine[:20]"
   ]
  },
  {
   "cell_type": "code",
   "execution_count": 72,
   "metadata": {},
   "outputs": [
    {
     "data": {
      "text/plain": [
       "F_onewayResult(statistic=3.98971736112853, pvalue=0.018537692867904416)"
      ]
     },
     "execution_count": 72,
     "metadata": {},
     "output_type": "execute_result"
    }
   ],
   "source": [
    "spst.f_oneway(a_machine, b_machine, c_machine)"
   ]
  },
  {
   "cell_type": "markdown",
   "metadata": {},
   "source": [
    "##### 정석적인 해석 : 귀무가설이 참일 때, 이러한 데이터가 관측될 확률은 1.85% 정도이다. (1.85%확률을 뚫고 이런 데이터가 관측될 수도 있다.)\n",
    "\n",
    "발칙한 해석 : 뭔가 하나는 차이가 날 확률이 98%는 넘는다.\n",
    "\n",
    "물론 이건, 각각 3000번씩 시도 해본 것을 바탕으로 한 실험이다. 한정된 예산으로는 그럴 수 없다.<br>"
   ]
  },
  {
   "cell_type": "markdown",
   "metadata": {},
   "source": [
    "#### 실습 T4"
   ]
  },
  {
   "cell_type": "code",
   "execution_count": 144,
   "metadata": {},
   "outputs": [
    {
     "data": {
      "text/plain": [
       "[0.20601585781914053,\n",
       " 0.823351761822104,\n",
       " 0.886097450236745,\n",
       " 0.11260570625168713,\n",
       " 0.07727318679738533,\n",
       " 0.583319301548128,\n",
       " 0.6436159109767976,\n",
       " 0.021427116644023938,\n",
       " 0.8740900940908658,\n",
       " 0.6161250320128815,\n",
       " 0.7115442198611102,\n",
       " 0.5696890350731332,\n",
       " 0.6131528990719195,\n",
       " 0.11859606950904387,\n",
       " 0.6289343136458166,\n",
       " 0.7990591672368319,\n",
       " 0.9525915197893221,\n",
       " 0.49186171750588126,\n",
       " 0.29684258809498476,\n",
       " 0.37799941618327204,\n",
       " 0.5455878489927972,\n",
       " 0.6487131359517022,\n",
       " 0.11859606950904387,\n",
       " 0.6675894554827317,\n",
       " 0.20601585781914053,\n",
       " 0.2695341801159247,\n",
       " 0.6771176759196738,\n",
       " 0.03726244905875417,\n",
       " 0.2202310615769866,\n",
       " 0.6018022637830637]"
      ]
     },
     "execution_count": 144,
     "metadata": {},
     "output_type": "execute_result"
    }
   ],
   "source": [
    "# Q1. 각 머신당 100번씩만 샘플링하여, ANOVA 테스트를 해보자.  \n",
    "# 여기서 a,b,c_machine 의 데이터는 개별 사건이라고 가정하자.\n",
    "a_result = []\n",
    "for i in range(30):\n",
    "    \n",
    "    a_sample = np.random.choice(a_machine, 100, replace = False)\n",
    "    b_sample = np.random.choice(b_machine, 100, replace = False)\n",
    "    c_sample = np.random.choice(c_machine, 100, replace = False)\n",
    "    a_result.append(spst.f_oneway(a_sample, b_sample, c_sample)[1])\n",
    "a_result"
   ]
  },
  {
   "cell_type": "code",
   "execution_count": 91,
   "metadata": {},
   "outputs": [
    {
     "name": "stdout",
     "output_type": "stream",
     "text": [
      "700.0 2551.4701644346146\n",
      "600.0 2374.8684174075834\n",
      "1100.0 3128.897569432403\n"
     ]
    }
   ],
   "source": [
    "# Q2. 각 머신의 결과를 평균과 표준편차로 요약해보자.  \n",
    "print(a_sample.mean(), a_sample.std())\n",
    "print(b_sample.mean(), b_sample.std())\n",
    "print(c_sample.mean(), c_sample.std())\n"
   ]
  },
  {
   "cell_type": "code",
   "execution_count": null,
   "metadata": {},
   "outputs": [],
   "source": [
    "# Q3. 의사결정을 해보자. 어떤 머신에 나머지 돈을 all-in 할 것인가?\n",
    "\n"
   ]
  },
  {
   "cell_type": "code",
   "execution_count": null,
   "metadata": {},
   "outputs": [],
   "source": [
    "# Q4. 머신당 얼마 씩을 사용하면, 의사결정 할 수 있을까? \n",
    "# 20, 30, 40 만원씩으로 금액을 늘려서 테스트 해보자.(위 Q1~3 반복)\n"
   ]
  },
  {
   "cell_type": "code",
   "execution_count": null,
   "metadata": {},
   "outputs": [],
   "source": [
    "# Q5. Q1과 Q2를 확인한 후, 이제 머신별로 동일한 금액을 투입하지 말고, \n",
    "# 다른 금액을 투입하여 테스트해 봅시다.  \n",
    "# 한번 실험시 총 금액 30만원은 고정입니다.\n",
    "# 예를 들어, A머신은 12만원, B는 8만원, C는 10만원\n",
    "# 실험을 10회 진행하며 각 실험마다 머신당 투입 금액은 변화를 주세요.\n",
    "\n",
    "\n",
    "\n",
    "\n",
    "\n"
   ]
  },
  {
   "cell_type": "markdown",
   "metadata": {},
   "source": [
    "**Tip1. 비교할 그룹이 많다면...**\n",
    "1. 원래 실험계획이란 항상 실험군과 대조군(비교군)을 두어야 한다.\n",
    "    * 실험군이란, 우리가 무언가 조작을 한 것이다.\n",
    "    * 대조군이란, 비교를 위해 두는 '기존'의 무언가이다. 조작을 하지 않는다.\n",
    "2. 그래서 사실, 대조군에 비해 좋은 것을 선택하는 게임이다.\n",
    "3. 그래서 사실, 대조군에 비해 좋은 것들 중 가장 우월한 것을 선택하는 게임이다.\n",
    "\n",
    "**결론 : 대조군vs하나의실험군 으로 t-test를 여러번하고, 얼마나 차이나는지 비교하라**\n",
    "\n",
    "**Tip2. Factor가 너무 많다면..**\n",
    "1. 하나의 Factor로 조합을 만들어라. 선택이 문제다.\n",
    "2. 상호작용을 해석해야하는 '연구'라면 이제 실험계획법을 공부해야 한다.\n",
    "Two-way Anova이상의 기법들을 익혀야 한다.\n"
   ]
  },
  {
   "cell_type": "markdown",
   "metadata": {},
   "source": [
    "## 2. Associative Type Test"
   ]
  },
  {
   "cell_type": "markdown",
   "metadata": {},
   "source": [
    "### Correlation Coefficient\n",
    "\n",
    "가상의 데이터를 만들어 실험할 예정이다.\n",
    "\n",
    "1. 따로 X와 Y를 시각화 해보길 권장한다.\n",
    "2. 코드는 관람용\n",
    "\n",
    "**귀무가설 : X와 Y는 상관이 없다.(상관계수 = 0)**  \n",
    "**대립가설 : 상관계수가 0이 아니다.**\n",
    "\n"
   ]
  },
  {
   "cell_type": "code",
   "execution_count": 92,
   "metadata": {},
   "outputs": [],
   "source": [
    "np.random.seed(2019)\n",
    "\n",
    "X = np.random.uniform(0, 1000, 100)\n",
    "Y = X*2 + np.random.normal(1000, 700,100)"
   ]
  },
  {
   "cell_type": "code",
   "execution_count": 93,
   "metadata": {},
   "outputs": [
    {
     "data": {
      "text/plain": [
       "(0.5907805070828732, 9.790270530287175e-11)"
      ]
     },
     "execution_count": 93,
     "metadata": {},
     "output_type": "execute_result"
    }
   ],
   "source": [
    "spst.pearsonr(X, Y)"
   ]
  },
  {
   "cell_type": "markdown",
   "metadata": {},
   "source": [
    "결과는 튜플로 나오는데\n",
    "\n",
    "1. 튜플의 첫 번째 값 : 상관계수를 뜻한다.\n",
    "2. p-value가 어색할 수 있다. 다음과 같은 구조하에 진행된 테스트이다.\n",
    "    * 귀무가설 : 상관 계수가 0이다.\n",
    "    * 대립가설 : 상관 계수가 0이 아니다.\n",
    "3. 즉, 상관계수는 선형성의 정도를 이야기한다. p-value는 상관계수가 우연에 의해 일어나진 않았는지 판단한다."
   ]
  },
  {
   "cell_type": "markdown",
   "metadata": {},
   "source": [
    "### Chisquare_test\n",
    "\n",
    "티셔츠 구매여부와 반바지 구매여부는 관계가.. 있을까?!  \n",
    "**귀무가설 : 티셔츠 구매와 바지 구매는 별개이다.(독립이다)**  \n",
    "**대립가설 : 티셔츠를 구매와 바지는 독립이 아니다.관련이 있다..**\n",
    "\n",
    "여기서도 코드를 살펴보며 결과를 해석해보자.\n",
    "\n",
    "\n",
    "가상의 데이터를 만들어 테스트 해본다.\n",
    "\n"
   ]
  },
  {
   "cell_type": "code",
   "execution_count": 94,
   "metadata": {},
   "outputs": [
    {
     "data": {
      "text/html": [
       "<div>\n",
       "<style scoped>\n",
       "    .dataframe tbody tr th:only-of-type {\n",
       "        vertical-align: middle;\n",
       "    }\n",
       "\n",
       "    .dataframe tbody tr th {\n",
       "        vertical-align: top;\n",
       "    }\n",
       "\n",
       "    .dataframe thead th {\n",
       "        text-align: right;\n",
       "    }\n",
       "</style>\n",
       "<table border=\"1\" class=\"dataframe\">\n",
       "  <thead>\n",
       "    <tr style=\"text-align: right;\">\n",
       "      <th></th>\n",
       "      <th>shirts</th>\n",
       "      <th>pants</th>\n",
       "    </tr>\n",
       "  </thead>\n",
       "  <tbody>\n",
       "    <tr>\n",
       "      <th>0</th>\n",
       "      <td>0.0</td>\n",
       "      <td>0.0</td>\n",
       "    </tr>\n",
       "    <tr>\n",
       "      <th>1</th>\n",
       "      <td>0.0</td>\n",
       "      <td>0.0</td>\n",
       "    </tr>\n",
       "    <tr>\n",
       "      <th>2</th>\n",
       "      <td>0.0</td>\n",
       "      <td>1.0</td>\n",
       "    </tr>\n",
       "    <tr>\n",
       "      <th>3</th>\n",
       "      <td>0.0</td>\n",
       "      <td>0.0</td>\n",
       "    </tr>\n",
       "    <tr>\n",
       "      <th>4</th>\n",
       "      <td>0.0</td>\n",
       "      <td>0.0</td>\n",
       "    </tr>\n",
       "    <tr>\n",
       "      <th>5</th>\n",
       "      <td>0.0</td>\n",
       "      <td>0.0</td>\n",
       "    </tr>\n",
       "    <tr>\n",
       "      <th>6</th>\n",
       "      <td>1.0</td>\n",
       "      <td>1.0</td>\n",
       "    </tr>\n",
       "    <tr>\n",
       "      <th>7</th>\n",
       "      <td>1.0</td>\n",
       "      <td>0.0</td>\n",
       "    </tr>\n",
       "    <tr>\n",
       "      <th>8</th>\n",
       "      <td>0.0</td>\n",
       "      <td>1.0</td>\n",
       "    </tr>\n",
       "    <tr>\n",
       "      <th>9</th>\n",
       "      <td>0.0</td>\n",
       "      <td>1.0</td>\n",
       "    </tr>\n",
       "  </tbody>\n",
       "</table>\n",
       "</div>"
      ],
      "text/plain": [
       "   shirts  pants\n",
       "0     0.0    0.0\n",
       "1     0.0    0.0\n",
       "2     0.0    1.0\n",
       "3     0.0    0.0\n",
       "4     0.0    0.0\n",
       "5     0.0    0.0\n",
       "6     1.0    1.0\n",
       "7     1.0    0.0\n",
       "8     0.0    1.0\n",
       "9     0.0    1.0"
      ]
     },
     "execution_count": 94,
     "metadata": {},
     "output_type": "execute_result"
    }
   ],
   "source": [
    "np.random.seed(2019)\n",
    "\n",
    "t_s = np.zeros(1000)\n",
    "t_p = np.zeros(1000)\n",
    "data = pd.DataFrame({'shirts' : t_s, 'pants' : t_p})\n",
    "\n",
    "data.loc[0:314, 'shirts'] = 1\n",
    "data.loc[0:198, 'pants'] = 1\n",
    "data.loc[731:,'pants'] = 1\n",
    "\n",
    "data = data.sample(frac=1).reset_index(drop=True)\n",
    "\n",
    "data.head(10)"
   ]
  },
  {
   "cell_type": "code",
   "execution_count": 95,
   "metadata": {},
   "outputs": [
    {
     "data": {
      "text/html": [
       "<div>\n",
       "<style scoped>\n",
       "    .dataframe tbody tr th:only-of-type {\n",
       "        vertical-align: middle;\n",
       "    }\n",
       "\n",
       "    .dataframe tbody tr th {\n",
       "        vertical-align: top;\n",
       "    }\n",
       "\n",
       "    .dataframe thead th {\n",
       "        text-align: right;\n",
       "    }\n",
       "</style>\n",
       "<table border=\"1\" class=\"dataframe\">\n",
       "  <thead>\n",
       "    <tr style=\"text-align: right;\">\n",
       "      <th>pants</th>\n",
       "      <th>0.0</th>\n",
       "      <th>1.0</th>\n",
       "    </tr>\n",
       "    <tr>\n",
       "      <th>shirts</th>\n",
       "      <th></th>\n",
       "      <th></th>\n",
       "    </tr>\n",
       "  </thead>\n",
       "  <tbody>\n",
       "    <tr>\n",
       "      <th>0.0</th>\n",
       "      <td>416</td>\n",
       "      <td>269</td>\n",
       "    </tr>\n",
       "    <tr>\n",
       "      <th>1.0</th>\n",
       "      <td>116</td>\n",
       "      <td>199</td>\n",
       "    </tr>\n",
       "  </tbody>\n",
       "</table>\n",
       "</div>"
      ],
      "text/plain": [
       "pants   0.0  1.0\n",
       "shirts          \n",
       "0.0     416  269\n",
       "1.0     116  199"
      ]
     },
     "execution_count": 95,
     "metadata": {},
     "output_type": "execute_result"
    }
   ],
   "source": [
    "contingency = pd.crosstab(data['shirts'], data['pants'])\n",
    "contingency"
   ]
  },
  {
   "cell_type": "code",
   "execution_count": 96,
   "metadata": {},
   "outputs": [],
   "source": [
    "chiresult = spst.chi2_contingency(contingency)"
   ]
  },
  {
   "cell_type": "code",
   "execution_count": 97,
   "metadata": {},
   "outputs": [
    {
     "name": "stdout",
     "output_type": "stream",
     "text": [
      "카이제곱통계량 : 48.56721121836466\n",
      "p-value : 0.00000000000319160978\n",
      "자유도 : 1\n",
      "기대 빈도 : \n",
      " [[364.42 320.58]\n",
      " [167.58 147.42]]\n"
     ]
    }
   ],
   "source": [
    "print(\"카이제곱통계량 : {}\".format(chiresult[0]))\n",
    "print(\"p-value : {:.20f}\".format(chiresult[1]))\n",
    "print(\"자유도 : {}\".format(chiresult[2]))\n",
    "print(\"기대 빈도 : \\n\", chiresult[3] ) #귀무가설에 대한 기대빈도."
   ]
  },
  {
   "cell_type": "markdown",
   "metadata": {},
   "source": [
    "결과를 해석해보자."
   ]
  },
  {
   "cell_type": "code",
   "execution_count": 101,
   "metadata": {},
   "outputs": [
    {
     "data": {
      "text/plain": [
       "0.315"
      ]
     },
     "execution_count": 101,
     "metadata": {},
     "output_type": "execute_result"
    }
   ],
   "source": [
    "# 기대빈도 분할표에서... \n",
    "# ①바지를 구매하지 않은 사람 중 티셔츠 구매비율\n",
    "chiresult[3][1,0] / (chiresult[3][0,0] + chiresult[3][1,0])"
   ]
  },
  {
   "cell_type": "code",
   "execution_count": 102,
   "metadata": {},
   "outputs": [
    {
     "data": {
      "text/plain": [
       "0.31499999999999995"
      ]
     },
     "execution_count": 102,
     "metadata": {},
     "output_type": "execute_result"
    }
   ],
   "source": [
    "# ②바지를 구매한 사람 중 티셔츠 구매비율\n",
    "chiresult[3][1,1] / (chiresult[3][0,1] + chiresult[3][1,1])"
   ]
  },
  {
   "cell_type": "markdown",
   "metadata": {},
   "source": [
    "① 와 ②가 같다고 기대함 <== 귀무가설에 대한 기대"
   ]
  },
  {
   "cell_type": "markdown",
   "metadata": {},
   "source": [
    "## EDA에서 가설검정의 테크닉을 쓴다?!"
   ]
  },
  {
   "cell_type": "markdown",
   "metadata": {},
   "source": [
    "**차이를 비교하는데 있어서는 항상 '두 가지' 관점이 필요하다.**\n",
    "1. 정말 현실적으로 의미있는 차이인가.\n",
    "2. 통계적으로도 의미이는 차이인가.\n",
    "\n",
    "1번 기준으로는 그럴 듯 해보이는 차이가, 2번 기준에서는 '노이즈'에 의한 차이로 판단될 수도 있어서 조심해야 한다.<br>\n",
    "반대로, 통계적으로는 의미가 있으나, 현실적으로는 너무 의미없는 차이일 수도 있다.\n",
    "\n",
    "따라서, EDA 중 시각화를 통해 과거 패턴을 확인할 때\n",
    "1. '눈'으로 볼 뿐 아니라 (현실적인 판단)\n",
    "2. 통계적으로도 유의미한지 (노이즈에 의한 패턴은 아닌지 = 우연한 패턴은 아닌지)\n",
    "확인해야 한다. 따라서\n",
    "\n",
    "## 종합실습!\n",
    "\n",
    "1. 03.EDA_2.ipynb를 켠다.\n",
    "2. 모든 Comparative type에 대하여, 가설 검정을 진행한다.\n",
    "3. 모든 Associative type에 대하여, 상관계수를 구한다.\n",
    "4. Location과 Price에 대하여, 위에서 실습한 카이제곱 검정을 해본다."
   ]
  },
  {
   "cell_type": "code",
   "execution_count": null,
   "metadata": {},
   "outputs": [],
   "source": []
  }
 ],
 "metadata": {
  "kernelspec": {
   "display_name": "Python 3",
   "language": "python",
   "name": "python3"
  },
  "language_info": {
   "codemirror_mode": {
    "name": "ipython",
    "version": 3
   },
   "file_extension": ".py",
   "mimetype": "text/x-python",
   "name": "python",
   "nbconvert_exporter": "python",
   "pygments_lexer": "ipython3",
   "version": "3.7.1"
  }
 },
 "nbformat": 4,
 "nbformat_minor": 2
}
