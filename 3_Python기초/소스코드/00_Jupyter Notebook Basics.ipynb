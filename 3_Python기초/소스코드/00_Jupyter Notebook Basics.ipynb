{
 "cells": [
  {
   "cell_type": "markdown",
   "metadata": {
    "colab_type": "text",
    "id": "4ndO2EeP5ECL"
   },
   "source": [
    "# 00_Jupyter Notebook Basics!\n",
    "\n",
    "작성자 : 김정훈 <br>\n",
    "수정 : 한기영\n",
    "\n",
    "\n",
    "#### 이 튜토리얼의 목표\n",
    "\n",
    "다음의  7가지를 자유롭게 할 수 있다면 완료 ! \n",
    "\n",
    "1. 셀 선택, 편집 모드 진입/선택모드\n",
    "2. 셀을 실행하는 방법들\n",
    "3. 마크다운 셀 / 코드 셀 전환\n",
    "2. 코드 Line number\n",
    "5. 셀 생성, 셀 삭제\n",
    "5. 링크 삽입 / 이미지 삽입\n",
    "7. 파이썬 스크립트 저장, 불러오기\n",
    "\n"
   ]
  },
  {
   "cell_type": "markdown",
   "metadata": {
    "colab_type": "text",
    "id": "Bset4YGo37Tf"
   },
   "source": [
    "## 0. 주의\n",
    "\n",
    "* 실행 결과가 나오기전에 반복실행은 삼가주세요.\n",
    "* 우측 상단에 댓글, 공유 아래에 녹색으로 '연결됨'이라고 되어있는지 체크해주세요."
   ]
  },
  {
   "cell_type": "markdown",
   "metadata": {
    "colab_type": "text",
    "id": "fQc-pZCY-8Tu"
   },
   "source": [
    "## 1. 셀 선택, 편집 모드 진입 / 선택 모드\n",
    "\n",
    "Arrows, Enter, Esc 마음껏 움직여 보라!\n",
    "\n",
    "Q. 편집모드와 선택모드를 구별 할 수 있나요?"
   ]
  },
  {
   "cell_type": "markdown",
   "metadata": {
    "colab_type": "text",
    "id": "sNKHr4xc-8gW"
   },
   "source": [
    "## 2. 셀을 실행하는 방법들\n",
    "\n",
    "Alt / Ctrl / Shift + Enter\n",
    "\n",
    "Q. 각각의 작동하는 내용을 적어봅시다.\n",
    "\n",
    "1. Alt + Enter : \n",
    "2. Ctrl + Enter : \n",
    "3. Shift + Enter : "
   ]
  },
  {
   "cell_type": "code",
   "execution_count": 2,
   "metadata": {
    "colab": {
     "base_uri": "https://localhost:8080/",
     "height": 35
    },
    "colab_type": "code",
    "executionInfo": {
     "elapsed": 842,
     "status": "ok",
     "timestamp": 1535009198530,
     "user": {
      "displayName": "김정훈",
      "photoUrl": "//lh5.googleusercontent.com/-bxbnSTt8iBo/AAAAAAAAAAI/AAAAAAAAAC8/ZcYn9C1jc5w/s50-c-k-no/photo.jpg",
      "userId": "107887219599388888482"
     },
     "user_tz": -540
    },
    "id": "rqUi-NTP5hVr",
    "outputId": "88bd1aea-cddc-42f3-f422-2d712193bd99"
   },
   "outputs": [
    {
     "name": "stdout",
     "output_type": "stream",
     "text": [
      "Hello? Is it me you are looking for?\n"
     ]
    }
   ],
   "source": [
    "print('Hello? Is it me you are looking for?')"
   ]
  },
  {
   "cell_type": "markdown",
   "metadata": {
    "colab_type": "text",
    "id": "qAHLjoP_EUQx"
   },
   "source": [
    "## 3. 마크다운 셀 / 코드 셀 전환\n",
    "\n",
    "* 마크다운으로 전환 : M\n",
    "* 코드셀로 전환 : Y"
   ]
  },
  {
   "cell_type": "markdown",
   "metadata": {},
   "source": [
    "# 제목1\n",
    "## 제목2\n",
    "### 제목3\n",
    "\n",
    "* 과제1\n",
    "* 과제2\n",
    "\n",
    "\n",
    "넘파이 판다스를 배우게 됩니다."
   ]
  },
  {
   "cell_type": "markdown",
   "metadata": {
    "colab": {},
    "colab_type": "code",
    "id": "caBCPYZbEnYR"
   },
   "source": [
    "#### 여기는 마크다운 셀\n",
    "\n",
    "1. Please change this cell into a MarkDown Cell\n",
    "\n",
    "or we can't run this cell correctly\n",
    "\n",
    "#### 다음줄로 내리기\n",
    "\n",
    "첫번째 줄  \n",
    "두번째 줄\n",
    "\n",
    "##### ~< br > 하거나, enter를 두번 치거나, 스페이스바를 두번 치면  한줄 내려감.\n"
   ]
  },
  {
   "cell_type": "markdown",
   "metadata": {
    "colab_type": "text",
    "id": "Cz0Gn5hbFJaA"
   },
   "source": [
    "# Need to change this cell into a Code Cell\n",
    "\n",
    "\n",
    "print( '지금 사용하고 있는 웹 기반 개발 도구 이름은?')\n",
    "answers = input(\"답 : \")\n",
    "\n",
    "if answers == 'Jupyter Notebook' :\n",
    "  print(\"Good!\")\n",
    "else :\n",
    "  print('type correctly, plz')"
   ]
  },
  {
   "cell_type": "markdown",
   "metadata": {
    "colab_type": "text",
    "id": "7ldgQlRbGzn2"
   },
   "source": [
    "## 4. 코드 Line Number"
   ]
  },
  {
   "cell_type": "markdown",
   "metadata": {
    "colab_type": "text",
    "id": "bE9SjFkUm7QJ"
   },
   "source": [
    "아래 셀을 선택하고 L를 눌러보세요\n"
   ]
  },
  {
   "cell_type": "code",
   "execution_count": 3,
   "metadata": {
    "colab": {},
    "colab_type": "code",
    "id": "BUG-ch1-GNQq"
   },
   "outputs": [
    {
     "name": "stdout",
     "output_type": "stream",
     "text": [
      "0\n",
      "1\n",
      "2\n",
      "3\n",
      "4\n",
      "5\n",
      "6\n",
      "7\n",
      "8\n",
      "9\n",
      "loop done\n",
      "45\n",
      "[0, 1, 2, 3, 4, 5, 6, 7, 8, 9]\n"
     ]
    }
   ],
   "source": [
    "# 실행해봅시다.\n",
    "sample_list = []\n",
    "sumsum = 0\n",
    "\n",
    "for i in range(10) :\n",
    "  sample_list.append(i)\n",
    "  sumsum += i\n",
    "  print(i)\n",
    "print('loop done')\n",
    "print(sumsum)\n",
    "print(sample_list)\n",
    "\n",
    "# 아래 결과창 왼쪽을  더블클릭해보세요."
   ]
  },
  {
   "cell_type": "markdown",
   "metadata": {
    "colab_type": "text",
    "id": "eOO-pcoKmi1z"
   },
   "source": [
    "## 5. 셀 생성, 셀 삭제"
   ]
  },
  {
   "cell_type": "markdown",
   "metadata": {
    "colab_type": "text",
    "id": "HFBVSHlGqzSw"
   },
   "source": [
    "선택된 셀 기준으로\n",
    "* 위에 셀 생성 : a\n",
    "* 아래에 셀 생성 : b\n",
    "* 삭제는 : dd\n",
    "* 삭제된 셀 되살리기 : z or 메뉴 > edit > undo delete cell"
   ]
  },
  {
   "cell_type": "code",
   "execution_count": 1,
   "metadata": {
    "colab": {},
    "colab_type": "code",
    "id": "x2DayOvCsF0F"
   },
   "outputs": [],
   "source": [
    "import pandas as pd"
   ]
  },
  {
   "cell_type": "code",
   "execution_count": 13,
   "metadata": {
    "colab": {},
    "colab_type": "code",
    "id": "Z5eAxWv5zKZ1",
    "scrolled": true
   },
   "outputs": [],
   "source": [
    "a = pd.read_csv(r'C:\\Users\\50008313\\Python_Jupyter_Study\\2기교육\\3_Python기초\\샘플데이터\\Graduate_apply.csv', engine='python')"
   ]
  },
  {
   "cell_type": "code",
   "execution_count": 14,
   "metadata": {
    "colab": {
     "base_uri": "https://localhost:8080/",
     "height": 223
    },
    "colab_type": "code",
    "executionInfo": {
     "elapsed": 973,
     "status": "ok",
     "timestamp": 1535011260524,
     "user": {
      "displayName": "김정훈",
      "photoUrl": "//lh5.googleusercontent.com/-bxbnSTt8iBo/AAAAAAAAAAI/AAAAAAAAAC8/ZcYn9C1jc5w/s50-c-k-no/photo.jpg",
      "userId": "107887219599388888482"
     },
     "user_tz": -540
    },
    "id": "cTBCBZg3zN9M",
    "outputId": "f135bb01-c05b-4c35-fb63-63e343005b47",
    "scrolled": true
   },
   "outputs": [
    {
     "name": "stdout",
     "output_type": "stream",
     "text": [
      "     admit  gre   gpa  rank\n",
      "0        0  380  3.61     3\n",
      "1        1  660  3.67     3\n",
      "2        1  800  4.00     1\n",
      "3        1  640  3.19     4\n",
      "4        0  520  2.93     4\n",
      "5        1  760  3.00     2\n",
      "6        1  560  2.98     1\n",
      "7        0  400  3.08     2\n",
      "8        1  540  3.39     3\n",
      "9        0  700  3.92     2\n",
      "10       0  800  4.00     4\n",
      "11       0  440  3.22     1\n",
      "12       1  760  4.00     1\n",
      "13       0  700  3.08     2\n",
      "14       1  700  4.00     1\n",
      "15       0  480  3.44     3\n",
      "16       0  780  3.87     4\n",
      "17       0  360  2.56     3\n",
      "18       0  800  3.75     2\n",
      "19       1  540  3.81     1\n",
      "20       0  500  3.17     3\n",
      "21       1  660  3.63     2\n",
      "22       0  600  2.82     4\n",
      "23       0  680  3.19     4\n",
      "24       1  760  3.35     2\n",
      "25       1  800  3.66     1\n",
      "26       1  620  3.61     1\n",
      "27       1  520  3.74     4\n",
      "28       1  780  3.22     2\n",
      "29       0  520  3.29     1\n",
      "..     ...  ...   ...   ...\n",
      "370      1  540  3.77     2\n",
      "371      1  680  3.76     3\n",
      "372      1  680  2.42     1\n",
      "373      1  620  3.37     1\n",
      "374      0  560  3.78     2\n",
      "375      0  560  3.49     4\n",
      "376      0  620  3.63     2\n",
      "377      1  800  4.00     2\n",
      "378      0  640  3.12     3\n",
      "379      0  540  2.70     2\n",
      "380      0  700  3.65     2\n",
      "381      1  540  3.49     2\n",
      "382      0  540  3.51     2\n",
      "383      0  660  4.00     1\n",
      "384      1  480  2.62     2\n",
      "385      0  420  3.02     1\n",
      "386      1  740  3.86     2\n",
      "387      0  580  3.36     2\n",
      "388      0  640  3.17     2\n",
      "389      0  640  3.51     2\n",
      "390      1  800  3.05     2\n",
      "391      1  660  3.88     2\n",
      "392      1  600  3.38     3\n",
      "393      1  620  3.75     2\n",
      "394      1  460  3.99     3\n",
      "395      0  620  4.00     2\n",
      "396      0  560  3.04     3\n",
      "397      0  460  2.63     2\n",
      "398      0  700  3.65     2\n",
      "399      0  600  3.89     3\n",
      "\n",
      "[400 rows x 4 columns]\n"
     ]
    }
   ],
   "source": [
    "print(a)"
   ]
  },
  {
   "cell_type": "code",
   "execution_count": 15,
   "metadata": {
    "scrolled": true
   },
   "outputs": [
    {
     "data": {
      "text/html": [
       "<div>\n",
       "<style scoped>\n",
       "    .dataframe tbody tr th:only-of-type {\n",
       "        vertical-align: middle;\n",
       "    }\n",
       "\n",
       "    .dataframe tbody tr th {\n",
       "        vertical-align: top;\n",
       "    }\n",
       "\n",
       "    .dataframe thead th {\n",
       "        text-align: right;\n",
       "    }\n",
       "</style>\n",
       "<table border=\"1\" class=\"dataframe\">\n",
       "  <thead>\n",
       "    <tr style=\"text-align: right;\">\n",
       "      <th></th>\n",
       "      <th>admit</th>\n",
       "      <th>gre</th>\n",
       "      <th>gpa</th>\n",
       "      <th>rank</th>\n",
       "    </tr>\n",
       "  </thead>\n",
       "  <tbody>\n",
       "    <tr>\n",
       "      <th>0</th>\n",
       "      <td>0</td>\n",
       "      <td>380</td>\n",
       "      <td>3.61</td>\n",
       "      <td>3</td>\n",
       "    </tr>\n",
       "    <tr>\n",
       "      <th>1</th>\n",
       "      <td>1</td>\n",
       "      <td>660</td>\n",
       "      <td>3.67</td>\n",
       "      <td>3</td>\n",
       "    </tr>\n",
       "    <tr>\n",
       "      <th>2</th>\n",
       "      <td>1</td>\n",
       "      <td>800</td>\n",
       "      <td>4.00</td>\n",
       "      <td>1</td>\n",
       "    </tr>\n",
       "    <tr>\n",
       "      <th>3</th>\n",
       "      <td>1</td>\n",
       "      <td>640</td>\n",
       "      <td>3.19</td>\n",
       "      <td>4</td>\n",
       "    </tr>\n",
       "    <tr>\n",
       "      <th>4</th>\n",
       "      <td>0</td>\n",
       "      <td>520</td>\n",
       "      <td>2.93</td>\n",
       "      <td>4</td>\n",
       "    </tr>\n",
       "    <tr>\n",
       "      <th>5</th>\n",
       "      <td>1</td>\n",
       "      <td>760</td>\n",
       "      <td>3.00</td>\n",
       "      <td>2</td>\n",
       "    </tr>\n",
       "    <tr>\n",
       "      <th>6</th>\n",
       "      <td>1</td>\n",
       "      <td>560</td>\n",
       "      <td>2.98</td>\n",
       "      <td>1</td>\n",
       "    </tr>\n",
       "    <tr>\n",
       "      <th>7</th>\n",
       "      <td>0</td>\n",
       "      <td>400</td>\n",
       "      <td>3.08</td>\n",
       "      <td>2</td>\n",
       "    </tr>\n",
       "    <tr>\n",
       "      <th>8</th>\n",
       "      <td>1</td>\n",
       "      <td>540</td>\n",
       "      <td>3.39</td>\n",
       "      <td>3</td>\n",
       "    </tr>\n",
       "    <tr>\n",
       "      <th>9</th>\n",
       "      <td>0</td>\n",
       "      <td>700</td>\n",
       "      <td>3.92</td>\n",
       "      <td>2</td>\n",
       "    </tr>\n",
       "    <tr>\n",
       "      <th>10</th>\n",
       "      <td>0</td>\n",
       "      <td>800</td>\n",
       "      <td>4.00</td>\n",
       "      <td>4</td>\n",
       "    </tr>\n",
       "    <tr>\n",
       "      <th>11</th>\n",
       "      <td>0</td>\n",
       "      <td>440</td>\n",
       "      <td>3.22</td>\n",
       "      <td>1</td>\n",
       "    </tr>\n",
       "    <tr>\n",
       "      <th>12</th>\n",
       "      <td>1</td>\n",
       "      <td>760</td>\n",
       "      <td>4.00</td>\n",
       "      <td>1</td>\n",
       "    </tr>\n",
       "    <tr>\n",
       "      <th>13</th>\n",
       "      <td>0</td>\n",
       "      <td>700</td>\n",
       "      <td>3.08</td>\n",
       "      <td>2</td>\n",
       "    </tr>\n",
       "    <tr>\n",
       "      <th>14</th>\n",
       "      <td>1</td>\n",
       "      <td>700</td>\n",
       "      <td>4.00</td>\n",
       "      <td>1</td>\n",
       "    </tr>\n",
       "    <tr>\n",
       "      <th>15</th>\n",
       "      <td>0</td>\n",
       "      <td>480</td>\n",
       "      <td>3.44</td>\n",
       "      <td>3</td>\n",
       "    </tr>\n",
       "    <tr>\n",
       "      <th>16</th>\n",
       "      <td>0</td>\n",
       "      <td>780</td>\n",
       "      <td>3.87</td>\n",
       "      <td>4</td>\n",
       "    </tr>\n",
       "    <tr>\n",
       "      <th>17</th>\n",
       "      <td>0</td>\n",
       "      <td>360</td>\n",
       "      <td>2.56</td>\n",
       "      <td>3</td>\n",
       "    </tr>\n",
       "    <tr>\n",
       "      <th>18</th>\n",
       "      <td>0</td>\n",
       "      <td>800</td>\n",
       "      <td>3.75</td>\n",
       "      <td>2</td>\n",
       "    </tr>\n",
       "    <tr>\n",
       "      <th>19</th>\n",
       "      <td>1</td>\n",
       "      <td>540</td>\n",
       "      <td>3.81</td>\n",
       "      <td>1</td>\n",
       "    </tr>\n",
       "    <tr>\n",
       "      <th>20</th>\n",
       "      <td>0</td>\n",
       "      <td>500</td>\n",
       "      <td>3.17</td>\n",
       "      <td>3</td>\n",
       "    </tr>\n",
       "    <tr>\n",
       "      <th>21</th>\n",
       "      <td>1</td>\n",
       "      <td>660</td>\n",
       "      <td>3.63</td>\n",
       "      <td>2</td>\n",
       "    </tr>\n",
       "    <tr>\n",
       "      <th>22</th>\n",
       "      <td>0</td>\n",
       "      <td>600</td>\n",
       "      <td>2.82</td>\n",
       "      <td>4</td>\n",
       "    </tr>\n",
       "    <tr>\n",
       "      <th>23</th>\n",
       "      <td>0</td>\n",
       "      <td>680</td>\n",
       "      <td>3.19</td>\n",
       "      <td>4</td>\n",
       "    </tr>\n",
       "    <tr>\n",
       "      <th>24</th>\n",
       "      <td>1</td>\n",
       "      <td>760</td>\n",
       "      <td>3.35</td>\n",
       "      <td>2</td>\n",
       "    </tr>\n",
       "    <tr>\n",
       "      <th>25</th>\n",
       "      <td>1</td>\n",
       "      <td>800</td>\n",
       "      <td>3.66</td>\n",
       "      <td>1</td>\n",
       "    </tr>\n",
       "    <tr>\n",
       "      <th>26</th>\n",
       "      <td>1</td>\n",
       "      <td>620</td>\n",
       "      <td>3.61</td>\n",
       "      <td>1</td>\n",
       "    </tr>\n",
       "    <tr>\n",
       "      <th>27</th>\n",
       "      <td>1</td>\n",
       "      <td>520</td>\n",
       "      <td>3.74</td>\n",
       "      <td>4</td>\n",
       "    </tr>\n",
       "    <tr>\n",
       "      <th>28</th>\n",
       "      <td>1</td>\n",
       "      <td>780</td>\n",
       "      <td>3.22</td>\n",
       "      <td>2</td>\n",
       "    </tr>\n",
       "    <tr>\n",
       "      <th>29</th>\n",
       "      <td>0</td>\n",
       "      <td>520</td>\n",
       "      <td>3.29</td>\n",
       "      <td>1</td>\n",
       "    </tr>\n",
       "    <tr>\n",
       "      <th>...</th>\n",
       "      <td>...</td>\n",
       "      <td>...</td>\n",
       "      <td>...</td>\n",
       "      <td>...</td>\n",
       "    </tr>\n",
       "    <tr>\n",
       "      <th>370</th>\n",
       "      <td>1</td>\n",
       "      <td>540</td>\n",
       "      <td>3.77</td>\n",
       "      <td>2</td>\n",
       "    </tr>\n",
       "    <tr>\n",
       "      <th>371</th>\n",
       "      <td>1</td>\n",
       "      <td>680</td>\n",
       "      <td>3.76</td>\n",
       "      <td>3</td>\n",
       "    </tr>\n",
       "    <tr>\n",
       "      <th>372</th>\n",
       "      <td>1</td>\n",
       "      <td>680</td>\n",
       "      <td>2.42</td>\n",
       "      <td>1</td>\n",
       "    </tr>\n",
       "    <tr>\n",
       "      <th>373</th>\n",
       "      <td>1</td>\n",
       "      <td>620</td>\n",
       "      <td>3.37</td>\n",
       "      <td>1</td>\n",
       "    </tr>\n",
       "    <tr>\n",
       "      <th>374</th>\n",
       "      <td>0</td>\n",
       "      <td>560</td>\n",
       "      <td>3.78</td>\n",
       "      <td>2</td>\n",
       "    </tr>\n",
       "    <tr>\n",
       "      <th>375</th>\n",
       "      <td>0</td>\n",
       "      <td>560</td>\n",
       "      <td>3.49</td>\n",
       "      <td>4</td>\n",
       "    </tr>\n",
       "    <tr>\n",
       "      <th>376</th>\n",
       "      <td>0</td>\n",
       "      <td>620</td>\n",
       "      <td>3.63</td>\n",
       "      <td>2</td>\n",
       "    </tr>\n",
       "    <tr>\n",
       "      <th>377</th>\n",
       "      <td>1</td>\n",
       "      <td>800</td>\n",
       "      <td>4.00</td>\n",
       "      <td>2</td>\n",
       "    </tr>\n",
       "    <tr>\n",
       "      <th>378</th>\n",
       "      <td>0</td>\n",
       "      <td>640</td>\n",
       "      <td>3.12</td>\n",
       "      <td>3</td>\n",
       "    </tr>\n",
       "    <tr>\n",
       "      <th>379</th>\n",
       "      <td>0</td>\n",
       "      <td>540</td>\n",
       "      <td>2.70</td>\n",
       "      <td>2</td>\n",
       "    </tr>\n",
       "    <tr>\n",
       "      <th>380</th>\n",
       "      <td>0</td>\n",
       "      <td>700</td>\n",
       "      <td>3.65</td>\n",
       "      <td>2</td>\n",
       "    </tr>\n",
       "    <tr>\n",
       "      <th>381</th>\n",
       "      <td>1</td>\n",
       "      <td>540</td>\n",
       "      <td>3.49</td>\n",
       "      <td>2</td>\n",
       "    </tr>\n",
       "    <tr>\n",
       "      <th>382</th>\n",
       "      <td>0</td>\n",
       "      <td>540</td>\n",
       "      <td>3.51</td>\n",
       "      <td>2</td>\n",
       "    </tr>\n",
       "    <tr>\n",
       "      <th>383</th>\n",
       "      <td>0</td>\n",
       "      <td>660</td>\n",
       "      <td>4.00</td>\n",
       "      <td>1</td>\n",
       "    </tr>\n",
       "    <tr>\n",
       "      <th>384</th>\n",
       "      <td>1</td>\n",
       "      <td>480</td>\n",
       "      <td>2.62</td>\n",
       "      <td>2</td>\n",
       "    </tr>\n",
       "    <tr>\n",
       "      <th>385</th>\n",
       "      <td>0</td>\n",
       "      <td>420</td>\n",
       "      <td>3.02</td>\n",
       "      <td>1</td>\n",
       "    </tr>\n",
       "    <tr>\n",
       "      <th>386</th>\n",
       "      <td>1</td>\n",
       "      <td>740</td>\n",
       "      <td>3.86</td>\n",
       "      <td>2</td>\n",
       "    </tr>\n",
       "    <tr>\n",
       "      <th>387</th>\n",
       "      <td>0</td>\n",
       "      <td>580</td>\n",
       "      <td>3.36</td>\n",
       "      <td>2</td>\n",
       "    </tr>\n",
       "    <tr>\n",
       "      <th>388</th>\n",
       "      <td>0</td>\n",
       "      <td>640</td>\n",
       "      <td>3.17</td>\n",
       "      <td>2</td>\n",
       "    </tr>\n",
       "    <tr>\n",
       "      <th>389</th>\n",
       "      <td>0</td>\n",
       "      <td>640</td>\n",
       "      <td>3.51</td>\n",
       "      <td>2</td>\n",
       "    </tr>\n",
       "    <tr>\n",
       "      <th>390</th>\n",
       "      <td>1</td>\n",
       "      <td>800</td>\n",
       "      <td>3.05</td>\n",
       "      <td>2</td>\n",
       "    </tr>\n",
       "    <tr>\n",
       "      <th>391</th>\n",
       "      <td>1</td>\n",
       "      <td>660</td>\n",
       "      <td>3.88</td>\n",
       "      <td>2</td>\n",
       "    </tr>\n",
       "    <tr>\n",
       "      <th>392</th>\n",
       "      <td>1</td>\n",
       "      <td>600</td>\n",
       "      <td>3.38</td>\n",
       "      <td>3</td>\n",
       "    </tr>\n",
       "    <tr>\n",
       "      <th>393</th>\n",
       "      <td>1</td>\n",
       "      <td>620</td>\n",
       "      <td>3.75</td>\n",
       "      <td>2</td>\n",
       "    </tr>\n",
       "    <tr>\n",
       "      <th>394</th>\n",
       "      <td>1</td>\n",
       "      <td>460</td>\n",
       "      <td>3.99</td>\n",
       "      <td>3</td>\n",
       "    </tr>\n",
       "    <tr>\n",
       "      <th>395</th>\n",
       "      <td>0</td>\n",
       "      <td>620</td>\n",
       "      <td>4.00</td>\n",
       "      <td>2</td>\n",
       "    </tr>\n",
       "    <tr>\n",
       "      <th>396</th>\n",
       "      <td>0</td>\n",
       "      <td>560</td>\n",
       "      <td>3.04</td>\n",
       "      <td>3</td>\n",
       "    </tr>\n",
       "    <tr>\n",
       "      <th>397</th>\n",
       "      <td>0</td>\n",
       "      <td>460</td>\n",
       "      <td>2.63</td>\n",
       "      <td>2</td>\n",
       "    </tr>\n",
       "    <tr>\n",
       "      <th>398</th>\n",
       "      <td>0</td>\n",
       "      <td>700</td>\n",
       "      <td>3.65</td>\n",
       "      <td>2</td>\n",
       "    </tr>\n",
       "    <tr>\n",
       "      <th>399</th>\n",
       "      <td>0</td>\n",
       "      <td>600</td>\n",
       "      <td>3.89</td>\n",
       "      <td>3</td>\n",
       "    </tr>\n",
       "  </tbody>\n",
       "</table>\n",
       "<p>400 rows × 4 columns</p>\n",
       "</div>"
      ],
      "text/plain": [
       "     admit  gre   gpa  rank\n",
       "0        0  380  3.61     3\n",
       "1        1  660  3.67     3\n",
       "2        1  800  4.00     1\n",
       "3        1  640  3.19     4\n",
       "4        0  520  2.93     4\n",
       "5        1  760  3.00     2\n",
       "6        1  560  2.98     1\n",
       "7        0  400  3.08     2\n",
       "8        1  540  3.39     3\n",
       "9        0  700  3.92     2\n",
       "10       0  800  4.00     4\n",
       "11       0  440  3.22     1\n",
       "12       1  760  4.00     1\n",
       "13       0  700  3.08     2\n",
       "14       1  700  4.00     1\n",
       "15       0  480  3.44     3\n",
       "16       0  780  3.87     4\n",
       "17       0  360  2.56     3\n",
       "18       0  800  3.75     2\n",
       "19       1  540  3.81     1\n",
       "20       0  500  3.17     3\n",
       "21       1  660  3.63     2\n",
       "22       0  600  2.82     4\n",
       "23       0  680  3.19     4\n",
       "24       1  760  3.35     2\n",
       "25       1  800  3.66     1\n",
       "26       1  620  3.61     1\n",
       "27       1  520  3.74     4\n",
       "28       1  780  3.22     2\n",
       "29       0  520  3.29     1\n",
       "..     ...  ...   ...   ...\n",
       "370      1  540  3.77     2\n",
       "371      1  680  3.76     3\n",
       "372      1  680  2.42     1\n",
       "373      1  620  3.37     1\n",
       "374      0  560  3.78     2\n",
       "375      0  560  3.49     4\n",
       "376      0  620  3.63     2\n",
       "377      1  800  4.00     2\n",
       "378      0  640  3.12     3\n",
       "379      0  540  2.70     2\n",
       "380      0  700  3.65     2\n",
       "381      1  540  3.49     2\n",
       "382      0  540  3.51     2\n",
       "383      0  660  4.00     1\n",
       "384      1  480  2.62     2\n",
       "385      0  420  3.02     1\n",
       "386      1  740  3.86     2\n",
       "387      0  580  3.36     2\n",
       "388      0  640  3.17     2\n",
       "389      0  640  3.51     2\n",
       "390      1  800  3.05     2\n",
       "391      1  660  3.88     2\n",
       "392      1  600  3.38     3\n",
       "393      1  620  3.75     2\n",
       "394      1  460  3.99     3\n",
       "395      0  620  4.00     2\n",
       "396      0  560  3.04     3\n",
       "397      0  460  2.63     2\n",
       "398      0  700  3.65     2\n",
       "399      0  600  3.89     3\n",
       "\n",
       "[400 rows x 4 columns]"
      ]
     },
     "execution_count": 15,
     "metadata": {},
     "output_type": "execute_result"
    }
   ],
   "source": [
    "a"
   ]
  },
  {
   "cell_type": "code",
   "execution_count": 16,
   "metadata": {
    "colab": {},
    "colab_type": "code",
    "id": "_EAzs-arqqp9"
   },
   "outputs": [
    {
     "name": "stdout",
     "output_type": "stream",
     "text": [
      "이 셀을 기준으로 위에 2개 아래에 2개 생성하시오\n"
     ]
    }
   ],
   "source": [
    "print('이 셀을 기준으로 위에 2개 아래에 2개 생성하시오')"
   ]
  },
  {
   "cell_type": "code",
   "execution_count": 17,
   "metadata": {
    "scrolled": true
   },
   "outputs": [
    {
     "name": "stdout",
     "output_type": "stream",
     "text": [
      "['C:\\\\Users\\\\50008313\\\\Python_Jupyter_Study\\\\2기교육\\\\3_Python기초\\\\소스코드', 'C:\\\\Users\\\\50008313\\\\AppData\\\\Local\\\\Continuum\\\\anaconda3\\\\python37.zip', 'C:\\\\Users\\\\50008313\\\\AppData\\\\Local\\\\Continuum\\\\anaconda3\\\\DLLs', 'C:\\\\Users\\\\50008313\\\\AppData\\\\Local\\\\Continuum\\\\anaconda3\\\\lib', 'C:\\\\Users\\\\50008313\\\\AppData\\\\Local\\\\Continuum\\\\anaconda3', '', 'C:\\\\Users\\\\50008313\\\\AppData\\\\Local\\\\Continuum\\\\anaconda3\\\\lib\\\\site-packages', 'C:\\\\Users\\\\50008313\\\\AppData\\\\Local\\\\Continuum\\\\anaconda3\\\\lib\\\\site-packages\\\\win32', 'C:\\\\Users\\\\50008313\\\\AppData\\\\Local\\\\Continuum\\\\anaconda3\\\\lib\\\\site-packages\\\\win32\\\\lib', 'C:\\\\Users\\\\50008313\\\\AppData\\\\Local\\\\Continuum\\\\anaconda3\\\\lib\\\\site-packages\\\\Pythonwin', 'C:\\\\Users\\\\50008313\\\\AppData\\\\Local\\\\Continuum\\\\anaconda3\\\\lib\\\\site-packages\\\\IPython\\\\extensions', 'C:\\\\Users\\\\50008313\\\\.ipython']\n"
     ]
    }
   ],
   "source": [
    "import sys\n",
    "print(sys.path)"
   ]
  },
  {
   "cell_type": "markdown",
   "metadata": {
    "colab_type": "text",
    "id": "P7frniNiqqxN"
   },
   "source": [
    "## 6. 링크 삽입, 이미지 삽입\n",
    "\n",
    "\n",
    "[Robot! 동영상](https://www.youtube.com/watch?v=bRHG7YObDuU)\n",
    "\n",
    "[여기를 눌러보면 좋은 방법들이 많다!](https://gist.github.com/ninanung/2b81a5db946c26c98c573e3662a92b62)\n",
    "\n",
    "![이미지](http://img.cgv.co.kr/Movie/Thumbnail/Poster/000081/81136/81136_1000.jpg \"폴란드로 간 아이들\")"
   ]
  },
  {
   "cell_type": "markdown",
   "metadata": {
    "colab_type": "text",
    "id": "MXHLpl9erIEN"
   },
   "source": [
    "## 7. 저장\n",
    "\n",
    "* 저장 : S"
   ]
  },
  {
   "cell_type": "code",
   "execution_count": 12,
   "metadata": {
    "colab": {
     "base_uri": "https://localhost:8080/",
     "height": 35
    },
    "colab_type": "code",
    "executionInfo": {
     "elapsed": 1867,
     "status": "ok",
     "timestamp": 1535009631931,
     "user": {
      "displayName": "김정훈",
      "photoUrl": "//lh5.googleusercontent.com/-bxbnSTt8iBo/AAAAAAAAAAI/AAAAAAAAAC8/ZcYn9C1jc5w/s50-c-k-no/photo.jpg",
      "userId": "107887219599388888482"
     },
     "user_tz": -540
    },
    "id": "2bPYRoUNsu0y",
    "outputId": "65cc9a60-481e-402d-cd4b-4b0de4f75ba6"
   },
   "outputs": [
    {
     "name": "stdout",
     "output_type": "stream",
     "text": [
      " C 드라이브의 볼륨에는 이름이 없습니다.\n",
      " 볼륨 일련 번호: 1EEA-F5AB\n",
      "\n",
      " C:\\Users\\50008313\\Python_Jupyter_Study\\[2기교육] 3. Python기초(2.21-25)-20190221T002853Z-001\\3. Python기초(2.21-25)\\소스코드 디렉터리\n",
      "\n",
      "2019-02-21  오전 10:11    <DIR>          .\n",
      "2019-02-21  오전 10:11    <DIR>          ..\n",
      "2019-02-21  오전 09:46    <DIR>          .ipynb_checkpoints\n",
      "2019-02-21  오전 10:10            21,340 00_Jupyter Notebook Basics.ipynb\n",
      "2019-02-20  오전 05:33            42,493 01.Python_basics.ipynb\n",
      "2019-02-20  오전 05:59            41,903 02.Numpy.ipynb\n",
      "2019-02-21  오전 10:11                16 anyfile.py\n",
      "               4개 파일             105,752 바이트\n",
      "               3개 디렉터리   2,324,238,336 바이트 남음\n"
     ]
    }
   ],
   "source": [
    "ls"
   ]
  },
  {
   "cell_type": "code",
   "execution_count": 10,
   "metadata": {
    "colab": {
     "base_uri": "https://localhost:8080/",
     "height": 35
    },
    "colab_type": "code",
    "executionInfo": {
     "elapsed": 1920,
     "status": "ok",
     "timestamp": 1535009646894,
     "user": {
      "displayName": "김정훈",
      "photoUrl": "//lh5.googleusercontent.com/-bxbnSTt8iBo/AAAAAAAAAAI/AAAAAAAAAC8/ZcYn9C1jc5w/s50-c-k-no/photo.jpg",
      "userId": "107887219599388888482"
     },
     "user_tz": -540
    },
    "id": "PZqSYRsi3qVE",
    "outputId": "e8ab16b0-1ceb-4c5d-df58-9a43df8b79c4"
   },
   "outputs": [
    {
     "name": "stdout",
     "output_type": "stream",
     "text": [
      "Python 3.7.1\n"
     ]
    }
   ],
   "source": [
    "!python --version"
   ]
  },
  {
   "cell_type": "markdown",
   "metadata": {},
   "source": [
    "* Python 파일 불러오기, 저장하기"
   ]
  },
  {
   "cell_type": "code",
   "execution_count": 11,
   "metadata": {
    "scrolled": true
   },
   "outputs": [
    {
     "name": "stdout",
     "output_type": "stream",
     "text": [
      "Writing anyfile.py\n"
     ]
    }
   ],
   "source": [
    "%%writefile anyfile.py\n",
    "\n",
    "print(\"aaa\")"
   ]
  },
  {
   "cell_type": "code",
   "execution_count": 13,
   "metadata": {},
   "outputs": [
    {
     "name": "stdout",
     "output_type": "stream",
     "text": [
      " C 드라이브의 볼륨에는 이름이 없습니다.\n",
      " 볼륨 일련 번호: 1EEA-F5AB\n",
      "\n",
      " C:\\Users\\50008313\\Python_Jupyter_Study\\[2기교육] 3. Python기초(2.21-25)-20190221T002853Z-001\\3. Python기초(2.21-25)\\소스코드 디렉터리\n",
      "\n",
      "2019-02-21  오전 10:12    <DIR>          .\n",
      "2019-02-21  오전 10:12    <DIR>          ..\n",
      "2019-02-21  오전 09:46    <DIR>          .ipynb_checkpoints\n",
      "2019-02-21  오전 10:12            22,589 00_Jupyter Notebook Basics.ipynb\n",
      "2019-02-20  오전 05:33            42,493 01.Python_basics.ipynb\n",
      "2019-02-20  오전 05:59            41,903 02.Numpy.ipynb\n",
      "2019-02-21  오전 10:11                16 anyfile.py\n",
      "               4개 파일             107,001 바이트\n",
      "               3개 디렉터리   2,323,841,024 바이트 남음\n"
     ]
    }
   ],
   "source": [
    "ls"
   ]
  },
  {
   "cell_type": "code",
   "execution_count": 14,
   "metadata": {},
   "outputs": [
    {
     "name": "stdout",
     "output_type": "stream",
     "text": [
      "aaa\n"
     ]
    }
   ],
   "source": [
    "%run anyfile.py\n"
   ]
  },
  {
   "cell_type": "code",
   "execution_count": 15,
   "metadata": {},
   "outputs": [
    {
     "name": "stdout",
     "output_type": "stream",
     "text": [
      "aaa\n"
     ]
    }
   ],
   "source": [
    "# %laod anyfile.py을 실행하면 anyfile.py를 실행하고 %load anyfile.py는 주석처리 됨\n",
    "# %load anyfile.py\n",
    "\n",
    "print(\"aaa\")"
   ]
  },
  {
   "cell_type": "markdown",
   "metadata": {},
   "source": [
    "## 8. 여러줄 주석처리\n",
    "\n",
    "* Ctrl + /"
   ]
  },
  {
   "cell_type": "code",
   "execution_count": null,
   "metadata": {},
   "outputs": [],
   "source": [
    "sample_list = []\n",
    "sumsum = 0\n",
    "\n",
    "for i in range(10) :\n",
    "  sample_list.append(i)\n",
    "  sumsum += i\n",
    "  print(i)\n",
    "print('loop done')\n",
    "print(sumsum)\n",
    "print(sample_list)\n"
   ]
  }
 ],
 "metadata": {
  "accelerator": "GPU",
  "colab": {
   "collapsed_sections": [
    "sNKHr4xc-8gW",
    "qAHLjoP_EUQx",
    "7ldgQlRbGzn2",
    "eOO-pcoKmi1z",
    "MXHLpl9erIEN",
    "5wgLkis47ECE",
    "I9UOTCHu3qfV",
    "dj1ym8sYIUIY"
   ],
   "name": "00_Colab_Basics.ipynb",
   "provenance": [],
   "version": "0.3.2"
  },
  "kernelspec": {
   "display_name": "Python 3",
   "language": "python",
   "name": "python3"
  },
  "language_info": {
   "codemirror_mode": {
    "name": "ipython",
    "version": 3
   },
   "file_extension": ".py",
   "mimetype": "text/x-python",
   "name": "python",
   "nbconvert_exporter": "python",
   "pygments_lexer": "ipython3",
   "version": "3.7.1"
  }
 },
 "nbformat": 4,
 "nbformat_minor": 1
}
