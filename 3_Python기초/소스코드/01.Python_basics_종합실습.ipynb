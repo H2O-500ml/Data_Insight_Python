{
 "cells": [
  {
   "cell_type": "markdown",
   "metadata": {
    "colab_type": "text",
    "id": "8wUFcPpjwv8b"
   },
   "source": [
    "# 01. Python Basics 종합실습\n",
    "    \n",
    "작성자 : 한기영\n",
    "\n",
    "\n",
    "#### Python Basics에서 반드시 알고 넘어가야 하는 내용들 입니다.\n",
    "1. 스스로 해결한 것\n",
    "2. 설명을 듣고 완전히 이해한 것\n",
    "3. 설명을 듣고 조금 이해한 것\n",
    "4. 아직 이해 못하고 어렵게만 느껴지는 것  \n",
    "\n",
    "...을 구분하여 스스로 체크하고,  \n",
    "3번과 4번으로 체크한 문제는 반드시 강사에게 개인지도를 요청하세요~!!"
   ]
  },
  {
   "cell_type": "markdown",
   "metadata": {
    "colab_type": "text",
    "id": "afse8O3Uwv-R"
   },
   "source": [
    "### 실습 문제"
   ]
  },
  {
   "cell_type": "code",
   "execution_count": 18,
   "metadata": {},
   "outputs": [],
   "source": [
    "# 1) 빈 리스트 list_score를 만드시오.\n",
    "\n",
    "list_score = []"
   ]
  },
  {
   "cell_type": "code",
   "execution_count": 19,
   "metadata": {},
   "outputs": [
    {
     "name": "stdout",
     "output_type": "stream",
     "text": [
      "[5, 10, 15, 20, 25, 30, 35, 40, 45]\n"
     ]
    }
   ],
   "source": [
    "# 2) list_score에, 50보다 작은 5의 배수를 추가하시오\n",
    "\n",
    "for i in range(50):\n",
    "    if i%5 == 0 and i > 0:\n",
    "        list_score.append(i)\n",
    "print(list_score)"
   ]
  },
  {
   "cell_type": "code",
   "execution_count": 20,
   "metadata": {},
   "outputs": [
    {
     "name": "stdout",
     "output_type": "stream",
     "text": [
      "[5, 10, 15, 20, 25, 30, 35, 40]\n"
     ]
    }
   ],
   "source": [
    "# 3) 제일 마지막 인덱스의 값을 삭제하시오\n",
    "\n",
    "del list_score[-1]\n",
    "print(list_score)"
   ]
  },
  {
   "cell_type": "code",
   "execution_count": 21,
   "metadata": {},
   "outputs": [
    {
     "name": "stdout",
     "output_type": "stream",
     "text": [
      "[20, 25, 30]\n"
     ]
    }
   ],
   "source": [
    "# 4) 네번째에서 여섯번째까지의 값을 조회하시오.\n",
    "\n",
    "print(list_score[3:6])"
   ]
  },
  {
   "cell_type": "code",
   "execution_count": 22,
   "metadata": {},
   "outputs": [],
   "source": [
    "# 5) score 값에 따라 등급을 반환해 주는 grade 함수를 만드시오.\n",
    "# 30점 이상 'A'\n",
    "#15점 이상 'B'\n",
    "#15점 미만 'C'\n",
    "\n",
    "def grade(score):\n",
    "    if score >= 30:\n",
    "        gr = 'A'\n",
    "    elif score >= 15:\n",
    "        gr = 'B'\n",
    "    else:\n",
    "        gr = 'C'\n",
    "    return gr\n",
    "\n",
    "\n",
    "\n"
   ]
  },
  {
   "cell_type": "code",
   "execution_count": 23,
   "metadata": {},
   "outputs": [
    {
     "name": "stdout",
     "output_type": "stream",
     "text": [
      "C\n",
      "C\n",
      "B\n",
      "B\n",
      "B\n",
      "A\n",
      "A\n",
      "A\n"
     ]
    }
   ],
   "source": [
    "# 6) 3번 이후의 list_score를 이용하여 아래 문제를 푸시오.\n",
    "# list_score의 점수를 차례로 읽어서 grade (등급)을 출력하시오.\n",
    "\n",
    "for i in list_score:\n",
    "    print(grade(i))\n",
    "    \n",
    "\n",
    "\n"
   ]
  },
  {
   "cell_type": "code",
   "execution_count": 24,
   "metadata": {},
   "outputs": [
    {
     "name": "stdout",
     "output_type": "stream",
     "text": [
      "['C', 'C', 'B', 'B', 'B', 'A', 'A', 'A']\n"
     ]
    }
   ],
   "source": [
    "# 7) 6번을 변형하여 등급을 리스트 list_grade에 각각 입력하시오.\n",
    "\n",
    "list_grade = []\n",
    "\n",
    "list_grade = [grade(i) for i in list_score]\n",
    "print(list_grade)"
   ]
  },
  {
   "cell_type": "code",
   "execution_count": null,
   "metadata": {},
   "outputs": [],
   "source": []
  }
 ],
 "metadata": {
  "colab": {
   "collapsed_sections": [
    "mH1fAGCqwv9I",
    "ys7jI8Wzwv-b",
    "VHcAusnqwv_K",
    "iq8wTBVhwv_6",
    "Of2MVQf8wwAX",
    "870ceL41wwAg",
    "wAOMbDZSwwAy",
    "Roj0XVn3wwA-",
    "hcYUXlSGwwBR",
    "JA_zB6t4wwBc",
    "WjpUb3wPwwBk",
    "L6s7bhG7wwB4"
   ],
   "name": "01.Python_basics.ipynb",
   "provenance": [],
   "version": "0.3.2"
  },
  "kernelspec": {
   "display_name": "Python 3",
   "language": "python",
   "name": "python3"
  },
  "language_info": {
   "codemirror_mode": {
    "name": "ipython",
    "version": 3
   },
   "file_extension": ".py",
   "mimetype": "text/x-python",
   "name": "python",
   "nbconvert_exporter": "python",
   "pygments_lexer": "ipython3",
   "version": "3.7.1"
  }
 },
 "nbformat": 4,
 "nbformat_minor": 1
}
