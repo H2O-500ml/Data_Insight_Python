{
 "cells": [
  {
   "cell_type": "markdown",
   "metadata": {
    "colab_type": "text",
    "id": "z6cFcRvgUVsh"
   },
   "source": [
    "# 03. Pandas 종합실습\n",
    "\n",
    "작성자 : 한기영\n",
    "\n",
    "1. 스스로 해결한 것\n",
    "2. 설명을 듣고 완전히 이해한 것\n",
    "3. 설명을 듣고 조금 이해한 것\n",
    "4. 아직 이해 못하고 어렵게만 느껴지는 것  \n",
    "\n",
    "...을 구분하여 스스로 체크하고,  \n",
    "3번과 4번으로 체크한 문제는 반드시 강사에게 개인지도를 요청하세요~!!"
   ]
  },
  {
   "cell_type": "markdown",
   "metadata": {
    "colab_type": "text",
    "id": "jZQMeJKXUVs4"
   },
   "source": [
    "### SQL Server에서 가져온 Sales, Customers, Products 를 이용하여 실습을 진행하세요."
   ]
  },
  {
   "cell_type": "code",
   "execution_count": null,
   "metadata": {},
   "outputs": [],
   "source": [
    "# 필요한 라이브러리를 로딩하시오\n",
    "\n"
   ]
  },
  {
   "cell_type": "code",
   "execution_count": null,
   "metadata": {
    "colab": {},
    "colab_type": "code",
    "id": "X-3lNlP4UVs5"
   },
   "outputs": [],
   "source": [
    "#1) Sales 에서 연도별 매출액을 조회하시오.\n",
    "\n"
   ]
  },
  {
   "cell_type": "code",
   "execution_count": null,
   "metadata": {},
   "outputs": [],
   "source": [
    "#2) 2016년 월별 매출액을 조회하시오.\n",
    "\n"
   ]
  },
  {
   "cell_type": "code",
   "execution_count": null,
   "metadata": {},
   "outputs": [],
   "source": [
    "#3) 2017년 고객별 매출액 상위 10명을 조회하시오.\n",
    "\n"
   ]
  },
  {
   "cell_type": "code",
   "execution_count": null,
   "metadata": {},
   "outputs": [],
   "source": [
    "#4) 2017년에 가장 많이 팔린 상품 top 5를 판매량과 함께 조회하시오.\n",
    "\n"
   ]
  },
  {
   "cell_type": "code",
   "execution_count": null,
   "metadata": {},
   "outputs": [],
   "source": [
    "#5) 2016년 Customers의 Addr1(시도별) 별 매출액을 집계하시오.\n"
   ]
  },
  {
   "cell_type": "code",
   "execution_count": null,
   "metadata": {},
   "outputs": [],
   "source": [
    "# 6) 연도별 Products의 Category 별 매출액을 집계하여 저장하시오.\n"
   ]
  },
  {
   "cell_type": "code",
   "execution_count": null,
   "metadata": {},
   "outputs": [],
   "source": [
    "# 7) Category는 범주형 데이터입니다. \n",
    "# 가변수(Dummy variable)화 하여 6번 결과와 합치고,\n",
    "# 가변수 칼럼의 이름을 변경하시오.\n",
    "\n"
   ]
  }
 ],
 "metadata": {
  "colab": {
   "collapsed_sections": [
    "Tae5l6ABY89V",
    "FB4DtUU2UVsj",
    "Cj80rqK-UVsw",
    "J00GVYYZUVs8",
    "KiF6MXK8UVtM",
    "v7cmzxq1UVtR",
    "p3E0RUeXUVtb",
    "-1OWDcQDcI5A",
    "zF05aVKdUVtm"
   ],
   "name": "71.Numpy.ipynb",
   "provenance": [],
   "version": "0.3.2"
  },
  "kernelspec": {
   "display_name": "Python 3",
   "language": "python",
   "name": "python3"
  },
  "language_info": {
   "codemirror_mode": {
    "name": "ipython",
    "version": 3
   },
   "file_extension": ".py",
   "mimetype": "text/x-python",
   "name": "python",
   "nbconvert_exporter": "python",
   "pygments_lexer": "ipython3",
   "version": "3.7.0"
  }
 },
 "nbformat": 4,
 "nbformat_minor": 1
}
