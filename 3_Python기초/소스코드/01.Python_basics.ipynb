{
 "cells": [
  {
   "cell_type": "markdown",
   "metadata": {
    "colab_type": "text",
    "id": "8wUFcPpjwv8b"
   },
   "source": [
    "# 01. Python Basics\n",
    "    \n",
    "작성자 : 김정훈 <br>\n",
    "수정   : 한기영\n",
    "\n",
    "\n",
    "#### 주의 : 파이썬의 모든 것을 다루지 않습니다. Machine Learning 또는 Deep Learning 을 공부하기 위해 최소한 알아야 하는 범위만을 다룹니다.\n",
    "\n",
    "#### 실습목표\n",
    "1. 데이터 타입을 알고 있다. - 숫자, 문자, boolean\n",
    "2. 출력문(print)을 이용하여 출력할 수 있다.\n",
    "3. 조건문(if-else)이 무엇인지 알고 조건문이 사용된 소스코드를 이해할 수 있다. \n",
    "4. 반복문(loop)이 무엇인지 알고 반복문이 사용된 소스코드를 이해할 수 있다. \n",
    "5. 자료형이 무엇인지 알고 자료형이 사용된 소스코드를 이해할 수 있다.\n",
    "6. List, Dictionary, Set, Tuple 각 자료형의 특징과 차이점을 안다.\n",
    "7. 함수(Function)가 무엇인지 알고, 함수가 사용된 소스코드를 이해할 수 있다. 간단한 함수를 작성할 수 있다. \n",
    "8. Python으로 작성된 소스코드를 이해하고, 간단한 코드를 작성할 수 있다."
   ]
  },
  {
   "cell_type": "markdown",
   "metadata": {
    "colab_type": "text",
    "id": "FsQJc8Ruwv8i"
   },
   "source": [
    "## Magic 키워드\n",
    "* Jupyter Notebook은 사용자 편의를 위해 Magic 키워드 를 지원한다.\n",
    "* Magic 키워드는 % 또는 %%를 이용하여 실행할 수 있다. 각각 한 줄, 한 셀에 대해 Magic 키워드를 실행한다."
   ]
  },
  {
   "cell_type": "code",
   "execution_count": 1,
   "metadata": {
    "colab": {},
    "colab_type": "code",
    "id": "CWnal4YCwv8l"
   },
   "outputs": [
    {
     "name": "stdout",
     "output_type": "stream",
     "text": [
      "Once deleted, variables cannot be recovered. Proceed (y/[n])? \n",
      "Nothing done.\n"
     ]
    }
   ],
   "source": [
    "# 메모리를 리셋한다.\n",
    "%reset\n"
   ]
  },
  {
   "cell_type": "markdown",
   "metadata": {
    "colab_type": "text",
    "id": "DTkA-giCwv80"
   },
   "source": [
    "## 00. Hello Python"
   ]
  },
  {
   "cell_type": "code",
   "execution_count": 2,
   "metadata": {
    "colab": {},
    "colab_type": "code",
    "id": "jXsk4Fr4wv83"
   },
   "outputs": [
    {
     "name": "stdout",
     "output_type": "stream",
     "text": [
      "Hello, Python World!!\n"
     ]
    }
   ],
   "source": [
    "print(\"Hello, Python World!!\") \n",
    "\n",
    "# !주의 \n",
    "# 아래의 주석을 해제하여 실행해보자.\n",
    "\n",
    "#print \"Hello, Python World!!\""
   ]
  },
  {
   "cell_type": "code",
   "execution_count": 3,
   "metadata": {},
   "outputs": [],
   "source": [
    "# help '?' 이용,\n",
    "?print"
   ]
  },
  {
   "cell_type": "code",
   "execution_count": 4,
   "metadata": {
    "colab": {},
    "colab_type": "code",
    "id": "ku0amvSawv9A"
   },
   "outputs": [
    {
     "ename": "TypeError",
     "evalue": "sum expected at least 1 arguments, got 0",
     "output_type": "error",
     "traceback": [
      "\u001b[1;31m---------------------------------------------------------------------------\u001b[0m",
      "\u001b[1;31mTypeError\u001b[0m                                 Traceback (most recent call last)",
      "\u001b[1;32m<ipython-input-4-41c3f2d2b9ff>\u001b[0m in \u001b[0;36m<module>\u001b[1;34m\u001b[0m\n\u001b[0;32m      1\u001b[0m \u001b[1;31m#  ()안에 Shift + Tab\u001b[0m\u001b[1;33m\u001b[0m\u001b[1;33m\u001b[0m\u001b[1;33m\u001b[0m\u001b[0m\n\u001b[1;32m----> 2\u001b[1;33m \u001b[0msum\u001b[0m\u001b[1;33m(\u001b[0m\u001b[1;33m)\u001b[0m\u001b[1;33m\u001b[0m\u001b[1;33m\u001b[0m\u001b[0m\n\u001b[0m",
      "\u001b[1;31mTypeError\u001b[0m: sum expected at least 1 arguments, got 0"
     ]
    }
   ],
   "source": [
    "#  ()안에 Shift + Tab\n",
    "sum()"
   ]
  },
  {
   "cell_type": "markdown",
   "metadata": {},
   "source": [
    "### 연산자"
   ]
  },
  {
   "cell_type": "code",
   "execution_count": 5,
   "metadata": {},
   "outputs": [
    {
     "name": "stdout",
     "output_type": "stream",
     "text": [
      "2\n",
      "7\n",
      "9\n"
     ]
    }
   ],
   "source": [
    "# 계산\n",
    "# 사칙연산은 생략합니다.\n",
    "\n",
    "# 모듈로 : 나머지\n",
    "print(23 % 3)\n",
    "\n",
    "# 나눗셈의 몫\n",
    "print(23 // 3)\n",
    "\n",
    "# 지수 연산\n",
    "print(3 ** 2)"
   ]
  },
  {
   "cell_type": "markdown",
   "metadata": {},
   "source": [
    "* print를 사용하여 출력한 것과 그렇지 않은 것의 차이는?"
   ]
  },
  {
   "cell_type": "code",
   "execution_count": 6,
   "metadata": {},
   "outputs": [
    {
     "data": {
      "text/plain": [
       "2"
      ]
     },
     "execution_count": 6,
     "metadata": {},
     "output_type": "execute_result"
    }
   ],
   "source": [
    "23 % 3"
   ]
  },
  {
   "cell_type": "code",
   "execution_count": 7,
   "metadata": {},
   "outputs": [
    {
     "name": "stdout",
     "output_type": "stream",
     "text": [
      "2\n"
     ]
    }
   ],
   "source": [
    "print(23%3)"
   ]
  },
  {
   "cell_type": "code",
   "execution_count": 8,
   "metadata": {},
   "outputs": [
    {
     "name": "stdout",
     "output_type": "stream",
     "text": [
      "True\n",
      "False\n"
     ]
    }
   ],
   "source": [
    "# 비교\n",
    "# 같다\n",
    "print(\"abc\" == \"abc\")\n",
    "print(\"abc\" == \"Abc\")\n"
   ]
  },
  {
   "cell_type": "code",
   "execution_count": 9,
   "metadata": {},
   "outputs": [
    {
     "name": "stdout",
     "output_type": "stream",
     "text": [
      "False\n",
      "True\n"
     ]
    }
   ],
   "source": [
    "# 같지않다\n",
    "print(\"abc\" != \"abc\")\n",
    "print(\"abc\" != \"Abc\")\n"
   ]
  },
  {
   "cell_type": "code",
   "execution_count": 10,
   "metadata": {},
   "outputs": [
    {
     "name": "stdout",
     "output_type": "stream",
     "text": [
      "False\n",
      "True\n"
     ]
    }
   ],
   "source": [
    "# 크다\n",
    "print(\"abc\" < \"Abc\")\n",
    "print(\"abc\" < \"bbc\")"
   ]
  },
  {
   "cell_type": "code",
   "execution_count": 11,
   "metadata": {},
   "outputs": [
    {
     "name": "stdout",
     "output_type": "stream",
     "text": [
      "3\n",
      "<class 'int'>\n"
     ]
    }
   ],
   "source": [
    "# 숫자형 변수\n",
    "\n",
    "x = 3\n",
    "print(x)             # \"3\" 출력\n",
    "print(type(x))   # Prints \"<class 'int'>\""
   ]
  },
  {
   "cell_type": "code",
   "execution_count": 12,
   "metadata": {},
   "outputs": [
    {
     "name": "stdout",
     "output_type": "stream",
     "text": [
      "4\n",
      "2\n",
      "6\n",
      "9\n",
      "27\n",
      "1.5\n",
      "1\n"
     ]
    }
   ],
   "source": [
    "# 숫자형 변수에 대한 기본 연산\n",
    "print(x + 1)   # 더하기, \"4\"\n",
    "print(x - 1)   # 빼기, \"2\"\n",
    "print(x * 2)   # 곱하기, \"6\"\n",
    "print(x ** 2)  # 2제곱, \"9\"\n",
    "print(x ** 3)  # 3제곱, \"27\"\n",
    "print(x / 2)   # 2로 나누기, \"1.5\" int / int 나누었을때 float형식이 나올 수 있다.\n",
    "print(x % 2)   # 2로 나누고 나머지, \"1\""
   ]
  },
  {
   "cell_type": "code",
   "execution_count": 13,
   "metadata": {
    "scrolled": true
   },
   "outputs": [
    {
     "name": "stdout",
     "output_type": "stream",
     "text": [
      "3\n",
      "4\n",
      "5\n"
     ]
    }
   ],
   "source": [
    "print(x)\n",
    "x = x + 1\n",
    "print(x)\n",
    "x += 1   # x = x+1과 같은 문장\n",
    "print(x)  "
   ]
  },
  {
   "cell_type": "code",
   "execution_count": 14,
   "metadata": {},
   "outputs": [
    {
     "name": "stdout",
     "output_type": "stream",
     "text": [
      "10\n",
      "20\n"
     ]
    }
   ],
   "source": [
    "x = x * 2\n",
    "print(x)\n",
    "x *= 2\n",
    "print(x)"
   ]
  },
  {
   "cell_type": "markdown",
   "metadata": {},
   "source": [
    "* 그럼 나누기(/)와 빼기(-)는?"
   ]
  },
  {
   "cell_type": "code",
   "execution_count": 15,
   "metadata": {},
   "outputs": [
    {
     "name": "stdout",
     "output_type": "stream",
     "text": [
      "10.0\n"
     ]
    }
   ],
   "source": [
    "x = x / 2\n",
    "print(x)"
   ]
  },
  {
   "cell_type": "code",
   "execution_count": 16,
   "metadata": {},
   "outputs": [],
   "source": [
    "# 위 +와 * 같은 형식으로 / 도 작성해보시오\n",
    "\n"
   ]
  },
  {
   "cell_type": "code",
   "execution_count": 17,
   "metadata": {},
   "outputs": [
    {
     "name": "stdout",
     "output_type": "stream",
     "text": [
      "8.0\n"
     ]
    }
   ],
   "source": [
    "x = x - 2\n",
    "print(x)"
   ]
  },
  {
   "cell_type": "code",
   "execution_count": 18,
   "metadata": {},
   "outputs": [],
   "source": [
    "# 위 +와 * 같은 형식으로 - 도 작성해보시오\n",
    "\n"
   ]
  },
  {
   "cell_type": "code",
   "execution_count": 19,
   "metadata": {
    "colab": {},
    "colab_type": "code",
    "id": "KF_hDNsxwv9L"
   },
   "outputs": [
    {
     "name": "stdout",
     "output_type": "stream",
     "text": [
      "<class 'float'>\n",
      "2.5 3.5 5.0 6.25\n"
     ]
    }
   ],
   "source": [
    "y = 2.5\n",
    "print(type(y)) \n",
    "\n",
    "print(y,   y + 1,   y * 2,   y ** 2) # \"2.5 3.5 5.0 6.25\""
   ]
  },
  {
   "cell_type": "markdown",
   "metadata": {},
   "source": [
    "* True/False Boolean"
   ]
  },
  {
   "cell_type": "code",
   "execution_count": 20,
   "metadata": {
    "colab": {},
    "colab_type": "code",
    "id": "0YeWcV-Qwv9U"
   },
   "outputs": [
    {
     "name": "stdout",
     "output_type": "stream",
     "text": [
      "<class 'bool'>\n"
     ]
    }
   ],
   "source": [
    "t = True\n",
    "f = False\n",
    "print(type(t)) "
   ]
  },
  {
   "cell_type": "code",
   "execution_count": 21,
   "metadata": {},
   "outputs": [
    {
     "name": "stdout",
     "output_type": "stream",
     "text": [
      "False\n",
      "True\n",
      "False\n"
     ]
    }
   ],
   "source": [
    "print(t and f)   # AND 연산, \"False\"\n",
    "print(t or f)     # OR 연산, \"True\"\n",
    "print(not t)     # NOT 연산, prints \"False\""
   ]
  },
  {
   "cell_type": "markdown",
   "metadata": {},
   "source": [
    "* 문자열"
   ]
  },
  {
   "cell_type": "code",
   "execution_count": 22,
   "metadata": {
    "colab": {},
    "colab_type": "code",
    "id": "LUwP9g0mwv9d"
   },
   "outputs": [
    {
     "name": "stdout",
     "output_type": "stream",
     "text": [
      "hello\n",
      "5\n"
     ]
    }
   ],
   "source": [
    "# 파이썬은 문자열에 대해 상당한 편의성을 지원합니다.\n",
    "\n",
    "hello = 'hello'    # 작은 따옴표를 사용할 수 있습니다.\n",
    "world = \"world\"    # 큰 따옴표도 사용할 수 있습니다.\n",
    "print(hello)       # \"hello\" 출력.\n",
    "print(len(hello))  # 문자열 길이 출력  \"5\""
   ]
  },
  {
   "cell_type": "code",
   "execution_count": 23,
   "metadata": {},
   "outputs": [
    {
     "name": "stdout",
     "output_type": "stream",
     "text": [
      "hello world\n",
      "hello world 12\n"
     ]
    }
   ],
   "source": [
    "hw = hello + ' ' + world  # 문자열 연결\n",
    "print(hw)  # \"hello world\" 출력\n",
    "\n",
    "hw12 = '%s %s %d' % (hello, world, 12)  # 변수를 활용하는 문자열 서식\n",
    "print(hw12)  # \"hello world 12\" 출력"
   ]
  },
  {
   "cell_type": "code",
   "execution_count": 24,
   "metadata": {},
   "outputs": [
    {
     "name": "stdout",
     "output_type": "stream",
     "text": [
      "hello world 12\n"
     ]
    }
   ],
   "source": [
    "# New version~! \n",
    "hw12 = '{} {} {}'.format(hello, world, 12)  # 변수를 활용하는 문자열 서식\n",
    "print(hw12)  # \"hello world 12\" 출력"
   ]
  },
  {
   "cell_type": "code",
   "execution_count": 25,
   "metadata": {},
   "outputs": [
    {
     "name": "stdout",
     "output_type": "stream",
     "text": [
      "12.12346\n"
     ]
    }
   ],
   "source": [
    "# 소수점 자리수를 제한하려면\n",
    "hw12 = '{:.5f}'.format(12.123456)  # 변수를 활용하는 문자열 서식, 반올림 한다.\n",
    "print(hw12)  # \"hello world 12\" 출력"
   ]
  },
  {
   "cell_type": "markdown",
   "metadata": {},
   "source": [
    "* object(변수) 뒤에 '.함수' 형식으로 사용하는 함수를 method라고 부른다"
   ]
  },
  {
   "cell_type": "markdown",
   "metadata": {},
   "source": [
    "아래에서 .capitalize(), .upper() 같은..."
   ]
  },
  {
   "cell_type": "code",
   "execution_count": 26,
   "metadata": {
    "colab": {},
    "colab_type": "code",
    "id": "JZYd4RpEwv9n"
   },
   "outputs": [
    {
     "name": "stdout",
     "output_type": "stream",
     "text": [
      "Hello\n",
      "HELLO\n"
     ]
    }
   ],
   "source": [
    "s = \"hello\"\n",
    "print(s.capitalize())  # Capitalize, 알파벳 첫 문자를 대문자로\n",
    "print(s.upper())       # 문자열 전체를 대문자로, \"HELLO\""
   ]
  },
  {
   "cell_type": "code",
   "execution_count": 27,
   "metadata": {},
   "outputs": [
    {
     "name": "stdout",
     "output_type": "stream",
     "text": [
      "  hello\n",
      "7\n",
      "hello  \n",
      "7\n",
      " hello \n",
      "7\n"
     ]
    }
   ],
   "source": [
    "# 공백 문자열을 추가하여 출력하되\n",
    "print(s.rjust(7))      # 오른쪽 정렬로 출력, \"  hello\"\n",
    "print(len(s.rjust(7))) # 문자열 길이는 7\n",
    "print(s.ljust(7))      # 왼쪽 정렬로 출력, \"hello  \"\n",
    "print(len(s.rjust(7))) # 문자열 길이는 7\n",
    "print(s.center(7))     # 중앙 정렬로 출력, \" hello \"\n",
    "print(len(s.center(7)))"
   ]
  },
  {
   "cell_type": "code",
   "execution_count": 28,
   "metadata": {},
   "outputs": [
    {
     "name": "stdout",
     "output_type": "stream",
     "text": [
      "hell, go\n"
     ]
    }
   ],
   "source": [
    "# 문자열 변경\n",
    "print(s.replace('o', ', go'))  # 'o'을 ', go'로 바꿈, \"hell, go\""
   ]
  },
  {
   "cell_type": "code",
   "execution_count": 29,
   "metadata": {},
   "outputs": [
    {
     "name": "stdout",
     "output_type": "stream",
     "text": [
      "world\n"
     ]
    }
   ],
   "source": [
    "# 앞 뒤 빈 문자열 제거\n",
    "print('  world '.strip())"
   ]
  },
  {
   "cell_type": "code",
   "execution_count": 30,
   "metadata": {
    "colab": {},
    "colab_type": "code",
    "id": "ihgAiYJmwv94"
   },
   "outputs": [
    {
     "name": "stdout",
     "output_type": "stream",
     "text": [
      "10 Hello 0.1\n"
     ]
    }
   ],
   "source": [
    "# 여러 변수를 한 줄에 입력\n",
    "a, b, c = 10, 'Hello', 0.1\n",
    "print(\"{} {} {}\".format(a, b, c))"
   ]
  },
  {
   "cell_type": "markdown",
   "metadata": {
    "colab_type": "text",
    "id": "afse8O3Uwv-R"
   },
   "source": [
    "### 실습 : Python_basics ①"
   ]
  },
  {
   "cell_type": "code",
   "execution_count": 31,
   "metadata": {
    "colab": {},
    "colab_type": "code",
    "id": "HFeA9b8Awv-T"
   },
   "outputs": [],
   "source": [
    "out = \"{}번 학생 {}, 총점은 {:.1f}점 입니다.\"\n",
    "\n",
    "stu01 = \" 한기영 \"\n",
    "stu01_num = 1\n",
    "stu01_course_1 = 92\n",
    "stu01_course_2 = 96\n",
    "stu01_course_3 = 98\n",
    "\n",
    "stu02 = \" 김정훈 \"\n",
    "stu02_num = 2\n",
    "stu02_course_1 = 58\n",
    "stu02_course_2 = 64\n",
    "stu02_course_3 = 100\n",
    "\n",
    "stu03 = \"이장래    \"\n",
    "stu03_num = 3\n",
    "stu03_course_1 = 88\n",
    "stu03_course_2 = 84\n",
    "stu03_course_3 = 92"
   ]
  },
  {
   "cell_type": "code",
   "execution_count": 38,
   "metadata": {},
   "outputs": [],
   "source": [
    "# 1) 자신의 이름을 가지고 위의 변수값을 참고하여 동일한 형태로 stu04를 만들어 주세요. \n",
    "stu04 = '송수형'\n",
    "stu04_num = 4\n",
    "stu04_course_1 = 100\n",
    "stu04_course_2 = 100\n",
    "stu04_course_3 = 100"
   ]
  },
  {
   "cell_type": "code",
   "execution_count": 40,
   "metadata": {},
   "outputs": [],
   "source": [
    "# 2) strip() 함수를 이용하여, 각 학생들의 이름의 앞뒤에 있는 공백을 지워서 다시 같은 변수에 담기.\n",
    "# stu01, stu02, stu03, stu04\n",
    "\n",
    "stu01=stu01.strip()\n",
    "stu02=stu02.strip()\n",
    "stu03=stu03.strip()\n",
    "stu04=stu04.strip()"
   ]
  },
  {
   "cell_type": "code",
   "execution_count": 44,
   "metadata": {},
   "outputs": [],
   "source": [
    "# 3) 각 학생들의 평균점수 구하기\n",
    "# stu01_avg, stu02_avg, stu03_avg, stu04_avg\n",
    "\n",
    "stu01_avg = (stu01_course_1+stu01_course_2+stu01_course_3)/3\n",
    "stu02_avg = (stu02_course_1+stu02_course_2+stu02_course_3)/3\n",
    "stu03_avg = (stu03_course_1+stu03_course_2+stu03_course_3)/3\n",
    "stu04_avg = (stu04_course_1+stu04_course_2+stu04_course_3)/3\n"
   ]
  },
  {
   "cell_type": "code",
   "execution_count": 45,
   "metadata": {},
   "outputs": [
    {
     "data": {
      "text/plain": [
       "'{}번 학생 {}, 평균점수는 {:.1f}점 입니다.'"
      ]
     },
     "execution_count": 45,
     "metadata": {},
     "output_type": "execute_result"
    }
   ],
   "source": [
    "# 4) replace()를 사용하여, out 변수에 들어있는 문자열 중에 '총점은' 부분을 '평균점수는'으로 \n",
    "#    바꿔서 다시 out에 넣기.\n",
    "\n",
    "out.replace('총점은', '평균점수는')\n"
   ]
  },
  {
   "cell_type": "code",
   "execution_count": 48,
   "metadata": {},
   "outputs": [
    {
     "data": {
      "text/plain": [
       "'1번 학생 한기영, 총점은 95.3점 입니다.'"
      ]
     },
     "execution_count": 48,
     "metadata": {},
     "output_type": "execute_result"
    }
   ],
   "source": [
    "# 5) out을 이용하여 각 학생의 번호, 이름, 평균점수 출력\n",
    "# out.format(stu01_num, stu01, stu01_avg)\n",
    "\n",
    "out.format(stu01_num, stu01, stu01_avg)\n",
    "\n"
   ]
  },
  {
   "cell_type": "markdown",
   "metadata": {
    "colab_type": "text",
    "id": "ys7jI8Wzwv-b"
   },
   "source": [
    "## 021. 제어문(Control)"
   ]
  },
  {
   "cell_type": "code",
   "execution_count": 49,
   "metadata": {
    "colab": {},
    "colab_type": "code",
    "id": "kXJWmDA4wv-d"
   },
   "outputs": [
    {
     "name": "stdout",
     "output_type": "stream",
     "text": [
      "95.33333333333333\n",
      "A\n"
     ]
    }
   ],
   "source": [
    " # 조건문 - if-else\n",
    "\n",
    "my_score = stu01_avg\n",
    " \n",
    "if my_score >= 90:\n",
    "    my_grade = 'A'\n",
    "elif my_score >= 80:\n",
    "    my_grade = 'B'\n",
    "elif my_score >= 70:\n",
    "    my_grade = 'C'\n",
    "elif my_score >= 60:\n",
    "    my_grade = 'E'\n",
    "else:\n",
    "    my_grade = 'F'\n",
    "\n",
    "print(stu01_avg)\n",
    "print(my_grade)"
   ]
  },
  {
   "cell_type": "code",
   "execution_count": 50,
   "metadata": {},
   "outputs": [
    {
     "data": {
      "text/plain": [
       "[0, 1, 2, 3, 4]"
      ]
     },
     "execution_count": 50,
     "metadata": {},
     "output_type": "execute_result"
    }
   ],
   "source": [
    "list(range(5))"
   ]
  },
  {
   "cell_type": "code",
   "execution_count": 51,
   "metadata": {
    "scrolled": false
   },
   "outputs": [
    {
     "name": "stdout",
     "output_type": "stream",
     "text": [
      "0\n",
      "1\n",
      "2\n",
      "3\n",
      "4\n"
     ]
    }
   ],
   "source": [
    "# 반복문 : for\n",
    "for i in range(5):\n",
    "    print(i)"
   ]
  },
  {
   "cell_type": "code",
   "execution_count": 52,
   "metadata": {
    "scrolled": true
   },
   "outputs": [
    {
     "name": "stdout",
     "output_type": "stream",
     "text": [
      "<class 'list'>\n",
      "apple\n",
      "banana\n",
      "cherry\n"
     ]
    }
   ],
   "source": [
    "fruits = ['apple', 'banana', 'cherry']\n",
    "print(type(fruits))\n",
    "for i in fruits:\n",
    "    print(i)"
   ]
  },
  {
   "cell_type": "markdown",
   "metadata": {},
   "source": [
    "* enumerate() : 순서가 있는 자료형를 입력받아, 인덱스와 값을 포함하는 오브젝트로 리턴."
   ]
  },
  {
   "cell_type": "code",
   "execution_count": 53,
   "metadata": {},
   "outputs": [
    {
     "name": "stdout",
     "output_type": "stream",
     "text": [
      "['apple', 'banana', 'cherry']\n"
     ]
    }
   ],
   "source": [
    "print(fruits)"
   ]
  },
  {
   "cell_type": "code",
   "execution_count": 54,
   "metadata": {
    "colab": {},
    "colab_type": "code",
    "id": "z2MA4nSYwv-l",
    "scrolled": true
   },
   "outputs": [
    {
     "name": "stdout",
     "output_type": "stream",
     "text": [
      "0 apple\n",
      "1 banana\n",
      "2 cherry\n"
     ]
    }
   ],
   "source": [
    "for index, value in enumerate(fruits):\n",
    "    print(index, value)"
   ]
  },
  {
   "cell_type": "code",
   "execution_count": 67,
   "metadata": {},
   "outputs": [
    {
     "data": {
      "text/plain": [
       "'apple'"
      ]
     },
     "execution_count": 67,
     "metadata": {},
     "output_type": "execute_result"
    }
   ],
   "source": [
    "fruits[0]"
   ]
  },
  {
   "cell_type": "code",
   "execution_count": 68,
   "metadata": {},
   "outputs": [
    {
     "data": {
      "text/plain": [
       "3"
      ]
     },
     "execution_count": 68,
     "metadata": {},
     "output_type": "execute_result"
    }
   ],
   "source": [
    "len(fruits)"
   ]
  },
  {
   "cell_type": "code",
   "execution_count": 69,
   "metadata": {
    "colab": {},
    "colab_type": "code",
    "id": "SZdxnHsrwv-t"
   },
   "outputs": [
    {
     "name": "stdout",
     "output_type": "stream",
     "text": [
      "apple\n",
      "banana\n",
      "cherry\n"
     ]
    }
   ],
   "source": [
    "# 반복문 - while\n",
    "i = 0 \n",
    "while i < len(fruits):\n",
    "    print(fruits[i])\n",
    "    i += 1"
   ]
  },
  {
   "cell_type": "markdown",
   "metadata": {
    "colab_type": "text",
    "id": "9kWlvOOhwv-5"
   },
   "source": [
    "### 실습 : Python_basics ②"
   ]
  },
  {
   "cell_type": "code",
   "execution_count": 75,
   "metadata": {
    "colab": {},
    "colab_type": "code",
    "id": "h76hBMOcwv-_",
    "scrolled": true
   },
   "outputs": [
    {
     "name": "stdout",
     "output_type": "stream",
     "text": [
      "72\n",
      "C\n"
     ]
    }
   ],
   "source": [
    "score1 = 72\n",
    "score2 = 90\n",
    "score3 = 76\n",
    "\n",
    "# 1) score 값에 따라 등급을 주는 다음의 조건문을 완성하시오.\n",
    "# 95점 이상 A+. 90점 이상 A, 85점 이상 B+, 80점 이상 B,\n",
    "# 75점 이상 C+. 70점 이상 C, 60점 이상 D, 60점 미만 F\n",
    "\n",
    "\n",
    "my_score = score1\n",
    " \n",
    "if my_score >= 95:\n",
    "    my_grade = 'A+'\n",
    "elif my_score >= 90:\n",
    "    my_grade = 'A'\n",
    "elif my_score >= 85:\n",
    "    my_grade = 'B+'\n",
    "elif my_score >= 80:\n",
    "    my_grade = 'B'\n",
    "elif my_score >= 75:\n",
    "    my_grade = 'C+'\n",
    "elif my_score >= 70:\n",
    "    my_grade = 'C'\n",
    "elif my_score >= 60:\n",
    "    my_grade = 'D'\n",
    "else:\n",
    "    my_grade = 'F'\n",
    "\n",
    "print(score1)\n",
    "print(my_grade)"
   ]
  },
  {
   "cell_type": "code",
   "execution_count": 77,
   "metadata": {},
   "outputs": [
    {
     "name": "stdout",
     "output_type": "stream",
     "text": [
      "78.66666666666667\n",
      "Fail\n"
     ]
    }
   ],
   "source": [
    "score1 = 60\n",
    "score2 = 100\n",
    "score3 = 76\n",
    "# 2) score1, score2, score3 각 점수중 하나라도 60점 이하거나 \n",
    "# 점수의 평균이 70점 이하이면 Fail\n",
    "# 그렇지 않은 경우에는 Pass를 주는 조건문을 완성하시오.\n",
    "\n",
    "if score1 <= 60 or score2 <=60 or score3 <=60 or(score1+score2+score3)/3 <=70:\n",
    "    my_G = 'Fail'\n",
    "else:\n",
    "    my_G = 'Pass'\n",
    "    \n",
    "print((score1+score2+score3)/3)\n",
    "print(my_G)"
   ]
  },
  {
   "cell_type": "code",
   "execution_count": 82,
   "metadata": {
    "scrolled": true
   },
   "outputs": [
    {
     "name": "stdout",
     "output_type": "stream",
     "text": [
      "5050\n"
     ]
    }
   ],
   "source": [
    "# 3) for문과 range를 사용하여 1 ~ 100까지의 합을 구하시오\n",
    "s = 0\n",
    "for i in range(1,101):\n",
    "    s += i\n",
    "\n",
    "print(s)"
   ]
  },
  {
   "cell_type": "code",
   "execution_count": 97,
   "metadata": {
    "scrolled": true
   },
   "outputs": [
    {
     "name": "stdout",
     "output_type": "stream",
     "text": [
      "2500\n"
     ]
    }
   ],
   "source": [
    "# 4) while문을 사용하여 1 ~ 100까지 사이의 홀수의 합을 구하시오\n",
    "# s = 0\n",
    "\n",
    "# for i in range(1,101):\n",
    "#     if i%2 == 1:\n",
    "#         s += i\n",
    "\n",
    "# print(s)\n",
    "\n",
    "i, s = 0, 0\n",
    "while i <= 100:\n",
    "    if i%2 == 1:\n",
    "        s+=i\n",
    "    i+=1\n",
    "print(s)"
   ]
  },
  {
   "cell_type": "code",
   "execution_count": 89,
   "metadata": {},
   "outputs": [
    {
     "data": {
      "text/plain": [
       "[0, 1, 2, 3, 4]"
      ]
     },
     "execution_count": 89,
     "metadata": {},
     "output_type": "execute_result"
    }
   ],
   "source": [
    "list(range(5))"
   ]
  },
  {
   "cell_type": "code",
   "execution_count": 90,
   "metadata": {
    "scrolled": false
   },
   "outputs": [
    {
     "name": "stdout",
     "output_type": "stream",
     "text": [
      "7\n",
      "14\n",
      "21\n",
      "28\n",
      "35\n",
      "42\n",
      "49\n",
      "56\n",
      "63\n",
      "70\n",
      "77\n",
      "84\n",
      "91\n",
      "98\n"
     ]
    }
   ],
   "source": [
    "# 5) for 문과 range를 사용하여 1~100까지 수 중 7의 배수를 출력하시오.\n",
    "\n",
    "for i in range(1,101):\n",
    "    if i%7==0:\n",
    "        print(i)\n",
    "\n"
   ]
  },
  {
   "cell_type": "code",
   "execution_count": 99,
   "metadata": {},
   "outputs": [],
   "source": [
    "# sum은 함수로 이름이 지정되어 있기에, 동일한 이름의 변수이름을 만들면 함수가 실행 안됨.\n",
    "# 그래서 삭제합시다.\n",
    "del sum"
   ]
  },
  {
   "cell_type": "markdown",
   "metadata": {
    "colab_type": "text",
    "id": "VHcAusnqwv_K"
   },
   "source": [
    "## 031. 자료형(Container) - Lists"
   ]
  },
  {
   "cell_type": "code",
   "execution_count": 100,
   "metadata": {},
   "outputs": [
    {
     "name": "stdout",
     "output_type": "stream",
     "text": [
      "[44, 44, 14, 12, 8]\n"
     ]
    }
   ],
   "source": [
    "# 리스트 생성\n",
    "age1 = 44\n",
    "age2 = 44\n",
    "age3 = 14\n",
    "age4 = 12\n",
    "age5 = 8\n",
    "\n",
    "family_age = [44,44,14,12,8]\n",
    "print(family_age)"
   ]
  },
  {
   "cell_type": "code",
   "execution_count": 101,
   "metadata": {},
   "outputs": [
    {
     "name": "stdout",
     "output_type": "stream",
     "text": [
      "['Dad', 44, 'Mom', 44, 'Son1', 14, 'Son2', 12, 'Son3', 8]\n"
     ]
    }
   ],
   "source": [
    "family = ['Dad',44,'Mom',44, 'Son1',14, 'Son2',12, 'Son3',8]\n",
    "print(family)"
   ]
  },
  {
   "cell_type": "code",
   "execution_count": 102,
   "metadata": {
    "scrolled": true
   },
   "outputs": [
    {
     "name": "stdout",
     "output_type": "stream",
     "text": [
      "Dad\n",
      "12\n"
     ]
    }
   ],
   "source": [
    "# 인덱스로 데이터 가져오기\n",
    "print(family[0])\n",
    "print(family[-3])"
   ]
  },
  {
   "cell_type": "markdown",
   "metadata": {},
   "source": [
    "* Slicing"
   ]
  },
  {
   "cell_type": "code",
   "execution_count": 103,
   "metadata": {},
   "outputs": [
    {
     "data": {
      "text/plain": [
       "['Dad', 44, 'Mom', 44, 'Son1', 14, 'Son2', 12, 'Son3', 8]"
      ]
     },
     "execution_count": 103,
     "metadata": {},
     "output_type": "execute_result"
    }
   ],
   "source": [
    "family"
   ]
  },
  {
   "cell_type": "code",
   "execution_count": 104,
   "metadata": {},
   "outputs": [
    {
     "name": "stdout",
     "output_type": "stream",
     "text": [
      "['Mom', 44, 'Son1', 14]\n",
      "['Son2', 12, 'Son3', 8]\n"
     ]
    }
   ],
   "source": [
    "print(family[2:6])\n",
    "print(family[6:])\n"
   ]
  },
  {
   "cell_type": "code",
   "execution_count": 105,
   "metadata": {
    "scrolled": true
   },
   "outputs": [
    {
     "name": "stdout",
     "output_type": "stream",
     "text": [
      "['Dad', 44, 'Mom', 44, 'Son1', 14, 'Son2', 12, 'Son3', 8]\n",
      "['Dad', 44, 'Mom', 44, 'Son1', 14, 'Son2', 13, 'Son3', 8]\n",
      "['Dad', 44, 'Mom', 44, 'Son1', 14, 'Son2', 13, 'Son4', 9]\n"
     ]
    }
   ],
   "source": [
    "print(family)\n",
    "\n",
    "# 값 변경하기\n",
    "family[7] = 13\n",
    "print(family)\n",
    "\n",
    "family[8:] = ['Son4', 9]\n",
    "print(family)\n"
   ]
  },
  {
   "cell_type": "markdown",
   "metadata": {},
   "source": [
    "* 추가 연습"
   ]
  },
  {
   "cell_type": "code",
   "execution_count": 106,
   "metadata": {
    "colab": {},
    "colab_type": "code",
    "id": "p0b34Iicwv_M"
   },
   "outputs": [
    {
     "name": "stdout",
     "output_type": "stream",
     "text": [
      "[3, 1, 2]\n",
      "1 2 3\n",
      "2\n"
     ]
    }
   ],
   "source": [
    "xs = [3, 1, 2]\n",
    "print(xs)                   # \"[3, 1, 2]\"\n",
    "print(xs[1], xs[2], xs[0])  # \"1 2 3\"\n",
    "print(xs[-1])               # \"2\""
   ]
  },
  {
   "cell_type": "code",
   "execution_count": 107,
   "metadata": {},
   "outputs": [
    {
     "name": "stdout",
     "output_type": "stream",
     "text": [
      "[3, 1, 6]\n"
     ]
    }
   ],
   "source": [
    "# 리스트 내용 변경\n",
    "xs[2] = 6\n",
    "print(xs)         # \"[3, 1, 6]\""
   ]
  },
  {
   "cell_type": "code",
   "execution_count": 108,
   "metadata": {},
   "outputs": [
    {
     "name": "stdout",
     "output_type": "stream",
     "text": [
      "[3, 1, 'foo']\n"
     ]
    }
   ],
   "source": [
    "# 하나의 리스트 내에 여러가지 타입이 들어갈 수 있다.\n",
    "xs[2] = 'foo'\n",
    "print(xs)         # \"[3, 1, 'foo']\""
   ]
  },
  {
   "cell_type": "code",
   "execution_count": 109,
   "metadata": {},
   "outputs": [
    {
     "name": "stdout",
     "output_type": "stream",
     "text": [
      "[3, 1, 'foo', 'bar']\n"
     ]
    }
   ],
   "source": [
    "# 새로운 요소 추가\n",
    "xs.append('bar')\n",
    "print(xs)         # \"[3, 1, 'foo', 'bar']\""
   ]
  },
  {
   "cell_type": "code",
   "execution_count": 110,
   "metadata": {},
   "outputs": [
    {
     "name": "stdout",
     "output_type": "stream",
     "text": [
      "[3, 1, 'bar']\n"
     ]
    }
   ],
   "source": [
    "# 요소 제거\n",
    "del xs[2]\n",
    "print(xs)         # \"[3, 1, 'bar']\""
   ]
  },
  {
   "cell_type": "markdown",
   "metadata": {},
   "source": [
    "* 자르기(Slicing) 연습을 조금 더 해봅시다!"
   ]
  },
  {
   "cell_type": "code",
   "execution_count": 111,
   "metadata": {
    "colab": {},
    "colab_type": "code",
    "id": "Hfx4CoR1wv_V"
   },
   "outputs": [
    {
     "name": "stdout",
     "output_type": "stream",
     "text": [
      "[0, 1, 2, 3, 4, 5, 6, 7, 8, 9]\n",
      "[2, 3, 4, 5, 6, 7, 8, 9]\n",
      "[2, 4, 6, 8]\n"
     ]
    }
   ],
   "source": [
    "# range - 정수 목록을 만드는 함수\n",
    "nums = list(range(10))\n",
    "print(nums)               # \"[0, 1, 2, 3, 4, 5, 6, 7, 8, 9]\"\n",
    "nums1 = list(range(2, 10))\n",
    "print(nums1)               # \"[2, 3, 4, 5, 6, 7, 8, 9]\"\n",
    "nums2 = list(range(2, 10, 2))\n",
    "print(nums2)               # \"[2, 4, 6, 8]\"\n"
   ]
  },
  {
   "cell_type": "code",
   "execution_count": 112,
   "metadata": {},
   "outputs": [
    {
     "name": "stdout",
     "output_type": "stream",
     "text": [
      "[2, 3]\n",
      "[7, 8, 9]\n",
      "[0, 1, 2]\n",
      "[0, 1, 2, 3, 4, 5, 6, 7]\n"
     ]
    }
   ],
   "source": [
    "# 자르기\n",
    "print(nums[2:4])          # \"[2, 3]\"\n",
    "print(nums[7:])           # \"[7, 8, 9]\"\n",
    "print(nums[:3])           # \"[0, 1, 2]\"\n",
    "print(nums[:-2])          # \"[0, 1, 2, 3, 4, 5, 6, 7]\""
   ]
  },
  {
   "cell_type": "code",
   "execution_count": 113,
   "metadata": {},
   "outputs": [
    {
     "name": "stdout",
     "output_type": "stream",
     "text": [
      "[0, 1, 2, 3, 4, 5, 6, 7, 8, 9]\n",
      "[2, 3]\n",
      "[0, 1, 8, 9, 10, 4, 5, 6, 7, 8, 9]\n"
     ]
    }
   ],
   "source": [
    "# 잘라낸 곳(범위)에 리스트 끼워 넣기\n",
    "print(nums)\n",
    "print(nums[2:4])\n",
    "nums[2:4] = [8, 9, 10]    #2개의 값에 3개의 값을 넣기\n",
    "print(nums)               # \"[0, 1, 8, 9, 10, 4, 5, 6, 7, 8, 9]\""
   ]
  },
  {
   "cell_type": "markdown",
   "metadata": {},
   "source": [
    "* List 복사하기"
   ]
  },
  {
   "cell_type": "code",
   "execution_count": 114,
   "metadata": {
    "colab": {},
    "colab_type": "code",
    "id": "gfiMNt0hwv_b"
   },
   "outputs": [
    {
     "name": "stdout",
     "output_type": "stream",
     "text": [
      "[0, 1, 2, 3, 4, 5, 6, 7, 8, 9]\n",
      "[0, 1, 2, 3, 4, 5, 6, 7, 8, 9]\n"
     ]
    }
   ],
   "source": [
    "# list 복사\n",
    "nums = list(range(10))\n",
    "nums_copy_1 = nums            # 그대로 복사\n",
    "nums_copy_2 = nums[:]         # 범위를 지정하여 복사\n",
    "print(nums_copy_1)            # \"[0, 1, 2, 3, 4, 5, 6, 7, 8, 9]\"\n",
    "print(nums_copy_2)            # \"[0, 1, 2, 3, 4, 5, 6, 7, 8, 9]\""
   ]
  },
  {
   "cell_type": "code",
   "execution_count": 117,
   "metadata": {
    "scrolled": true
   },
   "outputs": [
    {
     "name": "stdout",
     "output_type": "stream",
     "text": [
      "['a', 1, 2, 3, 4, 5, 6, 7, 8, 9]\n",
      "['b', 1, 2, 3, 4, 5, 6, 7, 8, 9]\n",
      "['a', 1, 2, 3, 4, 5, 6, 7, 8, 9]\n"
     ]
    }
   ],
   "source": [
    "# copy1의 첫번째 값 변경 후 원본과 비교해보기\n",
    "nums_copy_1[0] = 'a'\n",
    "print(nums_copy_1)            # \"[a, 1, 2, 3, 4, 5, 6, 7, 8, 9]\"\n",
    "print(nums_copy_2)            # \"[0, 1, 2, 3, 4, 5, 6, 7, 8, 9]\"\n",
    "print(nums)                   # \"[a, 1, 2, 3, 4, 5, 6, 7, 8, 9]\"  <- 원본도 수정됨."
   ]
  },
  {
   "cell_type": "code",
   "execution_count": 118,
   "metadata": {},
   "outputs": [
    {
     "name": "stdout",
     "output_type": "stream",
     "text": [
      "['a', 1, 2, 3, 4, 5, 6, 7, 8, 9]\n",
      "['b', 1, 2, 3, 4, 5, 6, 7, 8, 9]\n",
      "['a', 1, 2, 3, 4, 5, 6, 7, 8, 9]\n"
     ]
    }
   ],
   "source": [
    "# copy2의 첫번째 값 변경 후 원본과 비교해보기\n",
    "nums_copy_2[0] = 'b'\n",
    "print(nums_copy_1)            # \"[a, 1, 2, 3, 4, 5, 6, 7, 8, 9]\"\n",
    "print(nums_copy_2)            # \"[b, 1, 2, 3, 4, 5, 6, 7, 8, 9]\"\n",
    "print(nums)                   # \"[a, 1, 2, 3, 4, 5, 6, 7, 8, 9]\"  <- 원본은 수정 안됨"
   ]
  },
  {
   "cell_type": "markdown",
   "metadata": {},
   "source": [
    "### 실습 : Python_basics ③"
   ]
  },
  {
   "cell_type": "code",
   "execution_count": 121,
   "metadata": {},
   "outputs": [
    {
     "name": "stdout",
     "output_type": "stream",
     "text": [
      "9\n",
      "75\n",
      "-77\n",
      "[75, 46, 93, -82, -77, 130, 100, 75, -10, 80]\n",
      "[75, 46, 93]\n",
      "[75, 46, 93, -82, -77, 130, 30, 75, -10, 80]\n",
      "[75, 93, -82, -77, 130, 30, 75, -10, 80]\n",
      "[75, 93, -82, -77, 130, 30, 75, -10, 80]\n",
      "[75, 93, -82, 42, 130, 30, 75, -10, 80]\n",
      "[75, 93, -82, 42, 130, 30, 75, -10, 80]\n"
     ]
    }
   ],
   "source": [
    "score = [75, 46, 93, -82, -77, 130, 100, 75, -10]\n",
    "\n",
    "# 1) len 함수를 이용하여 score에 들어있는 element의 갯수를 구하시오\n",
    "print(len(score))\n",
    "\n",
    "# 2) 첫번째와 다섯번째 element의 값을 출력하시오.\n",
    "print(score[0])\n",
    "print(score[4])\n",
    "\n",
    "# 3) append를 이용하여 마지막에 숫자 80을 추가하시오\n",
    "score.append(80)\n",
    "print(score)\n",
    "# 4) 첫번째부터 3번째까지의 element를 slice하세요.\n",
    "print(score[0:3])\n",
    "\n",
    "# 5) 끝에서 4번째 값(130)을 30으로 변경하세요.\n",
    "score[-4] = 30\n",
    "print(score)\n",
    "# 6) 두번째 값(46)을 삭제하세요.\n",
    "del score[1]\n",
    "print(score)\n",
    "# 7) score 를 범위지정 없이 score2로 복사하시오.\n",
    "score2 = score\n",
    "print(score2)\n",
    "# 8) score2의 네번째 값을 42로 변경하고, score와 score2의 값을 확인하시오.\n",
    "score2[3] = 42\n",
    "print(score)\n",
    "print(score2)\n"
   ]
  },
  {
   "cell_type": "markdown",
   "metadata": {},
   "source": [
    "* List와 반복문"
   ]
  },
  {
   "cell_type": "code",
   "execution_count": 122,
   "metadata": {
    "colab": {},
    "colab_type": "code",
    "id": "YYjio8viwv_j"
   },
   "outputs": [
    {
     "name": "stdout",
     "output_type": "stream",
     "text": [
      "cat\n",
      "dog\n",
      "monkey\n"
     ]
    }
   ],
   "source": [
    "# 반복문(Loops)\n",
    "\n",
    "animals = ['cat', 'dog', 'monkey']\n",
    "for animal in animals:\n",
    "    print(animal)\n"
   ]
  },
  {
   "cell_type": "code",
   "execution_count": 123,
   "metadata": {},
   "outputs": [
    {
     "name": "stdout",
     "output_type": "stream",
     "text": [
      "1: cat\n",
      "2: dog\n",
      "3: monkey\n"
     ]
    }
   ],
   "source": [
    "# enumerate 함수는 리스트의 키와 값으로 구분해서 추출한다.\n",
    "animals = ['cat', 'dog', 'monkey']\n",
    "for idx, animal in enumerate(animals):\n",
    "    print('%d: %s' % (idx + 1, animal))\n",
    "    "
   ]
  },
  {
   "cell_type": "code",
   "execution_count": 127,
   "metadata": {},
   "outputs": [
    {
     "name": "stdout",
     "output_type": "stream",
     "text": [
      "1: cat\n",
      "2: dog\n",
      "3: monkey\n"
     ]
    }
   ],
   "source": [
    "#위 for 구문에서 print 문 내용을 format으로 바꿔보자!\n",
    "for idx, animal in enumerate(animals):\n",
    "    print(('{}: {}').format(idx+1, animal))\n"
   ]
  },
  {
   "cell_type": "code",
   "execution_count": 128,
   "metadata": {},
   "outputs": [],
   "source": [
    "#반복문 조금 더 살펴보기\n",
    "nums = [0, 1, 2, 3, 4]"
   ]
  },
  {
   "cell_type": "code",
   "execution_count": 129,
   "metadata": {},
   "outputs": [
    {
     "name": "stdout",
     "output_type": "stream",
     "text": [
      "[]\n"
     ]
    }
   ],
   "source": [
    "squares = [ ]   #빈 리스트\n",
    "print(squares) "
   ]
  },
  {
   "cell_type": "code",
   "execution_count": 130,
   "metadata": {},
   "outputs": [
    {
     "name": "stdout",
     "output_type": "stream",
     "text": [
      "[0, 1, 4, 9, 16]\n"
     ]
    }
   ],
   "source": [
    "for x in nums:\n",
    "    squares.append(x ** 2)\n",
    "print(squares)"
   ]
  },
  {
   "cell_type": "code",
   "execution_count": 131,
   "metadata": {
    "colab": {},
    "colab_type": "code",
    "id": "kx1zYlkSwv_r"
   },
   "outputs": [
    {
     "name": "stdout",
     "output_type": "stream",
     "text": [
      "[0, 1, 4, 9, 16]\n"
     ]
    }
   ],
   "source": [
    "# 반복문 확장 문법1\n",
    "nums = [0, 1, 2, 3, 4]\n",
    "squares = [x ** 2 for x in nums]  # 파이썬스러운 문법\n",
    "print(squares) \n"
   ]
  },
  {
   "cell_type": "code",
   "execution_count": 132,
   "metadata": {
    "scrolled": true
   },
   "outputs": [
    {
     "name": "stdout",
     "output_type": "stream",
     "text": [
      "[0, 4, 16]\n"
     ]
    }
   ],
   "source": [
    "# 반복문 확장 문법2 \n",
    "# 반복문 + 조건문 : 짝수인 값의 제곱을 구해서 even_squares 리스트에 넣기\n",
    "nums = [0, 1, 2, 3, 4]\n",
    "even_squares = [x ** 2 for x in nums if x % 2 == 0] \n",
    "print(even_squares) "
   ]
  },
  {
   "cell_type": "markdown",
   "metadata": {
    "colab_type": "text",
    "id": "xDbJCFFgwv_y"
   },
   "source": [
    "### 실습 : Python_basics ④"
   ]
  },
  {
   "cell_type": "code",
   "execution_count": 133,
   "metadata": {},
   "outputs": [
    {
     "name": "stdout",
     "output_type": "stream",
     "text": [
      "[75, 46, 93, 130, 100, 75]\n"
     ]
    }
   ],
   "source": [
    "score = [75, 46, 93, -82, -77, 130, 100, 75, -10]\n",
    "\n",
    "# 1) score에서 음수를 제거한 리스트를 score01 변수에 담으세요. \n",
    "\n",
    "score01=[]\n",
    "for i in score:\n",
    "    if i>=0:\n",
    "        score01.append(i)\n",
    "print(score01)\n",
    "\n"
   ]
  },
  {
   "cell_type": "code",
   "execution_count": 134,
   "metadata": {},
   "outputs": [
    {
     "name": "stdout",
     "output_type": "stream",
     "text": [
      "[75, 46, 93, 100, 75]\n"
     ]
    }
   ],
   "source": [
    "# 2) score01에서 100보다 큰 수를 제외한 리스트를 score02 변수에 담으세요.\n",
    "\n",
    "score02 = []\n",
    "\n",
    "for i in score01:\n",
    "    if i <= 100:\n",
    "        score02.append(i)\n",
    "print(score02)\n",
    "\n",
    "\n"
   ]
  },
  {
   "cell_type": "code",
   "execution_count": 168,
   "metadata": {},
   "outputs": [
    {
     "name": "stdout",
     "output_type": "stream",
     "text": [
      "77.8\n"
     ]
    }
   ],
   "source": [
    "# 3) score02 리스트의 element들 합과 평균을 구하시오\n",
    "print(sum(score02)/len(score02))\n"
   ]
  },
  {
   "cell_type": "code",
   "execution_count": 145,
   "metadata": {},
   "outputs": [
    {
     "name": "stdout",
     "output_type": "stream",
     "text": [
      "[7.5, 4.6, 9.3, 10.0, 7.5]\n"
     ]
    }
   ],
   "source": [
    "# 4) score02 리스트 각 element의 값을 10으로 나눈 값을 갖는 리스트 score03을 만드세요.\n",
    "score03 = []\n",
    "\n",
    "for i in score02:\n",
    "    score03.append(i/10)\n",
    "print(score03)\n",
    "\n"
   ]
  },
  {
   "cell_type": "markdown",
   "metadata": {},
   "source": [
    "### 실습 : Python_basics ④ + α"
   ]
  },
  {
   "cell_type": "code",
   "execution_count": 166,
   "metadata": {},
   "outputs": [
    {
     "name": "stdout",
     "output_type": "stream",
     "text": [
      "[75, 46, 93, 130, 100, 75]\n",
      "[75, 46, 93, 100, 75]\n",
      "[7, 4, 9, 10, 7]\n"
     ]
    }
   ],
   "source": [
    "# 위 1,2,4,5번 문제를 모두 반복문 확장문법으로 변환하시오.\n",
    "score = [75, 46, 93, -82, -77, 130, 100, 75, -10]\n",
    "\n",
    "score01 = [x for x in score if x>=0]\n",
    "print(score01)\n",
    "\n",
    "score02 = [x for x in score01 if x <= 100]\n",
    "print(score02)\n",
    "\n",
    "score03 = [x//10 for x in score02]\n",
    "print(score03)"
   ]
  },
  {
   "cell_type": "markdown",
   "metadata": {
    "colab_type": "text",
    "id": "iq8wTBVhwv_6"
   },
   "source": [
    "## 032. 자료형(Container) - Dictionaries\n",
    "\n",
    "* key : value 구조. \n",
    "* index의 개념."
   ]
  },
  {
   "cell_type": "code",
   "execution_count": 153,
   "metadata": {},
   "outputs": [
    {
     "name": "stdout",
     "output_type": "stream",
     "text": [
      "{'cat': 'cute', 'dog': 'furry'}\n",
      "<class 'dict'>\n"
     ]
    }
   ],
   "source": [
    "# dictionary 생성\n",
    "d = {'cat': 'cute', 'dog': 'furry'}  \n",
    "print(d)\n",
    "print(type(d))"
   ]
  },
  {
   "cell_type": "code",
   "execution_count": 154,
   "metadata": {},
   "outputs": [
    {
     "name": "stdout",
     "output_type": "stream",
     "text": [
      "furry\n"
     ]
    }
   ],
   "source": [
    "# dictionary 특정 값 조회\n",
    "print(d['dog'])       # \"furry\""
   ]
  },
  {
   "cell_type": "code",
   "execution_count": 155,
   "metadata": {},
   "outputs": [
    {
     "name": "stdout",
     "output_type": "stream",
     "text": [
      "True\n",
      "False\n"
     ]
    }
   ],
   "source": [
    "# key 값이 들어있는지 확인\n",
    "print('cat' in d)     # \"True\"\n",
    "print('sheep' in d)     # \"False\""
   ]
  },
  {
   "cell_type": "code",
   "execution_count": 156,
   "metadata": {},
   "outputs": [
    {
     "name": "stdout",
     "output_type": "stream",
     "text": [
      "{'cat': 'cute', 'dog': 'furry', 'fish': 'wet'}\n",
      "wet\n"
     ]
    },
    {
     "ename": "KeyError",
     "evalue": "'monkey'",
     "output_type": "error",
     "traceback": [
      "\u001b[1;31m---------------------------------------------------------------------------\u001b[0m",
      "\u001b[1;31mKeyError\u001b[0m                                  Traceback (most recent call last)",
      "\u001b[1;32m<ipython-input-156-b549a0973fc2>\u001b[0m in \u001b[0;36m<module>\u001b[1;34m\u001b[0m\n\u001b[0;32m      3\u001b[0m \u001b[0mprint\u001b[0m\u001b[1;33m(\u001b[0m\u001b[0md\u001b[0m\u001b[1;33m)\u001b[0m\u001b[1;33m\u001b[0m\u001b[1;33m\u001b[0m\u001b[0m\n\u001b[0;32m      4\u001b[0m \u001b[0mprint\u001b[0m\u001b[1;33m(\u001b[0m\u001b[0md\u001b[0m\u001b[1;33m[\u001b[0m\u001b[1;34m'fish'\u001b[0m\u001b[1;33m]\u001b[0m\u001b[1;33m)\u001b[0m      \u001b[1;31m# \"wet\"\u001b[0m\u001b[1;33m\u001b[0m\u001b[1;33m\u001b[0m\u001b[0m\n\u001b[1;32m----> 5\u001b[1;33m \u001b[0mprint\u001b[0m\u001b[1;33m(\u001b[0m\u001b[0md\u001b[0m\u001b[1;33m[\u001b[0m\u001b[1;34m'monkey'\u001b[0m\u001b[1;33m]\u001b[0m\u001b[1;33m)\u001b[0m  \u001b[1;31m# KeyError: 'monkey'를 key로 가진 value가 없다\u001b[0m\u001b[1;33m\u001b[0m\u001b[1;33m\u001b[0m\u001b[0m\n\u001b[0m",
      "\u001b[1;31mKeyError\u001b[0m: 'monkey'"
     ]
    }
   ],
   "source": [
    "# 새로운 (key, value) 추가\n",
    "d['fish'] = 'wet'  # fish 라는 키에 값으로 'Wet' 지정.\n",
    "print(d)\n",
    "print(d['fish'])      # \"wet\"\n",
    "print(d['monkey'])  # KeyError: 'monkey'를 key로 가진 value가 없다\n"
   ]
  },
  {
   "cell_type": "code",
   "execution_count": 157,
   "metadata": {},
   "outputs": [
    {
     "name": "stdout",
     "output_type": "stream",
     "text": [
      "N/A\n",
      "wet\n"
     ]
    }
   ],
   "source": [
    "# key가 없는 경우, default value 사용\n",
    "print(d.get('monkey', 'N/A'))  # \"N/A\"\n",
    "print(d.get('fish', 'N/A'))    # \"wet\""
   ]
  },
  {
   "cell_type": "code",
   "execution_count": 158,
   "metadata": {
    "colab": {},
    "colab_type": "code",
    "id": "nyJKMSskwwAC"
   },
   "outputs": [
    {
     "name": "stdout",
     "output_type": "stream",
     "text": [
      "N/A\n"
     ]
    }
   ],
   "source": [
    "# 요소 삭제\n",
    "del d['fish']\n",
    "print(d.get('fish', 'N/A')) # \"N/A\""
   ]
  },
  {
   "cell_type": "code",
   "execution_count": 159,
   "metadata": {},
   "outputs": [
    {
     "name": "stdout",
     "output_type": "stream",
     "text": [
      "{'cat': 'cute', 'dog': 'furry'}\n"
     ]
    }
   ],
   "source": [
    "print(d)"
   ]
  },
  {
   "cell_type": "markdown",
   "metadata": {},
   "source": [
    "* Dictionary와 반복문"
   ]
  },
  {
   "cell_type": "code",
   "execution_count": 160,
   "metadata": {
    "scrolled": false
   },
   "outputs": [
    {
     "name": "stdout",
     "output_type": "stream",
     "text": [
      "A person has 2 legs\n",
      "A cat has 4 legs\n",
      "A spider has 8 legs\n"
     ]
    }
   ],
   "source": [
    "# 반복문1\n",
    "d = {'person': 2, 'cat': 4, 'spider': 8}\n",
    "for key in d:\n",
    "    value = d[key]\n",
    "    print('A {} has {} legs'.format(key, value))"
   ]
  },
  {
   "cell_type": "code",
   "execution_count": 161,
   "metadata": {
    "colab": {},
    "colab_type": "code",
    "id": "HboHlR3swwAJ",
    "scrolled": true
   },
   "outputs": [],
   "source": [
    "# 반복문 2\n",
    "d = {'person': 2, 'cat': 4, 'spider': 8}"
   ]
  },
  {
   "cell_type": "code",
   "execution_count": 162,
   "metadata": {
    "scrolled": true
   },
   "outputs": [
    {
     "data": {
      "text/plain": [
       "dict_items([('person', 2), ('cat', 4), ('spider', 8)])"
      ]
     },
     "execution_count": 162,
     "metadata": {},
     "output_type": "execute_result"
    }
   ],
   "source": [
    "d.items() # .items() : key와 value의 쌍을 튜플로 묶은 값을 dict_items 객체로 돌려준다"
   ]
  },
  {
   "cell_type": "code",
   "execution_count": 163,
   "metadata": {
    "scrolled": false
   },
   "outputs": [
    {
     "name": "stdout",
     "output_type": "stream",
     "text": [
      "A person has 2 legs\n",
      "A cat has 4 legs\n",
      "A spider has 8 legs\n"
     ]
    }
   ],
   "source": [
    "# 딕셔너리에서 루프로 키와 값을 동시에 가져오려면 .items()  ( 리스트에서는 enumerate\n",
    "for key, value in d.items():\n",
    "    print('A {} has {} legs'.format(key, value))"
   ]
  },
  {
   "cell_type": "code",
   "execution_count": 164,
   "metadata": {
    "colab": {},
    "colab_type": "code",
    "id": "FCGTqU5xwwAQ"
   },
   "outputs": [
    {
     "name": "stdout",
     "output_type": "stream",
     "text": [
      "{'cat': 11, 'fish': 15}\n"
     ]
    }
   ],
   "source": [
    "# 확장 문법 - 반복문 + 제어문\n",
    "animals = {'cat': 11, 'dog': 7, 'fish': 15, 'horse': 3}\n",
    "animals_over_10 = {k: v for k, v in animals.items() if v > 10}\n",
    "print(animals_over_10)  # \"{'cat': 11, 'fish': 15}\""
   ]
  },
  {
   "cell_type": "markdown",
   "metadata": {
    "colab_type": "text",
    "id": "Of2MVQf8wwAX"
   },
   "source": [
    "### 실습 : Python_basics ⑤"
   ]
  },
  {
   "cell_type": "code",
   "execution_count": 173,
   "metadata": {
    "colab": {},
    "colab_type": "code",
    "id": "rFeDJhXowwAa"
   },
   "outputs": [
    {
     "data": {
      "text/plain": [
       "286"
      ]
     },
     "execution_count": 173,
     "metadata": {},
     "output_type": "execute_result"
    }
   ],
   "source": [
    "stu01 = {\n",
    "    \"no\": 1,\n",
    "    \"name\": \"한기영\",\n",
    "    \"score\": [92, 96, 98]\n",
    "}\n",
    "stu02 = {\n",
    "    \"no\": 2,\n",
    "    \"name\": \"김정훈\",\n",
    "    \"score\": [98, 64, 100]\n",
    "}\n",
    "stu03 = {\n",
    "    \"no\": 3,\n",
    "    \"name\": \"이장래\",\n",
    "    \"score\": [88, 84, 92]\n",
    "}\n",
    "\n",
    "# 1) 각 학생들의 번호에 10씩 더하세요.\n",
    "stu01[\"no\"] += 10\n",
    "stu02[\"no\"] += 10\n",
    "\n",
    "\n",
    "\n",
    "# 2) 각 학생별로 점수 합계를 구하시오.\n",
    "sum(stu01[\"score\"])\n",
    "\n"
   ]
  },
  {
   "cell_type": "code",
   "execution_count": 175,
   "metadata": {},
   "outputs": [
    {
     "data": {
      "text/plain": [
       "'번호: 11, 이름: 한기영, 평균점수: 95.33333333333333'"
      ]
     },
     "execution_count": 175,
     "metadata": {},
     "output_type": "execute_result"
    }
   ],
   "source": [
    "# 3) 아래 out을 이용하여 stu01, stu02, stu03의 번호, 이름, 평균점수를 출력하시오.\n",
    "out = \"번호: {}, 이름: {}, 평균점수: {}\"\n",
    "\n",
    "out.format(stu01[\"no\"], stu01[\"name\"], sum(stu01[\"score\"])/len(stu01[\"score\"]))\n",
    "\n"
   ]
  },
  {
   "cell_type": "code",
   "execution_count": 177,
   "metadata": {},
   "outputs": [
    {
     "name": "stdout",
     "output_type": "stream",
     "text": [
      "no : 11\n",
      "name : 한기영\n",
      "score : [92, 96, 98]\n"
     ]
    }
   ],
   "source": [
    "# 4) 아래 코드에 오류가 있습니다. 오류를 수정하여. key: value를 출력하는 코드를 완성하세요. \n",
    "for key, value in stu01.items() :\n",
    "    print(\"{} : {}\".format(key, value))   \n",
    "    "
   ]
  },
  {
   "cell_type": "markdown",
   "metadata": {
    "colab_type": "text",
    "id": "870ceL41wwAg"
   },
   "source": [
    "## 033. 자료형(Container) - Sets\n",
    "\n",
    "* 집합\n",
    "* 중복된 값을 중첩되어 가지지 않는 리스트 "
   ]
  },
  {
   "cell_type": "code",
   "execution_count": 178,
   "metadata": {},
   "outputs": [
    {
     "name": "stdout",
     "output_type": "stream",
     "text": [
      "{'cat', 'dog'}\n",
      "True\n",
      "False\n"
     ]
    }
   ],
   "source": [
    "animals = {'cat', 'dog'}\n",
    "print(animals)\n",
    "\n",
    "# 요소가 있는지 체크\n",
    "print('cat' in animals)   # \"True\"\n",
    "print('fish' in animals)  # \"False\""
   ]
  },
  {
   "cell_type": "code",
   "execution_count": 179,
   "metadata": {},
   "outputs": [
    {
     "name": "stdout",
     "output_type": "stream",
     "text": [
      "True\n",
      "{'cat', 'fish', 'dog'}\n"
     ]
    }
   ],
   "source": [
    "# 요소 추가\n",
    "animals.add('fish')  # list에서는 .append 였음\n",
    "print('fish' in animals)  # \"True\"\n",
    "print(animals)"
   ]
  },
  {
   "cell_type": "code",
   "execution_count": 180,
   "metadata": {},
   "outputs": [
    {
     "name": "stdout",
     "output_type": "stream",
     "text": [
      "3\n",
      "3\n",
      "{'cat', 'fish', 'dog'}\n"
     ]
    }
   ],
   "source": [
    "# set 요소 갯수\n",
    "print(len(animals))       # \"3\"\n",
    "animals.add('cat')        # 중복되어 추가해도 요소가 더 추가되지 않는다. 리스트와 비교.\n",
    "print(len(animals))       # \"3\"\n",
    "print(animals)"
   ]
  },
  {
   "cell_type": "code",
   "execution_count": 181,
   "metadata": {},
   "outputs": [
    {
     "name": "stdout",
     "output_type": "stream",
     "text": [
      "2\n"
     ]
    }
   ],
   "source": [
    "# 요소 삭제\n",
    "animals.remove('cat')  \n",
    "print(len(animals))       # \"2\""
   ]
  },
  {
   "cell_type": "markdown",
   "metadata": {},
   "source": [
    "### List 비교"
   ]
  },
  {
   "cell_type": "code",
   "execution_count": 182,
   "metadata": {
    "colab": {},
    "colab_type": "code",
    "id": "KRP4eyAIwwAi"
   },
   "outputs": [
    {
     "name": "stdout",
     "output_type": "stream",
     "text": [
      "['cat', 'dog', 'fish']\n",
      "3\n"
     ]
    }
   ],
   "source": [
    "# List 비교\n",
    "list_animals = ['cat', 'dog', 'fish']\n",
    "print(list_animals)\n",
    "print(len(list_animals))       # \"3\""
   ]
  },
  {
   "cell_type": "code",
   "execution_count": 183,
   "metadata": {},
   "outputs": [
    {
     "name": "stdout",
     "output_type": "stream",
     "text": [
      "4\n",
      "['cat', 'dog', 'fish', 'cat']\n"
     ]
    }
   ],
   "source": [
    "# list 요소 갯수\n",
    "list_animals.append('cat')     # 중복되어도 요소가 더 추가된다.\n",
    "print(len(list_animals))       # \"4\"\n",
    "print(list_animals)"
   ]
  },
  {
   "cell_type": "markdown",
   "metadata": {},
   "source": [
    "### 반복문"
   ]
  },
  {
   "cell_type": "code",
   "execution_count": 184,
   "metadata": {},
   "outputs": [
    {
     "name": "stdout",
     "output_type": "stream",
     "text": [
      "1: cat\n",
      "2: fish\n",
      "3: dog\n"
     ]
    }
   ],
   "source": [
    "# 반복문\n",
    "animals = {'cat', 'dog', 'fish'}\n",
    "for idx, animal in enumerate(animals):\n",
    "    print('{}: {}'.format(idx + 1, animal))"
   ]
  },
  {
   "cell_type": "markdown",
   "metadata": {
    "colab_type": "text",
    "id": "wAOMbDZSwwAy"
   },
   "source": [
    "## 034. 자료형(Container) - Tuples"
   ]
  },
  {
   "cell_type": "code",
   "execution_count": 185,
   "metadata": {
    "colab": {},
    "colab_type": "code",
    "id": "IPW_eTRhwwAz"
   },
   "outputs": [
    {
     "name": "stdout",
     "output_type": "stream",
     "text": [
      "<class 'tuple'>\n",
      "(5, 6)\n",
      "5\n",
      "10\n",
      "1\n"
     ]
    }
   ],
   "source": [
    "# 튜플 생성\n",
    "t = (5, 6)\n",
    "print(type(t))    # Prints \"<class 'tuple'>\"\n",
    "print(t)    # \"(5, 6)\"\n",
    "\n",
    "print(t[0])       # \"5\"\n",
    "\n",
    "# dictionary의 키로 사용되는 tuple\n",
    "d = {(1, 0): 10, (2, 0): 20, (0, 1): 1}\n",
    "print(d[(1, 0)])  # \"10\"\n",
    "print(d[(0, 1)])  # \"1\"\n"
   ]
  },
  {
   "cell_type": "markdown",
   "metadata": {
    "colab_type": "text",
    "id": "Roj0XVn3wwA-"
   },
   "source": [
    "## 04. 함수(Function)"
   ]
  },
  {
   "cell_type": "code",
   "execution_count": 186,
   "metadata": {
    "colab": {},
    "colab_type": "code",
    "id": "a0J-Z-xvwwBA"
   },
   "outputs": [
    {
     "name": "stdout",
     "output_type": "stream",
     "text": [
      "negative\n",
      "zero\n",
      "positive\n"
     ]
    }
   ],
   "source": [
    "def sign(x):\n",
    "    if x > 0:\n",
    "        return 'positive'\n",
    "    elif x < 0:\n",
    "        return 'negative'\n",
    "    else:\n",
    "        return 'zero'\n",
    "\n",
    "for x in [-1, 0, 1]:\n",
    "    print(sign(x))\n",
    "    "
   ]
  },
  {
   "cell_type": "code",
   "execution_count": 187,
   "metadata": {
    "colab": {},
    "colab_type": "code",
    "id": "z8sU19PZwwBH"
   },
   "outputs": [
    {
     "name": "stdout",
     "output_type": "stream",
     "text": [
      "Hello, Bob\n",
      "HELLO, FRED!\n"
     ]
    }
   ],
   "source": [
    "def hello(name, loud=False):  #디폴트 파라미터는 순서상 뒤쪽\n",
    "    if loud:\n",
    "        print('HELLO, %s!' % name.upper())\n",
    "    else:\n",
    "        print('Hello, %s' % name)\n",
    "\n",
    "hello('Bob')              # \"Hello, Bob\"\n",
    "hello('Fred', loud=True)  # \"HELLO, FRED!\""
   ]
  },
  {
   "cell_type": "markdown",
   "metadata": {
    "colab_type": "text",
    "id": "hcYUXlSGwwBR"
   },
   "source": [
    "### 실습 : Python_basics ⑥"
   ]
  },
  {
   "cell_type": "code",
   "execution_count": 201,
   "metadata": {
    "colab": {},
    "colab_type": "code",
    "id": "zIRs37rOwwBU"
   },
   "outputs": [
    {
     "name": "stdout",
     "output_type": "stream",
     "text": [
      "75.0\n"
     ]
    }
   ],
   "source": [
    "# 1) 숫자의 list를 받아서 평균을 반환하는 average 함수를 만들어 보자. \n",
    "def average(list_score):\n",
    "    return sum(list_score)/len(list_score)\n",
    "    # 여기를 작성해 주면 됩니다. \n",
    "    # 힌트: list_points의 요소의 평균을 계산해서 aver 변수에 담으면 됩니다. \n",
    "    \n",
    "\n",
    "    \n",
    "    \n",
    "score = [50, 60, 70, 80, 90, 100]\n",
    "a = average(score)\n",
    "print(a)\n",
    "\n"
   ]
  },
  {
   "cell_type": "code",
   "execution_count": 204,
   "metadata": {},
   "outputs": [
    {
     "name": "stdout",
     "output_type": "stream",
     "text": [
      "리스트에 값이 없습니다\n",
      "None\n"
     ]
    }
   ],
   "source": [
    "# 2) 1)번에서 만든 함수를 수정하시오 : 만약 빈(항목이 없는) 리스트가 입력될 경우 \n",
    "# \"리스트에 값이 없습니다.\"를 반환하도록 수정\n",
    "def average(list_points):\n",
    "    if list_points == []:\n",
    "        print(\"리스트에 값이 없습니다\")\n",
    "    else:\n",
    "        return sum(list_points)/len(list_points)\n",
    "    # 여기를 작성해 주면 됩니다. \n",
    "    # 힌트: list_points의 요소의 평균을 계산해서 aver 변수에 담으면 됩니다. \n",
    "\n",
    "\n",
    "\n",
    "\n",
    "blank_point = []\n",
    "a = average(blank_point)\n",
    "print(a)\n",
    "\n",
    "\n"
   ]
  },
  {
   "cell_type": "code",
   "execution_count": null,
   "metadata": {},
   "outputs": [],
   "source": [
    "# 3) score 값에 따라 등급을 반환해 주는 grade 함수를 완성하시오.\n",
    "# 95점 이상 A+. 90점 이상 A, 85점 이상 B+, 80점 이상 B,\n",
    "# 75점 이상 C+. 70점 이상 C, 60점 이상 D, 60점 미만 F\n",
    "def grade(score):\n",
    "    # 여기를 작성해 주면 됩니다. \n",
    "    # 힌트: score의 값을 확인해서 등급을 grade 변수에 담으면 됩니다. \n",
    " \n",
    "\n",
    "    return grade\n",
    "\n",
    "print(grade(points[0]))\n",
    "print(grade(points[1]))\n",
    "print(grade(points[2]))\n",
    "print(grade(points[3]))\n",
    "print(grade(points[4]))\n",
    "print(grade(points[5]))\n"
   ]
  },
  {
   "cell_type": "code",
   "execution_count": 223,
   "metadata": {},
   "outputs": [],
   "source": [
    "# 4) 1 이상의 자연수 n과 m을 입력받아, \n",
    "#     n보다 작은 자연수 중 m의 배수를 \n",
    "#    리스트에 저장하고 \n",
    "#    리스트를 출력하는 함수를 작성하시오.\n",
    "#    단, 리스트에 저장하는 부분은 확장문법으로 작성하시오.\n",
    "# def yolo(n, m):\n",
    "#     a = []\n",
    "#     for i in range(1,n):\n",
    "#         if i%m == 0:\n",
    "#             a.append(i)\n",
    "#     print(a)\n",
    "\n",
    "def yolo_2(n,m):\n",
    "    a = [i for i in range(1,n) if i%m == 0 and i>0]\n",
    "    return a\n",
    "\n"
   ]
  },
  {
   "cell_type": "code",
   "execution_count": 224,
   "metadata": {},
   "outputs": [
    {
     "data": {
      "text/plain": [
       "[2, 4, 6, 8]"
      ]
     },
     "execution_count": 224,
     "metadata": {},
     "output_type": "execute_result"
    }
   ],
   "source": [
    "yolo_2(9,2)"
   ]
  },
  {
   "cell_type": "code",
   "execution_count": null,
   "metadata": {},
   "outputs": [],
   "source": []
  }
 ],
 "metadata": {
  "colab": {
   "collapsed_sections": [
    "mH1fAGCqwv9I",
    "ys7jI8Wzwv-b",
    "VHcAusnqwv_K",
    "iq8wTBVhwv_6",
    "Of2MVQf8wwAX",
    "870ceL41wwAg",
    "wAOMbDZSwwAy",
    "Roj0XVn3wwA-",
    "hcYUXlSGwwBR",
    "JA_zB6t4wwBc",
    "WjpUb3wPwwBk",
    "L6s7bhG7wwB4"
   ],
   "name": "01.Python_basics.ipynb",
   "provenance": [],
   "version": "0.3.2"
  },
  "kernelspec": {
   "display_name": "Python 3",
   "language": "python",
   "name": "python3"
  },
  "language_info": {
   "codemirror_mode": {
    "name": "ipython",
    "version": 3
   },
   "file_extension": ".py",
   "mimetype": "text/x-python",
   "name": "python",
   "nbconvert_exporter": "python",
   "pygments_lexer": "ipython3",
   "version": "3.7.1"
  }
 },
 "nbformat": 4,
 "nbformat_minor": 1
}
