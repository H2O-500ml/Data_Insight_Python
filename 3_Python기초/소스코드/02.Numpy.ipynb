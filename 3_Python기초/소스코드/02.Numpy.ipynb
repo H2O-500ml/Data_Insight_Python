{
 "cells": [
  {
   "cell_type": "markdown",
   "metadata": {
    "colab_type": "text",
    "id": "z6cFcRvgUVsh"
   },
   "source": [
    "# 02. Numpy\n",
    "\n",
    "작성자 : 김정훈 <br>\n",
    "수정  : 한기영\n",
    "\n",
    "#### 주의 : 넘파이의 모든 것을 다루지 않습니다. Machine Learning 또는 Deep Learning을 공부하기 위해 최소한 알아야 하는 범위만을 다룹니다.\n",
    "\n",
    "### 넘파이 실습시간!\n",
    "\n",
    "Numpy는 데이터 과학을 위한 핵심 라이브러리입니다.\n",
    "고성능 다차원 배열과 배열 연산을 위한 유용한 도구를 제공합니다\n",
    "\n",
    "#### 선행지식\n",
    "1. Python 언어 기초.\n",
    "2. 행렬에 대한 이해와 약간의 수학적 지식.\n",
    "\n",
    "#### 실습목표\n",
    "1. numpy를 이용하여 다양한 모양(shape)의 행렬 array를 만들 수 있습니다. \n",
    "2. numpy를 이용하여 다양한 행렬 연산을 수행할 수 있습니다. \n",
    "3. 2-d 어레이(혹은 그 이상)를 만들기. \n",
    "4. 1-d array를 2-d array로 만들기. \n",
    "5. 행렬 간의 곱셈.\n",
    "6. csv파일 읽기. \n",
    "7. numpy array를 python list로 변환, python list를 numpy array로 변환\n",
    "8. array shuffle, split, sampling (복원/비복원 둘 다.)\n"
   ]
  },
  {
   "cell_type": "markdown",
   "metadata": {
    "colab_type": "text",
    "id": "FB4DtUU2UVsj"
   },
   "source": [
    "### 1. 라이브러리 불러오기\n",
    "\n",
    "numpy로 파일을 직접 부르기 보다는 \n",
    "pandas로 불러서 처리하고 필요시 numpy넘겨서 처리\n",
    "\n",
    "그러므로 numpy로 파일을 부르는 부분은 간단히 다룹니다"
   ]
  },
  {
   "cell_type": "code",
   "execution_count": 1,
   "metadata": {},
   "outputs": [],
   "source": [
    "import numpy as np"
   ]
  },
  {
   "cell_type": "code",
   "execution_count": 4,
   "metadata": {
    "colab": {},
    "colab_type": "code",
    "id": "16QAg-RVUVsm"
   },
   "outputs": [
    {
     "name": "stdout",
     "output_type": "stream",
     "text": [
      "<class 'numpy.ndarray'>\n",
      "(400,)\n"
     ]
    }
   ],
   "source": [
    "import numpy as np\n",
    "data = np.genfromtxt(r\"C:\\Users\\50008313\\Python_Jupyter_Study\\2기교육\\3_Python기초\\샘플데이터\\Graduate_apply.csv\", delimiter=\",\", names=True)\n",
    "print(type(data))\n",
    "print(data.shape)"
   ]
  },
  {
   "cell_type": "code",
   "execution_count": 5,
   "metadata": {
    "colab": {},
    "colab_type": "code",
    "id": "SbM3NqkcUVso"
   },
   "outputs": [
    {
     "name": "stdout",
     "output_type": "stream",
     "text": [
      "<class 'numpy.ndarray'>\n",
      "(400,)\n"
     ]
    }
   ],
   "source": [
    "import numpy\n",
    "data1 = numpy.genfromtxt(r\"C:\\Users\\50008313\\Python_Jupyter_Study\\2기교육\\3_Python기초\\샘플데이터\\Graduate_apply.csv\", delimiter=\",\", names=True)\n",
    "print(type(data1))\n",
    "print(data1.shape)"
   ]
  },
  {
   "cell_type": "code",
   "execution_count": 6,
   "metadata": {
    "colab": {},
    "colab_type": "code",
    "id": "hZdioD2JUVsp"
   },
   "outputs": [
    {
     "name": "stdout",
     "output_type": "stream",
     "text": [
      "<class 'numpy.ndarray'>\n",
      "(400,)\n"
     ]
    }
   ],
   "source": [
    "from numpy import genfromtxt as ggg\n",
    "data2 = ggg(r\"C:\\Users\\50008313\\Python_Jupyter_Study\\2기교육\\3_Python기초\\샘플데이터\\Graduate_apply.csv\", delimiter=\",\", names=True)\n",
    "print(type(data2))\n",
    "print(data2.shape)"
   ]
  },
  {
   "cell_type": "code",
   "execution_count": 7,
   "metadata": {},
   "outputs": [
    {
     "data": {
      "text/plain": [
       "dtype([('admit', '<f8'), ('gre', '<f8'), ('gpa', '<f8'), ('rank', '<f8')])"
      ]
     },
     "execution_count": 7,
     "metadata": {},
     "output_type": "execute_result"
    }
   ],
   "source": [
    "data2.dtype"
   ]
  },
  {
   "cell_type": "code",
   "execution_count": 9,
   "metadata": {
    "colab": {},
    "colab_type": "code",
    "collapsed": true,
    "id": "rK6Me1EcadYS"
   },
   "outputs": [
    {
     "data": {
      "text/plain": [
       "array([(0., 380., 3.61, 3.), (1., 660., 3.67, 3.), (1., 800., 4.  , 1.),\n",
       "       (1., 640., 3.19, 4.), (0., 520., 2.93, 4.), (1., 760., 3.  , 2.),\n",
       "       (1., 560., 2.98, 1.), (0., 400., 3.08, 2.), (1., 540., 3.39, 3.),\n",
       "       (0., 700., 3.92, 2.), (0., 800., 4.  , 4.), (0., 440., 3.22, 1.),\n",
       "       (1., 760., 4.  , 1.), (0., 700., 3.08, 2.), (1., 700., 4.  , 1.),\n",
       "       (0., 480., 3.44, 3.), (0., 780., 3.87, 4.), (0., 360., 2.56, 3.),\n",
       "       (0., 800., 3.75, 2.), (1., 540., 3.81, 1.), (0., 500., 3.17, 3.),\n",
       "       (1., 660., 3.63, 2.), (0., 600., 2.82, 4.), (0., 680., 3.19, 4.),\n",
       "       (1., 760., 3.35, 2.), (1., 800., 3.66, 1.), (1., 620., 3.61, 1.),\n",
       "       (1., 520., 3.74, 4.), (1., 780., 3.22, 2.), (0., 520., 3.29, 1.),\n",
       "       (0., 540., 3.78, 4.), (0., 760., 3.35, 3.), (0., 600., 3.4 , 3.),\n",
       "       (1., 800., 4.  , 3.), (0., 360., 3.14, 1.), (0., 400., 3.05, 2.),\n",
       "       (0., 580., 3.25, 1.), (0., 520., 2.9 , 3.), (1., 500., 3.13, 2.),\n",
       "       (1., 520., 2.68, 3.), (0., 560., 2.42, 2.), (1., 580., 3.32, 2.),\n",
       "       (1., 600., 3.15, 2.), (0., 500., 3.31, 3.), (0., 700., 2.94, 2.),\n",
       "       (1., 460., 3.45, 3.), (1., 580., 3.46, 2.), (0., 500., 2.97, 4.),\n",
       "       (0., 440., 2.48, 4.), (0., 400., 3.35, 3.), (0., 640., 3.86, 3.),\n",
       "       (0., 440., 3.13, 4.), (0., 740., 3.37, 4.), (1., 680., 3.27, 2.),\n",
       "       (0., 660., 3.34, 3.), (1., 740., 4.  , 3.), (0., 560., 3.19, 3.),\n",
       "       (0., 380., 2.94, 3.), (0., 400., 3.65, 2.), (0., 600., 2.82, 4.),\n",
       "       (1., 620., 3.18, 2.), (0., 560., 3.32, 4.), (0., 640., 3.67, 3.),\n",
       "       (1., 680., 3.85, 3.), (0., 580., 4.  , 3.), (0., 600., 3.59, 2.),\n",
       "       (0., 740., 3.62, 4.), (0., 620., 3.3 , 1.), (0., 580., 3.69, 1.),\n",
       "       (0., 800., 3.73, 1.), (0., 640., 4.  , 3.), (0., 300., 2.92, 4.),\n",
       "       (0., 480., 3.39, 4.), (0., 580., 4.  , 2.), (0., 720., 3.45, 4.),\n",
       "       (0., 720., 4.  , 3.), (0., 560., 3.36, 3.), (1., 800., 4.  , 3.),\n",
       "       (0., 540., 3.12, 1.), (1., 620., 4.  , 1.), (0., 700., 2.9 , 4.),\n",
       "       (0., 620., 3.07, 2.), (0., 500., 2.71, 2.), (0., 380., 2.91, 4.),\n",
       "       (1., 500., 3.6 , 3.), (0., 520., 2.98, 2.), (0., 600., 3.32, 2.),\n",
       "       (0., 600., 3.48, 2.), (0., 700., 3.28, 1.), (1., 660., 4.  , 2.),\n",
       "       (0., 700., 3.83, 2.), (1., 720., 3.64, 1.), (0., 800., 3.9 , 2.),\n",
       "       (0., 580., 2.93, 2.), (1., 660., 3.44, 2.), (0., 660., 3.33, 2.),\n",
       "       (0., 640., 3.52, 4.), (0., 480., 3.57, 2.), (0., 700., 2.88, 2.),\n",
       "       (0., 400., 3.31, 3.), (0., 340., 3.15, 3.), (0., 580., 3.57, 3.),\n",
       "       (0., 380., 3.33, 4.), (0., 540., 3.94, 3.), (1., 660., 3.95, 2.),\n",
       "       (1., 740., 2.97, 2.), (1., 700., 3.56, 1.), (0., 480., 3.13, 2.),\n",
       "       (0., 400., 2.93, 3.), (0., 480., 3.45, 2.), (0., 680., 3.08, 4.),\n",
       "       (0., 420., 3.41, 4.), (0., 360., 3.  , 3.), (0., 600., 3.22, 1.),\n",
       "       (0., 720., 3.84, 3.), (0., 620., 3.99, 3.), (1., 440., 3.45, 2.),\n",
       "       (0., 700., 3.72, 2.), (1., 800., 3.7 , 1.), (0., 340., 2.92, 3.),\n",
       "       (1., 520., 3.74, 2.), (1., 480., 2.67, 2.), (0., 520., 2.85, 3.),\n",
       "       (0., 500., 2.98, 3.), (0., 720., 3.88, 3.), (0., 540., 3.38, 4.),\n",
       "       (1., 600., 3.54, 1.), (0., 740., 3.74, 4.), (0., 540., 3.19, 2.),\n",
       "       (0., 460., 3.15, 4.), (1., 620., 3.17, 2.), (0., 640., 2.79, 2.),\n",
       "       (0., 580., 3.4 , 2.), (0., 500., 3.08, 3.), (0., 560., 2.95, 2.),\n",
       "       (0., 500., 3.57, 3.), (0., 560., 3.33, 4.), (0., 700., 4.  , 3.),\n",
       "       (0., 620., 3.4 , 2.), (1., 600., 3.58, 1.), (0., 640., 3.93, 2.),\n",
       "       (1., 700., 3.52, 4.), (0., 620., 3.94, 4.), (0., 580., 3.4 , 3.),\n",
       "       (0., 580., 3.4 , 4.), (0., 380., 3.43, 3.), (0., 480., 3.4 , 2.),\n",
       "       (0., 560., 2.71, 3.), (1., 480., 2.91, 1.), (0., 740., 3.31, 1.),\n",
       "       (1., 800., 3.74, 1.), (0., 400., 3.38, 2.), (1., 640., 3.94, 2.),\n",
       "       (0., 580., 3.46, 3.), (0., 620., 3.69, 3.), (1., 580., 2.86, 4.),\n",
       "       (0., 560., 2.52, 2.), (1., 480., 3.58, 1.), (0., 660., 3.49, 2.),\n",
       "       (0., 700., 3.82, 3.), (0., 600., 3.13, 2.), (0., 640., 3.5 , 2.),\n",
       "       (1., 700., 3.56, 2.), (0., 520., 2.73, 2.), (0., 580., 3.3 , 2.),\n",
       "       (0., 700., 4.  , 1.), (0., 440., 3.24, 4.), (0., 720., 3.77, 3.),\n",
       "       (0., 500., 4.  , 3.), (0., 600., 3.62, 3.), (0., 400., 3.51, 3.),\n",
       "       (0., 540., 2.81, 3.), (0., 680., 3.48, 3.), (1., 800., 3.43, 2.),\n",
       "       (0., 500., 3.53, 4.), (1., 620., 3.37, 2.), (0., 520., 2.62, 2.),\n",
       "       (1., 620., 3.23, 3.), (0., 620., 3.33, 3.), (0., 300., 3.01, 3.),\n",
       "       (0., 620., 3.78, 3.), (0., 500., 3.88, 4.), (0., 700., 4.  , 2.),\n",
       "       (1., 540., 3.84, 2.), (0., 500., 2.79, 4.), (0., 800., 3.6 , 2.),\n",
       "       (0., 560., 3.61, 3.), (0., 580., 2.88, 2.), (0., 560., 3.07, 2.),\n",
       "       (0., 500., 3.35, 2.), (1., 640., 2.94, 2.), (0., 800., 3.54, 3.),\n",
       "       (0., 640., 3.76, 3.), (0., 380., 3.59, 4.), (1., 600., 3.47, 2.),\n",
       "       (0., 560., 3.59, 2.), (0., 660., 3.07, 3.), (1., 400., 3.23, 4.),\n",
       "       (0., 600., 3.63, 3.), (0., 580., 3.77, 4.), (0., 800., 3.31, 3.),\n",
       "       (1., 580., 3.2 , 2.), (1., 700., 4.  , 1.), (0., 420., 3.92, 4.),\n",
       "       (1., 600., 3.89, 1.), (1., 780., 3.8 , 3.), (0., 740., 3.54, 1.),\n",
       "       (1., 640., 3.63, 1.), (0., 540., 3.16, 3.), (0., 580., 3.5 , 2.),\n",
       "       (0., 740., 3.34, 4.), (0., 580., 3.02, 2.), (0., 460., 2.87, 2.),\n",
       "       (0., 640., 3.38, 3.), (1., 600., 3.56, 2.), (1., 660., 2.91, 3.),\n",
       "       (0., 340., 2.9 , 1.), (1., 460., 3.64, 1.), (0., 460., 2.98, 1.),\n",
       "       (1., 560., 3.59, 2.), (0., 540., 3.28, 3.), (0., 680., 3.99, 3.),\n",
       "       (1., 480., 3.02, 1.), (0., 800., 3.47, 3.), (0., 800., 2.9 , 2.),\n",
       "       (1., 720., 3.5 , 3.), (0., 620., 3.58, 2.), (0., 540., 3.02, 4.),\n",
       "       (0., 480., 3.43, 2.), (1., 720., 3.42, 2.), (0., 580., 3.29, 4.),\n",
       "       (0., 600., 3.28, 3.), (0., 380., 3.38, 2.), (0., 420., 2.67, 3.),\n",
       "       (1., 800., 3.53, 1.), (0., 620., 3.05, 2.), (1., 660., 3.49, 2.),\n",
       "       (0., 480., 4.  , 2.), (0., 500., 2.86, 4.), (0., 700., 3.45, 3.),\n",
       "       (0., 440., 2.76, 2.), (1., 520., 3.81, 1.), (1., 680., 2.96, 3.),\n",
       "       (0., 620., 3.22, 2.), (0., 540., 3.04, 1.), (0., 800., 3.91, 3.),\n",
       "       (0., 680., 3.34, 2.), (0., 440., 3.17, 2.), (0., 680., 3.64, 3.),\n",
       "       (0., 640., 3.73, 3.), (0., 660., 3.31, 4.), (0., 620., 3.21, 4.),\n",
       "       (1., 520., 4.  , 2.), (1., 540., 3.55, 4.), (1., 740., 3.52, 4.),\n",
       "       (0., 640., 3.35, 3.), (1., 520., 3.3 , 2.), (1., 620., 3.95, 3.),\n",
       "       (0., 520., 3.51, 2.), (0., 640., 3.81, 2.), (0., 680., 3.11, 2.),\n",
       "       (0., 440., 3.15, 2.), (1., 520., 3.19, 3.), (1., 620., 3.95, 3.),\n",
       "       (1., 520., 3.9 , 3.), (0., 380., 3.34, 3.), (0., 560., 3.24, 4.),\n",
       "       (1., 600., 3.64, 3.), (1., 680., 3.46, 2.), (0., 500., 2.81, 3.),\n",
       "       (1., 640., 3.95, 2.), (0., 540., 3.33, 3.), (1., 680., 3.67, 2.),\n",
       "       (0., 660., 3.32, 1.), (0., 520., 3.12, 2.), (1., 600., 2.98, 2.),\n",
       "       (0., 460., 3.77, 3.), (1., 580., 3.58, 1.), (1., 680., 3.  , 4.),\n",
       "       (1., 660., 3.14, 2.), (0., 660., 3.94, 2.), (0., 360., 3.27, 3.),\n",
       "       (0., 660., 3.45, 4.), (0., 520., 3.1 , 4.), (1., 440., 3.39, 2.),\n",
       "       (0., 600., 3.31, 4.), (1., 800., 3.22, 1.), (1., 660., 3.7 , 4.),\n",
       "       (0., 800., 3.15, 4.), (0., 420., 2.26, 4.), (1., 620., 3.45, 2.),\n",
       "       (0., 800., 2.78, 2.), (0., 680., 3.7 , 2.), (0., 800., 3.97, 1.),\n",
       "       (0., 480., 2.55, 1.), (0., 520., 3.25, 3.), (0., 560., 3.16, 1.),\n",
       "       (0., 460., 3.07, 2.), (0., 540., 3.5 , 2.), (0., 720., 3.4 , 3.),\n",
       "       (0., 640., 3.3 , 2.), (1., 660., 3.6 , 3.), (1., 400., 3.15, 2.),\n",
       "       (1., 680., 3.98, 2.), (0., 220., 2.83, 3.), (0., 580., 3.46, 4.),\n",
       "       (1., 540., 3.17, 1.), (0., 580., 3.51, 2.), (0., 540., 3.13, 2.),\n",
       "       (0., 440., 2.98, 3.), (0., 560., 4.  , 3.), (0., 660., 3.67, 2.),\n",
       "       (0., 660., 3.77, 3.), (1., 520., 3.65, 4.), (0., 540., 3.46, 4.),\n",
       "       (1., 300., 2.84, 2.), (1., 340., 3.  , 2.), (1., 780., 3.63, 4.),\n",
       "       (1., 480., 3.71, 4.), (0., 540., 3.28, 1.), (0., 460., 3.14, 3.),\n",
       "       (0., 460., 3.58, 2.), (0., 500., 3.01, 4.), (0., 420., 2.69, 2.),\n",
       "       (0., 520., 2.7 , 3.), (0., 680., 3.9 , 1.), (0., 680., 3.31, 2.),\n",
       "       (1., 560., 3.48, 2.), (0., 580., 3.34, 2.), (0., 500., 2.93, 4.),\n",
       "       (0., 740., 4.  , 3.), (0., 660., 3.59, 3.), (0., 420., 2.96, 1.),\n",
       "       (0., 560., 3.43, 3.), (1., 460., 3.64, 3.), (1., 620., 3.71, 1.),\n",
       "       (0., 520., 3.15, 3.), (0., 620., 3.09, 4.), (0., 540., 3.2 , 1.),\n",
       "       (1., 660., 3.47, 3.), (0., 500., 3.23, 4.), (1., 560., 2.65, 3.),\n",
       "       (0., 500., 3.95, 4.), (0., 580., 3.06, 2.), (0., 520., 3.35, 3.),\n",
       "       (0., 500., 3.03, 3.), (0., 600., 3.35, 2.), (0., 580., 3.8 , 2.),\n",
       "       (0., 400., 3.36, 2.), (0., 620., 2.85, 2.), (1., 780., 4.  , 2.),\n",
       "       (0., 620., 3.43, 3.), (1., 580., 3.12, 3.), (0., 700., 3.52, 2.),\n",
       "       (1., 540., 3.78, 2.), (1., 760., 2.81, 1.), (0., 700., 3.27, 2.),\n",
       "       (0., 720., 3.31, 1.), (1., 560., 3.69, 3.), (0., 720., 3.94, 3.),\n",
       "       (1., 520., 4.  , 1.), (1., 540., 3.49, 1.), (0., 680., 3.14, 2.),\n",
       "       (0., 460., 3.44, 2.), (1., 560., 3.36, 1.), (0., 480., 2.78, 3.),\n",
       "       (0., 460., 2.93, 3.), (0., 620., 3.63, 3.), (0., 580., 4.  , 1.),\n",
       "       (0., 800., 3.89, 2.), (1., 540., 3.77, 2.), (1., 680., 3.76, 3.),\n",
       "       (1., 680., 2.42, 1.), (1., 620., 3.37, 1.), (0., 560., 3.78, 2.),\n",
       "       (0., 560., 3.49, 4.), (0., 620., 3.63, 2.), (1., 800., 4.  , 2.),\n",
       "       (0., 640., 3.12, 3.), (0., 540., 2.7 , 2.), (0., 700., 3.65, 2.),\n",
       "       (1., 540., 3.49, 2.), (0., 540., 3.51, 2.), (0., 660., 4.  , 1.),\n",
       "       (1., 480., 2.62, 2.), (0., 420., 3.02, 1.), (1., 740., 3.86, 2.),\n",
       "       (0., 580., 3.36, 2.), (0., 640., 3.17, 2.), (0., 640., 3.51, 2.),\n",
       "       (1., 800., 3.05, 2.), (1., 660., 3.88, 2.), (1., 600., 3.38, 3.),\n",
       "       (1., 620., 3.75, 2.), (1., 460., 3.99, 3.), (0., 620., 4.  , 2.),\n",
       "       (0., 560., 3.04, 3.), (0., 460., 2.63, 2.), (0., 700., 3.65, 2.),\n",
       "       (0., 600., 3.89, 3.)],\n",
       "      dtype=[('admit', '<f8'), ('gre', '<f8'), ('gpa', '<f8'), ('rank', '<f8')])"
      ]
     },
     "execution_count": 9,
     "metadata": {},
     "output_type": "execute_result"
    }
   ],
   "source": [
    "# 어떻게 로딩되었는지 눈으로 한 번 보자!\n",
    "data2"
   ]
  },
  {
   "cell_type": "code",
   "execution_count": 10,
   "metadata": {
    "colab": {},
    "colab_type": "code",
    "id": "qiiAYPt8UVsr",
    "scrolled": false
   },
   "outputs": [
    {
     "name": "stdout",
     "output_type": "stream",
     "text": [
      "778.953214432\n"
     ]
    }
   ],
   "source": [
    "# 유용한 라이브러리\n",
    "import time\n",
    "\n",
    "print(time.perf_counter())"
   ]
  },
  {
   "cell_type": "code",
   "execution_count": 11,
   "metadata": {},
   "outputs": [
    {
     "name": "stdout",
     "output_type": "stream",
     "text": [
      "0.003185166999969624\n"
     ]
    }
   ],
   "source": [
    "import time\n",
    "import numpy as np\n",
    "\n",
    "starttime = time.perf_counter()\n",
    "data = np.genfromtxt(r\"C:\\Users\\50008313\\Python_Jupyter_Study\\2기교육\\3_Python기초\\샘플데이터\\Graduate_apply.csv\", delimiter=\",\", names=True)\n",
    "endtime = time.perf_counter()\n",
    "print(endtime - starttime)"
   ]
  },
  {
   "cell_type": "markdown",
   "metadata": {
    "colab_type": "text",
    "id": "Cj80rqK-UVsw"
   },
   "source": [
    "## 01. Arrays 생성"
   ]
  },
  {
   "cell_type": "markdown",
   "metadata": {},
   "source": [
    "### 용어 정의  \n",
    "\n",
    "- numpy에서 각 차원을 축(axis) \n",
    "- 축의 개수를 랭크(rank) \n",
    "  예를 들어 3 X 4 행렬의 경우\n",
    "      2차원 행렬, Rank 2 Array 라고 부름\n",
    "      첫번째 축의 길이는 3, 두번째 축의 길이는 4\n",
    "- 배열의 축 길이를 shape\n",
    "      위 행렬의 shape는 (3, 4)입니다."
   ]
  },
  {
   "cell_type": "code",
   "execution_count": 12,
   "metadata": {},
   "outputs": [
    {
     "name": "stdout",
     "output_type": "stream",
     "text": [
      "<class 'numpy.ndarray'>\n",
      "(3,)\n",
      "1 2 3\n"
     ]
    }
   ],
   "source": [
    "# Numpy 배열 생성하기\n",
    "import numpy as np\n",
    "\n",
    "# rank 1 array 생성 ==> 익숙해지기 전까지는 사용하지 마라.\n",
    "a = np.array([1, 2, 3])    # [ ... ]  대괄호 1개\n",
    "print(type(a))            # \"<class 'numpy.ndarray'>\"\n",
    "print(a.shape)            # \"(3,)\"\n",
    "print(a[0], a[1], a[2])   # \"1 2 3\""
   ]
  },
  {
   "cell_type": "code",
   "execution_count": 13,
   "metadata": {},
   "outputs": [
    {
     "name": "stdout",
     "output_type": "stream",
     "text": [
      "[5 2 3]\n"
     ]
    }
   ],
   "source": [
    "# 값 변경\n",
    "a[0] = 5\n",
    "print(a)                  # \"[5, 2, 3]\""
   ]
  },
  {
   "cell_type": "code",
   "execution_count": 14,
   "metadata": {
    "colab": {},
    "colab_type": "code",
    "id": "4Lko04zpUVsw"
   },
   "outputs": [
    {
     "name": "stdout",
     "output_type": "stream",
     "text": [
      "(2, 3)\n",
      "1 2 4\n",
      "[[1 2 3]\n",
      " [4 5 6]]\n"
     ]
    }
   ],
   "source": [
    "# rank 2 array 생성 ==> rank 1 array도 이렇게 사용하라.\n",
    "b = np.array([[1, 2, 3], \n",
    "                      [4, 5, 6]])       # [[ ... ]] 대괄호 1개\n",
    "print(b.shape)                     # \"(2, 3)\"\n",
    "print(b[0, 0], b[0, 1], b[1, 0])   # \"1 2 4\"\n",
    "print(b)"
   ]
  },
  {
   "cell_type": "markdown",
   "metadata": {
    "colab_type": "text",
    "id": "YKLrScdJUVsz"
   },
   "source": [
    "* reshape\n",
    "\n",
    " 중요.!!"
   ]
  },
  {
   "cell_type": "code",
   "execution_count": 30,
   "metadata": {},
   "outputs": [
    {
     "name": "stdout",
     "output_type": "stream",
     "text": [
      "[[1 2 3]\n",
      " [4 5 6]]\n"
     ]
    }
   ],
   "source": [
    "b = np.array([[1, 2, 3], \n",
    "                      [4, 5, 6]])\n",
    "print(b)"
   ]
  },
  {
   "cell_type": "code",
   "execution_count": 31,
   "metadata": {},
   "outputs": [
    {
     "name": "stdout",
     "output_type": "stream",
     "text": [
      "(3, 2)\n",
      "[[1 2]\n",
      " [3 4]\n",
      " [5 6]]\n"
     ]
    }
   ],
   "source": [
    "c = np.reshape(b, (3, 2))\n",
    "print(c.shape) \n",
    "print(c)"
   ]
  },
  {
   "cell_type": "code",
   "execution_count": 32,
   "metadata": {},
   "outputs": [
    {
     "name": "stdout",
     "output_type": "stream",
     "text": [
      "[[1 2]\n",
      " [3 4]\n",
      " [5 6]]\n"
     ]
    }
   ],
   "source": [
    "# method로도 지원됨\n",
    "\n",
    "c1 = b.reshape(3,2)\n",
    "print(c1)"
   ]
  },
  {
   "cell_type": "code",
   "execution_count": 34,
   "metadata": {},
   "outputs": [
    {
     "name": "stdout",
     "output_type": "stream",
     "text": [
      "[[1]\n",
      " [2]\n",
      " [3]\n",
      " [4]\n",
      " [5]\n",
      " [6]]\n"
     ]
    }
   ],
   "source": [
    "# '#'부분의 숫자를 변경해가며 만들어 보자.\n",
    "print(b.reshape(6,-1))"
   ]
  },
  {
   "cell_type": "code",
   "execution_count": 35,
   "metadata": {
    "scrolled": true
   },
   "outputs": [
    {
     "name": "stdout",
     "output_type": "stream",
     "text": [
      "[[[0. 0. 0.]\n",
      "  [0. 0. 0.]\n",
      "  [0. 0. 0.]\n",
      "  [0. 0. 0.]]\n",
      "\n",
      " [[0. 0. 0.]\n",
      "  [0. 0. 0.]\n",
      "  [0. 0. 0.]\n",
      "  [0. 0. 0.]]]\n"
     ]
    }
   ],
   "source": [
    "# rank 3, 0으로 채워진 array\n",
    "test = np.zeros((2, 4, 3)) \n",
    "print(test)"
   ]
  },
  {
   "cell_type": "code",
   "execution_count": 36,
   "metadata": {},
   "outputs": [
    {
     "data": {
      "text/plain": [
       "array([[[0., 0., 0., 0., 0., 0.],\n",
       "        [0., 0., 0., 0., 0., 0.],\n",
       "        [0., 0., 0., 0., 0., 0.],\n",
       "        [0., 0., 0., 0., 0., 0.]]])"
      ]
     },
     "execution_count": 36,
     "metadata": {},
     "output_type": "execute_result"
    }
   ],
   "source": [
    "# rank 3 array\n",
    "test.reshape(1, 4,-1)  "
   ]
  },
  {
   "cell_type": "code",
   "execution_count": 37,
   "metadata": {},
   "outputs": [
    {
     "data": {
      "text/plain": [
       "array([[0., 0., 0., 0., 0., 0.],\n",
       "       [0., 0., 0., 0., 0., 0.],\n",
       "       [0., 0., 0., 0., 0., 0.],\n",
       "       [0., 0., 0., 0., 0., 0.]])"
      ]
     },
     "execution_count": 37,
     "metadata": {},
     "output_type": "execute_result"
    }
   ],
   "source": [
    "# rank 2 array\n",
    "test.reshape(4,-1)  "
   ]
  },
  {
   "cell_type": "code",
   "execution_count": 38,
   "metadata": {
    "scrolled": true
   },
   "outputs": [
    {
     "name": "stdout",
     "output_type": "stream",
     "text": [
      "(64, 64, 3)\n",
      "[[[0. 0. 0.]\n",
      "  [0. 0. 0.]\n",
      "  [0. 0. 0.]\n",
      "  ...\n",
      "  [0. 0. 0.]\n",
      "  [0. 0. 0.]\n",
      "  [0. 0. 0.]]\n",
      "\n",
      " [[0. 0. 0.]\n",
      "  [0. 0. 0.]\n",
      "  [0. 0. 0.]\n",
      "  ...\n",
      "  [0. 0. 0.]\n",
      "  [0. 0. 0.]\n",
      "  [0. 0. 0.]]\n",
      "\n",
      " [[0. 0. 0.]\n",
      "  [0. 0. 0.]\n",
      "  [0. 0. 0.]\n",
      "  ...\n",
      "  [0. 0. 0.]\n",
      "  [0. 0. 0.]\n",
      "  [0. 0. 0.]]\n",
      "\n",
      " ...\n",
      "\n",
      " [[0. 0. 0.]\n",
      "  [0. 0. 0.]\n",
      "  [0. 0. 0.]\n",
      "  ...\n",
      "  [0. 0. 0.]\n",
      "  [0. 0. 0.]\n",
      "  [0. 0. 0.]]\n",
      "\n",
      " [[0. 0. 0.]\n",
      "  [0. 0. 0.]\n",
      "  [0. 0. 0.]\n",
      "  ...\n",
      "  [0. 0. 0.]\n",
      "  [0. 0. 0.]\n",
      "  [0. 0. 0.]]\n",
      "\n",
      " [[0. 0. 0.]\n",
      "  [0. 0. 0.]\n",
      "  [0. 0. 0.]\n",
      "  ...\n",
      "  [0. 0. 0.]\n",
      "  [0. 0. 0.]\n",
      "  [0. 0. 0.]]]\n"
     ]
    }
   ],
   "source": [
    "# 64 * 64 * 3\n",
    "arr = np.zeros((64, 64, 3))\n",
    "print(arr.shape)\n",
    "print(arr)"
   ]
  },
  {
   "cell_type": "code",
   "execution_count": 39,
   "metadata": {},
   "outputs": [
    {
     "data": {
      "text/plain": [
       "4096"
      ]
     },
     "execution_count": 39,
     "metadata": {},
     "output_type": "execute_result"
    }
   ],
   "source": [
    "64 * 64"
   ]
  },
  {
   "cell_type": "code",
   "execution_count": 40,
   "metadata": {
    "colab": {},
    "colab_type": "code",
    "id": "AWkk6y5yUVsz",
    "scrolled": true
   },
   "outputs": [
    {
     "name": "stdout",
     "output_type": "stream",
     "text": [
      "(4096, 3)\n",
      "[[0. 0. 0.]\n",
      " [0. 0. 0.]\n",
      " [0. 0. 0.]\n",
      " ...\n",
      " [0. 0. 0.]\n",
      " [0. 0. 0.]\n",
      " [0. 0. 0.]]\n"
     ]
    }
   ],
   "source": [
    "b = arr.reshape(4096, 3) \n",
    "print(b.shape)\n",
    "print(b)\n"
   ]
  },
  {
   "cell_type": "code",
   "execution_count": 41,
   "metadata": {
    "scrolled": true
   },
   "outputs": [
    {
     "name": "stdout",
     "output_type": "stream",
     "text": [
      "(16, 16, 48)\n",
      "[[[0. 0. 0. ... 0. 0. 0.]\n",
      "  [0. 0. 0. ... 0. 0. 0.]\n",
      "  [0. 0. 0. ... 0. 0. 0.]\n",
      "  ...\n",
      "  [0. 0. 0. ... 0. 0. 0.]\n",
      "  [0. 0. 0. ... 0. 0. 0.]\n",
      "  [0. 0. 0. ... 0. 0. 0.]]\n",
      "\n",
      " [[0. 0. 0. ... 0. 0. 0.]\n",
      "  [0. 0. 0. ... 0. 0. 0.]\n",
      "  [0. 0. 0. ... 0. 0. 0.]\n",
      "  ...\n",
      "  [0. 0. 0. ... 0. 0. 0.]\n",
      "  [0. 0. 0. ... 0. 0. 0.]\n",
      "  [0. 0. 0. ... 0. 0. 0.]]\n",
      "\n",
      " [[0. 0. 0. ... 0. 0. 0.]\n",
      "  [0. 0. 0. ... 0. 0. 0.]\n",
      "  [0. 0. 0. ... 0. 0. 0.]\n",
      "  ...\n",
      "  [0. 0. 0. ... 0. 0. 0.]\n",
      "  [0. 0. 0. ... 0. 0. 0.]\n",
      "  [0. 0. 0. ... 0. 0. 0.]]\n",
      "\n",
      " ...\n",
      "\n",
      " [[0. 0. 0. ... 0. 0. 0.]\n",
      "  [0. 0. 0. ... 0. 0. 0.]\n",
      "  [0. 0. 0. ... 0. 0. 0.]\n",
      "  ...\n",
      "  [0. 0. 0. ... 0. 0. 0.]\n",
      "  [0. 0. 0. ... 0. 0. 0.]\n",
      "  [0. 0. 0. ... 0. 0. 0.]]\n",
      "\n",
      " [[0. 0. 0. ... 0. 0. 0.]\n",
      "  [0. 0. 0. ... 0. 0. 0.]\n",
      "  [0. 0. 0. ... 0. 0. 0.]\n",
      "  ...\n",
      "  [0. 0. 0. ... 0. 0. 0.]\n",
      "  [0. 0. 0. ... 0. 0. 0.]\n",
      "  [0. 0. 0. ... 0. 0. 0.]]\n",
      "\n",
      " [[0. 0. 0. ... 0. 0. 0.]\n",
      "  [0. 0. 0. ... 0. 0. 0.]\n",
      "  [0. 0. 0. ... 0. 0. 0.]\n",
      "  ...\n",
      "  [0. 0. 0. ... 0. 0. 0.]\n",
      "  [0. 0. 0. ... 0. 0. 0.]\n",
      "  [0. 0. 0. ... 0. 0. 0.]]]\n"
     ]
    }
   ],
   "source": [
    "# -1\n",
    "c = arr.reshape(16, 16, -1) \n",
    "print(c.shape) \n",
    "# (64 * 64 * 3) / (16 * 16) = 48이므로 배열의 세 번째 차원의 크기는 48이 됩니다.\n",
    "print(c)"
   ]
  },
  {
   "cell_type": "markdown",
   "metadata": {},
   "source": [
    "### reshape 연습 : MNIST"
   ]
  },
  {
   "cell_type": "code",
   "execution_count": 42,
   "metadata": {},
   "outputs": [],
   "source": [
    "import matplotlib.pylab as plt"
   ]
  },
  {
   "cell_type": "markdown",
   "metadata": {},
   "source": [
    "MNIST sample 100 28x28 dense.CSV 파일을 엑셀로 열어서 한번 살펴보자~!"
   ]
  },
  {
   "cell_type": "code",
   "execution_count": 45,
   "metadata": {
    "scrolled": true
   },
   "outputs": [
    {
     "name": "stdout",
     "output_type": "stream",
     "text": [
      "<class 'numpy.ndarray'>\n",
      "(100, 785)\n",
      "[[7. 0. 0. ... 0. 0. 0.]\n",
      " [2. 0. 0. ... 0. 0. 0.]\n",
      " [1. 0. 0. ... 0. 0. 0.]\n",
      " ...\n",
      " [7. 0. 0. ... 0. 0. 0.]\n",
      " [6. 0. 0. ... 0. 0. 0.]\n",
      " [9. 0. 0. ... 0. 0. 0.]]\n"
     ]
    }
   ],
   "source": [
    "# MNIST 샘플 데이터를 불러오기\n",
    "mnist = np.genfromtxt(r\"C:\\Users\\50008313\\Python_Jupyter_Study\\2기교육\\3_Python기초\\샘플데이터\\MNIST sample 100 28x28 dense.CSV\", delimiter=\",\",skip_header=True)\n",
    "print(type(mnist))\n",
    "print(mnist.shape)\n",
    "print(mnist)"
   ]
  },
  {
   "cell_type": "markdown",
   "metadata": {},
   "source": [
    "이 형태는 정리(전처리)가 잘 된 데이터 셋 이다. <br>\n",
    "첫번째 칼럼은 Label 이다. <br>\n",
    "각 행이 하나의 이미지 파일의 픽셀값을 일렬로 만들어 놓은 것."
   ]
  },
  {
   "cell_type": "code",
   "execution_count": 46,
   "metadata": {},
   "outputs": [
    {
     "name": "stdout",
     "output_type": "stream",
     "text": [
      "[[0. 0. 0. ... 0. 0. 0.]\n",
      " [0. 0. 0. ... 0. 0. 0.]\n",
      " [0. 0. 0. ... 0. 0. 0.]\n",
      " ...\n",
      " [0. 0. 0. ... 0. 0. 0.]\n",
      " [0. 0. 0. ... 0. 0. 0.]\n",
      " [0. 0. 0. ... 0. 0. 0.]]\n"
     ]
    }
   ],
   "source": [
    "mnist_labels = mnist[:,0]  #첫 칼럼은 레이블로 모아두고\n",
    "mnist_pixels = mnist[:,1:] #나머지 칼럼(픽셀값들)을 따로 저장.\n",
    "\n",
    "print(mnist_pixels)"
   ]
  },
  {
   "cell_type": "code",
   "execution_count": 47,
   "metadata": {},
   "outputs": [],
   "source": [
    "# 원본 이미지 형태로 픽셀을 reshape하여  mnist_pixels2에 담자.\n",
    "mnist_pixels2 = mnist_pixels.reshape([-1, 28,28])"
   ]
  },
  {
   "cell_type": "code",
   "execution_count": 48,
   "metadata": {},
   "outputs": [
    {
     "data": {
      "text/plain": [
       "(100, 28, 28)"
      ]
     },
     "execution_count": 48,
     "metadata": {},
     "output_type": "execute_result"
    }
   ],
   "source": [
    "mnist_pixels2.shape"
   ]
  },
  {
   "cell_type": "code",
   "execution_count": 49,
   "metadata": {},
   "outputs": [
    {
     "name": "stdout",
     "output_type": "stream",
     "text": [
      "9.0\n"
     ]
    },
    {
     "data": {
      "text/plain": [
       "<matplotlib.image.AxesImage at 0x7f4d9e8>"
      ]
     },
     "execution_count": 49,
     "metadata": {},
     "output_type": "execute_result"
    },
    {
     "data": {
      "image/png": "[encoded data removed]",
      "text/plain": [
       "<Figure size 432x288 with 1 Axes>"
      ]
     },
     "metadata": {
      "needs_background": "light"
     },
     "output_type": "display_data"
    }
   ],
   "source": [
    "# 특정 이미지의 픽셀값을 진짜 이미지로 나타내보자.\n",
    "image_no = 99\n",
    "print(mnist_labels[image_no])\n",
    "plt.imshow(mnist_pixels2[image_no, : , : ])"
   ]
  },
  {
   "cell_type": "code",
   "execution_count": 50,
   "metadata": {
    "scrolled": true
   },
   "outputs": [
    {
     "data": {
      "text/plain": [
       "<matplotlib.image.AxesImage at 0x7c78b70>"
      ]
     },
     "execution_count": 50,
     "metadata": {},
     "output_type": "execute_result"
    },
    {
     "data": {
      "image/png": "[encoded data removed]",
      "text/plain": [
       "<Figure size 432x288 with 1 Axes>"
      ]
     },
     "metadata": {
      "needs_background": "light"
     },
     "output_type": "display_data"
    }
   ],
   "source": [
    "# 전체 다 가져올 거라면 2,3차원 생략 가능\n",
    "plt.imshow(mnist_pixels2[image_no])"
   ]
  },
  {
   "cell_type": "markdown",
   "metadata": {},
   "source": [
    "보통 CSV 파일은 Pandas로 불러와서 계산을 위해서 Numpy로 변환해서 진행합니다."
   ]
  },
  {
   "cell_type": "markdown",
   "metadata": {
    "colab_type": "text",
    "id": "R8TGtDceUVs1"
   },
   "source": [
    "### 여러가지 array 생성함수"
   ]
  },
  {
   "cell_type": "code",
   "execution_count": 51,
   "metadata": {},
   "outputs": [
    {
     "name": "stdout",
     "output_type": "stream",
     "text": [
      "[[0. 0.]\n",
      " [0. 0.]]\n"
     ]
    }
   ],
   "source": [
    "# Numpy는 배열을 생성하는 다양한 함수를 제공합니다.\n",
    "\n",
    "# 0으로 채워진 array 생성\n",
    "a = np.zeros((2, 2))\n",
    "print(a)              # \"[[ 0.  0.]\n",
    "                      #   [ 0.  0.]]\""
   ]
  },
  {
   "cell_type": "code",
   "execution_count": 52,
   "metadata": {},
   "outputs": [
    {
     "name": "stdout",
     "output_type": "stream",
     "text": [
      "[[1. 1.]]\n"
     ]
    }
   ],
   "source": [
    "# 1로 채워진 array 생성\n",
    "b = np.ones((1, 2))\n",
    "print(b)              # \"[[ 1.  1.]]\""
   ]
  },
  {
   "cell_type": "code",
   "execution_count": 53,
   "metadata": {},
   "outputs": [
    {
     "name": "stdout",
     "output_type": "stream",
     "text": [
      "[[7. 7.]\n",
      " [7. 7.]]\n"
     ]
    }
   ],
   "source": [
    "# 특정 값으로 채워진 array 생성\n",
    "c = np.full((2, 2), 7.)  \n",
    "print(c)               # \"[[ 7.  7.]\n",
    "                       #   [ 7.  7.]]\""
   ]
  },
  {
   "cell_type": "code",
   "execution_count": 54,
   "metadata": {},
   "outputs": [
    {
     "name": "stdout",
     "output_type": "stream",
     "text": [
      "[[1. 0.]\n",
      " [0. 1.]]\n"
     ]
    }
   ],
   "source": [
    "# 2x2 단위 행렬(identity matrix) 생성\n",
    "d = np.eye(2)\n",
    "print(d)              # \"[[ 1.  0.]\n",
    "                      #   [ 0.  1.]]\""
   ]
  },
  {
   "cell_type": "code",
   "execution_count": 55,
   "metadata": {
    "colab": {},
    "colab_type": "code",
    "id": "VTREtidPUVs2",
    "scrolled": true
   },
   "outputs": [
    {
     "name": "stdout",
     "output_type": "stream",
     "text": [
      "[[0.45995704 0.18383729]\n",
      " [0.6261864  0.11284484]]\n"
     ]
    }
   ],
   "source": [
    "# 랜덤값으로 채운 array 생성\n",
    "e = np.random.random((2, 2))\n",
    "print(e)"
   ]
  },
  {
   "cell_type": "markdown",
   "metadata": {},
   "source": [
    "Random number 설명\n",
    "\n",
    "https://docs.scipy.org/doc/numpy-1.15.1/reference/routines.random.html"
   ]
  },
  {
   "cell_type": "code",
   "execution_count": 59,
   "metadata": {},
   "outputs": [
    {
     "name": "stdout",
     "output_type": "stream",
     "text": [
      "[[0.3051895  0.8090249 ]\n",
      " [0.70315185 0.37396003]]\n"
     ]
    }
   ],
   "source": [
    "# seed 값을 지정하면 항상 동일한 값으로 샘플링 됨.\n",
    "np.random.seed(1102)  # 값이 동일하면, 컴퓨터와 상관없이 동일한 샘플링\n",
    "e = np.random.random((2, 2))\n",
    "print(e)"
   ]
  },
  {
   "cell_type": "markdown",
   "metadata": {
    "colab_type": "text",
    "id": "jZQMeJKXUVs4"
   },
   "source": [
    "### 실습1 : Arrays 생성"
   ]
  },
  {
   "cell_type": "code",
   "execution_count": 62,
   "metadata": {
    "colab": {},
    "colab_type": "code",
    "id": "X-3lNlP4UVs5"
   },
   "outputs": [
    {
     "name": "stdout",
     "output_type": "stream",
     "text": [
      "[1 2 3 4 5 6]\n",
      "<class 'numpy.ndarray'>\n"
     ]
    }
   ],
   "source": [
    "a = [1, 2, 3, 4, 5, 6]\n",
    "\n",
    "# 1) a를 가지고 numpy array np_01을 생성하시오\n",
    "np_01 = np.array(a)\n",
    "print(np_01)\n",
    "print(type(np_01))\n"
   ]
  },
  {
   "cell_type": "code",
   "execution_count": 64,
   "metadata": {},
   "outputs": [
    {
     "data": {
      "text/plain": [
       "(6,)"
      ]
     },
     "execution_count": 64,
     "metadata": {},
     "output_type": "execute_result"
    }
   ],
   "source": [
    "# 2) np_01의 shape를 확인하시오.\n",
    "np_01.shape\n"
   ]
  },
  {
   "cell_type": "code",
   "execution_count": 66,
   "metadata": {},
   "outputs": [
    {
     "name": "stdout",
     "output_type": "stream",
     "text": [
      "[[1]\n",
      " [2]\n",
      " [3]\n",
      " [4]\n",
      " [5]\n",
      " [6]]\n"
     ]
    }
   ],
   "source": [
    "# 3) np_01의 shape를 (6, 1)로 변환하여 np_02에 넣으세요. \n",
    "np_02 = np_01.reshape(6,1)\n",
    "print(np_02)\n",
    "\n"
   ]
  },
  {
   "cell_type": "code",
   "execution_count": 68,
   "metadata": {},
   "outputs": [
    {
     "name": "stdout",
     "output_type": "stream",
     "text": [
      "[[1 2 3 4 5 6]]\n"
     ]
    }
   ],
   "source": [
    "# 4) np_01의 shape를 (1, 6)로 변환하여 np_03에 넣으세요. \n",
    "np_03 = np_01.reshape(1,6)\n",
    "print(np_03)\n"
   ]
  },
  {
   "cell_type": "code",
   "execution_count": 71,
   "metadata": {},
   "outputs": [
    {
     "name": "stdout",
     "output_type": "stream",
     "text": [
      "[[1 2]\n",
      " [3 4]\n",
      " [5 6]]\n"
     ]
    }
   ],
   "source": [
    "# 5) np_01의 shape를 (-1, 2)로 변환하여 np_04에 넣으세요. \n",
    "np_04 = np_01.reshape(-1,2)\n",
    "print(np_04)\n"
   ]
  },
  {
   "cell_type": "code",
   "execution_count": 74,
   "metadata": {},
   "outputs": [
    {
     "name": "stdout",
     "output_type": "stream",
     "text": [
      "(6,) (6, 1) (1, 6) (3, 2)\n"
     ]
    }
   ],
   "source": [
    "# 6) np_01, np_02, np_03, np_04의 모양(shape)을 출력하시고 shape와 실제 값의 모양을 확인하세요. \n",
    "\n",
    "print(np_01.shape, np_02.shape, np_03.shape, np_04.shape)\n",
    "\n"
   ]
  },
  {
   "cell_type": "code",
   "execution_count": 77,
   "metadata": {},
   "outputs": [
    {
     "name": "stdout",
     "output_type": "stream",
     "text": [
      "[[4.67708994e-01 5.12850036e-01 9.30880773e-01 5.27383621e-01\n",
      "  3.89737848e-01 9.72338558e-01 4.94004843e-01 2.70093564e-01\n",
      "  6.49127554e-01 3.49423088e-01 6.73647373e-02 6.75977170e-01\n",
      "  7.72483257e-01 6.23428446e-02 5.30137871e-01 6.12893607e-01\n",
      "  5.70006811e-01 3.66052612e-01 3.50507476e-01 4.71177228e-01\n",
      "  9.43003840e-01 5.81627548e-01 5.78356769e-01 8.06572953e-01\n",
      "  2.92854467e-01 9.10677213e-01 3.17131621e-01 5.17105024e-01]\n",
      " [6.38646958e-01 2.15798986e-01 6.81551555e-02 7.33268006e-01\n",
      "  9.80877363e-01 5.57623476e-01 6.47220038e-01 5.33900300e-01\n",
      "  9.07215512e-01 9.35620173e-01 6.92299047e-02 3.30121355e-01\n",
      "  8.52600916e-01 7.98147585e-02 7.00702734e-01 6.81357502e-01\n",
      "  1.62922600e-01 7.37838312e-01 4.42808283e-01 8.89958946e-01\n",
      "  2.61007755e-01 4.05726392e-01 5.37703482e-01 2.22457050e-01\n",
      "  7.21752675e-03 8.04803064e-01 4.31576478e-01 7.57243297e-02]\n",
      " [1.40029948e-01 1.81179732e-01 6.99260479e-01 1.59931256e-01\n",
      "  1.72668426e-01 6.83798481e-01 8.81656429e-01 7.79227361e-01\n",
      "  1.82863553e-01 8.26741894e-02 2.50011018e-01 4.99209936e-01\n",
      "  6.85838854e-01 4.57321233e-01 9.26208547e-01 7.06566951e-01\n",
      "  8.63916892e-01 6.22268229e-01 8.64152293e-01 9.45450635e-01\n",
      "  9.18623262e-01 9.75849423e-01 2.03538845e-01 9.32287485e-01\n",
      "  2.40780800e-01 2.83822161e-01 4.56903303e-01 4.10887582e-02]\n",
      " [2.40197216e-02 2.61084916e-02 5.66656230e-01 7.84604590e-02\n",
      "  5.10729973e-01 6.11628217e-01 6.75990665e-01 9.44697652e-01\n",
      "  4.50448296e-01 2.86645178e-01 1.19875027e-01 9.58025626e-01\n",
      "  5.57767246e-01 8.49805304e-01 2.08749219e-01 9.37895713e-01\n",
      "  4.13015112e-01 6.35563793e-01 3.54772265e-01 9.58840041e-01\n",
      "  9.98544400e-01 3.90254621e-01 6.82573358e-01 8.24008615e-01\n",
      "  8.29144553e-01 2.96265871e-01 9.40112015e-01 6.82336988e-01]\n",
      " [9.26013768e-01 4.11272168e-01 3.01915211e-01 4.15611017e-01\n",
      "  6.16772599e-01 1.33202612e-01 4.29743746e-02 2.33564243e-01\n",
      "  4.86030751e-01 9.28308217e-02 1.93929137e-01 7.97334040e-01\n",
      "  9.06517460e-02 3.23233997e-01 5.06468034e-01 3.19619888e-01\n",
      "  6.81300550e-01 1.51618206e-01 4.40186792e-01 4.21452979e-01\n",
      "  6.07515149e-01 8.14351329e-01 4.94584530e-01 2.18328324e-01\n",
      "  2.93408926e-01 3.65890649e-01 7.66397511e-02 8.74722657e-01]\n",
      " [3.68998469e-01 7.94254987e-01 6.11511262e-01 9.73689312e-02\n",
      "  9.19292466e-01 3.49550304e-01 6.33912665e-01 6.79339870e-01\n",
      "  8.47134656e-01 6.18536059e-01 4.80332575e-01 4.69098843e-01\n",
      "  7.33590701e-01 1.50394371e-01 1.96530974e-01 9.76165720e-01\n",
      "  7.82120813e-01 1.63012942e-01 4.51589864e-01 2.38416749e-02\n",
      "  5.61444515e-01 2.93377138e-01 8.56368796e-01 6.16733411e-01\n",
      "  7.31673043e-01 6.63148272e-01 8.91048921e-01 6.88212495e-01]\n",
      " [6.62010337e-01 4.28000733e-01 6.75432542e-01 2.53224218e-01\n",
      "  2.71751107e-01 7.84319686e-01 2.28984910e-01 3.41424163e-01\n",
      "  1.45114439e-01 8.03474566e-01 2.89664631e-01 3.24025637e-01\n",
      "  7.09763224e-01 6.91111537e-01 2.60830361e-01 6.55294485e-01\n",
      "  8.24661803e-01 8.77281780e-01 4.93347676e-01 5.82556159e-01\n",
      "  4.57485171e-01 6.80115908e-02 2.84350143e-01 3.76539297e-01\n",
      "  1.26024905e-01 1.50667081e-01 8.20901972e-01 7.46731544e-01]\n",
      " [9.44409735e-02 4.78547464e-03 5.48665750e-01 5.25661128e-01\n",
      "  3.34989275e-01 2.05359685e-01 9.18853759e-01 1.78796434e-01\n",
      "  3.28485777e-02 8.36193719e-01 3.31170901e-01 9.79510017e-01\n",
      "  6.08095165e-01 1.58852880e-01 7.21904540e-01 3.17590839e-01\n",
      "  1.58721758e-01 6.19222038e-01 7.72274685e-01 1.28751083e-01\n",
      "  6.93467141e-01 4.56306401e-01 8.42996266e-01 5.99959971e-01\n",
      "  4.76199506e-01 9.85784202e-01 5.14060699e-01 6.13024643e-01]\n",
      " [8.28523218e-03 5.91959775e-01 7.91383156e-01 8.30885655e-01\n",
      "  5.54949152e-01 5.38742763e-01 7.28669022e-01 6.54857642e-01\n",
      "  1.41301833e-01 7.36301938e-01 2.41216640e-01 1.42516080e-01\n",
      "  1.20607689e-01 8.50557352e-01 3.06475595e-01 9.55231892e-01\n",
      "  4.54660248e-01 9.13560889e-01 1.91773249e-01 6.84651864e-01\n",
      "  3.67244460e-01 9.91286337e-01 3.94148859e-01 6.93485616e-01\n",
      "  6.79753087e-01 5.98181559e-01 4.77506326e-01 6.44215924e-01]\n",
      " [8.03340808e-01 1.20594616e-01 7.24042865e-01 7.07424628e-01\n",
      "  6.61079440e-01 7.77568309e-01 5.12435950e-01 6.72618687e-01\n",
      "  7.43605558e-01 8.82944656e-01 2.74465149e-02 6.08348724e-01\n",
      "  4.24400637e-01 4.74890256e-01 7.25363973e-01 9.66705031e-02\n",
      "  2.81631370e-01 4.75453037e-01 4.04784031e-01 4.19684326e-02\n",
      "  8.57590350e-01 2.75851617e-02 9.07412644e-01 6.81489650e-01\n",
      "  3.99808202e-01 4.50257985e-01 4.11434883e-01 1.30453926e-01]\n",
      " [6.23103814e-02 1.93513728e-01 1.45369238e-01 7.11947489e-01\n",
      "  2.61803636e-01 6.44622644e-02 9.01118303e-01 6.51126471e-01\n",
      "  4.28572713e-01 3.56544626e-01 1.45932657e-01 3.94181882e-01\n",
      "  5.73705544e-01 7.76291046e-02 8.50637022e-01 1.57461974e-01\n",
      "  9.38620605e-02 6.83808089e-01 2.62556732e-01 9.69301137e-01\n",
      "  9.73843585e-01 9.64117379e-01 7.90576799e-01 9.28700286e-02\n",
      "  4.22267334e-01 6.51593719e-01 1.21038704e-01 2.65998555e-01]\n",
      " [3.37663579e-01 4.47978148e-03 1.00619593e-01 9.12310084e-01\n",
      "  3.98913939e-01 8.60886518e-01 2.70733284e-02 7.75439983e-01\n",
      "  8.06279237e-02 8.45909589e-01 5.28072325e-01 3.18382741e-01\n",
      "  9.32818984e-02 8.66833787e-01 9.41827125e-02 6.67783996e-01\n",
      "  6.54919529e-02 5.86281526e-01 1.04330287e-01 8.94981337e-02\n",
      "  4.18036773e-01 7.19364021e-01 2.73430676e-01 1.06042161e-01\n",
      "  4.28415095e-01 4.52285393e-01 4.62533318e-01 8.42805077e-01]\n",
      " [1.64235058e-01 2.19955932e-01 2.18060604e-01 6.78032318e-01\n",
      "  1.22545377e-01 4.93589796e-02 7.10604512e-01 5.71855524e-02\n",
      "  2.00108796e-01 3.36511760e-01 6.90787957e-01 6.96867593e-01\n",
      "  4.29354799e-03 3.43021877e-01 2.35752296e-01 2.34025114e-01\n",
      "  9.08331309e-01 4.42069122e-01 2.88128723e-01 9.68704406e-02\n",
      "  3.01779227e-01 7.03931750e-01 7.19241302e-01 9.69920957e-01\n",
      "  2.53979722e-01 2.50210482e-01 3.92046993e-01 6.46490474e-01]\n",
      " [3.84636213e-01 9.94343654e-01 7.71283044e-02 1.69756623e-01\n",
      "  9.25642782e-01 7.98962424e-01 7.98135300e-01 5.02389806e-01\n",
      "  2.96954243e-01 7.14221668e-02 7.13368178e-01 1.37295483e-01\n",
      "  2.79890997e-02 1.78544867e-02 4.75340694e-01 1.89590828e-02\n",
      "  3.02966710e-01 3.02560089e-01 9.48938574e-01 4.32880816e-01\n",
      "  5.87911674e-01 5.10967928e-01 4.71403216e-01 2.14410782e-01\n",
      "  3.77097538e-01 3.08479043e-01 9.06082252e-01 8.94588516e-01]\n",
      " [5.95607200e-01 4.13672527e-02 4.73751965e-01 7.93071287e-02\n",
      "  6.14201361e-01 5.54808538e-01 8.96202895e-01 7.86468518e-01\n",
      "  6.51698646e-01 1.83412988e-01 9.88646416e-02 8.72981031e-01\n",
      "  3.12145897e-01 3.23993053e-01 8.81446500e-01 3.47972600e-02\n",
      "  2.86165168e-01 5.21173352e-01 7.15817130e-01 5.27637699e-01\n",
      "  2.30448542e-01 8.15717288e-01 3.94219929e-01 6.55920652e-01\n",
      "  4.99845189e-01 2.63316144e-01 8.66414267e-01 7.69395908e-01]\n",
      " [5.45539467e-01 7.37957719e-01 8.02090617e-01 6.45238220e-01\n",
      "  3.40564665e-02 9.78576593e-01 5.52271636e-01 2.13139495e-01\n",
      "  7.13496688e-01 7.52995427e-01 8.03209088e-01 1.74617634e-01\n",
      "  8.90885323e-01 1.46393920e-01 2.22528426e-01 1.36376305e-01\n",
      "  3.33318246e-01 3.01100563e-01 6.86341951e-01 5.17710281e-04\n",
      "  9.73686525e-01 6.75549398e-01 1.00315909e-01 2.06720473e-01\n",
      "  5.03966911e-01 3.55093129e-02 9.05043673e-01 5.92076307e-01]\n",
      " [6.17414932e-01 3.07656901e-01 2.68553309e-01 1.33991250e-01\n",
      "  8.66913781e-01 3.36947287e-01 2.66422188e-02 9.83504356e-01\n",
      "  7.01395995e-01 8.02993451e-01 7.96725994e-01 2.51853948e-01\n",
      "  7.79012721e-01 7.10315758e-01 1.58511108e-01 7.13512717e-01\n",
      "  7.39150506e-01 3.18875863e-01 5.97234664e-01 7.13866410e-01\n",
      "  4.62762263e-01 3.31326860e-01 2.63776617e-01 9.95699220e-01\n",
      "  5.90243974e-01 9.92190914e-01 8.52674382e-01 5.72679220e-01]\n",
      " [4.46010050e-01 5.57834035e-01 7.64412781e-01 4.72119725e-01\n",
      "  1.78740356e-01 5.13336353e-01 1.58736627e-01 3.95849125e-01\n",
      "  2.30443043e-01 9.69584435e-02 3.24378796e-01 8.84575251e-01\n",
      "  5.00528578e-01 6.17055683e-01 3.03405953e-02 4.23530460e-01\n",
      "  5.95755527e-01 2.76589117e-01 4.69377836e-01 1.74992114e-01\n",
      "  2.12286731e-01 7.33711938e-01 5.32252307e-01 2.06201184e-01\n",
      "  1.25706805e-01 1.91875775e-01 9.38518443e-01 5.71127128e-01]\n",
      " [3.96741143e-01 7.27802790e-01 9.23791871e-01 6.62007432e-01\n",
      "  9.61915704e-02 8.75777913e-01 6.48914015e-01 1.61200894e-01\n",
      "  5.76824897e-01 5.38389337e-01 5.54895587e-01 3.43265654e-01\n",
      "  4.69927133e-02 3.35166433e-01 7.13489635e-01 8.23998839e-01\n",
      "  7.46934939e-01 8.99533127e-01 1.66238023e-01 2.63871989e-01\n",
      "  3.71242360e-01 4.74617599e-01 3.04626379e-01 3.55906693e-02\n",
      "  9.14864189e-01 3.41885310e-01 7.16825626e-01 1.02384481e-01]\n",
      " [3.40869472e-02 6.61331037e-02 1.67019301e-01 9.05900189e-01\n",
      "  2.04398700e-01 3.48356882e-01 7.34140008e-02 1.66040380e-01\n",
      "  5.42308644e-01 5.40696604e-01 5.68780732e-01 2.45730817e-01\n",
      "  6.65491047e-01 8.45524891e-01 5.56857599e-01 9.77845826e-01\n",
      "  3.94404229e-01 7.70565167e-01 2.92363201e-01 4.06198081e-01\n",
      "  3.60071153e-01 8.38898610e-01 9.42682864e-01 9.84520876e-02\n",
      "  3.40142716e-01 3.99029404e-01 5.39372786e-02 3.10450462e-01]\n",
      " [2.70462104e-01 1.35269381e-01 4.99214454e-01 4.54868673e-01\n",
      "  7.20531597e-01 9.13876412e-01 3.91552696e-01 4.86468785e-02\n",
      "  7.09288053e-01 9.58620604e-02 9.54636586e-01 3.44654104e-01\n",
      "  4.16206099e-01 9.70725828e-01 9.99678024e-01 1.54376385e-01\n",
      "  7.85572913e-01 3.39475140e-01 1.69464229e-01 3.14432553e-01\n",
      "  5.57302802e-01 8.93643552e-01 4.55045829e-01 2.89186019e-01\n",
      "  5.30364387e-01 1.80519616e-01 9.58828493e-01 7.06094267e-01]\n",
      " [2.32033169e-01 4.48471154e-02 7.60911095e-01 5.51981570e-01\n",
      "  1.14791163e-01 7.23042053e-01 8.46961671e-01 3.76392704e-01\n",
      "  1.33685615e-01 3.08572678e-01 4.90422859e-03 3.66203403e-01\n",
      "  1.30032116e-01 2.25001938e-01 4.67379056e-01 8.24932562e-01\n",
      "  4.69254903e-01 7.92023692e-01 1.55458691e-01 4.76651815e-01\n",
      "  8.66546328e-01 1.77144558e-01 8.42872233e-01 5.36251810e-02\n",
      "  2.93806882e-01 4.62861485e-01 8.92335331e-01 7.36534522e-01]\n",
      " [7.42544464e-02 7.06725405e-01 7.56506892e-01 8.89952795e-01\n",
      "  9.21012927e-01 6.64431832e-01 9.46293674e-01 5.49399609e-01\n",
      "  4.67152350e-01 9.46137151e-01 7.83121950e-01 2.48381409e-01\n",
      "  4.06427985e-01 9.52221271e-01 4.55695853e-01 4.39523079e-01\n",
      "  7.01910137e-01 1.10969817e-03 5.57498698e-01 1.67678983e-01\n",
      "  2.47921470e-01 3.92561939e-01 1.49227716e-01 5.95060702e-01\n",
      "  2.86667210e-01 9.09008540e-01 2.09905241e-01 5.66204859e-01]\n",
      " [5.76224519e-01 6.72962869e-01 2.35430500e-01 9.47064931e-01\n",
      "  7.61879835e-01 4.56609507e-01 5.03096301e-01 4.34338898e-03\n",
      "  2.58006731e-01 7.06963193e-01 2.42473830e-01 4.88477878e-01\n",
      "  7.88491412e-01 4.89959306e-01 9.02075515e-01 2.89424320e-01\n",
      "  2.26996019e-01 9.93578775e-01 7.83177049e-01 5.22372637e-01\n",
      "  6.49993787e-02 5.93171515e-01 6.56117147e-01 8.46153726e-01\n",
      "  1.57761435e-01 6.42777155e-01 8.29045658e-01 9.07045917e-01]\n",
      " [2.97104528e-01 5.40177805e-01 9.31071445e-01 6.01699016e-01\n",
      "  1.37602146e-01 2.72072097e-01 3.49048357e-01 6.90071215e-01\n",
      "  2.27779917e-01 7.28339918e-02 2.47353206e-01 9.18664463e-01\n",
      "  4.06335352e-01 5.80736363e-03 1.21284897e-01 5.02200037e-01\n",
      "  5.47029468e-01 6.30534980e-01 1.22149169e-01 8.19609461e-01\n",
      "  8.05184266e-02 7.80979768e-01 9.03859232e-01 3.54056235e-01\n",
      "  7.85847826e-01 6.04402758e-01 3.88718947e-02 4.04527990e-01]\n",
      " [5.75857597e-01 5.63550209e-01 7.64155437e-02 1.09875422e-02\n",
      "  3.54594680e-01 4.19869603e-01 6.37708057e-03 1.65087432e-01\n",
      "  5.34558238e-01 1.60185864e-01 4.91907632e-01 7.91906649e-01\n",
      "  9.95045212e-01 5.70665625e-01 6.14549639e-01 2.90690750e-01\n",
      "  2.98131881e-01 7.69597060e-01 7.48986858e-01 5.36729541e-01\n",
      "  8.79979724e-01 1.59507807e-01 8.35186791e-01 8.44491235e-01\n",
      "  2.41923048e-01 1.29383825e-01 2.62257302e-02 4.24877065e-01]\n",
      " [9.34320605e-02 2.37831917e-01 5.99212210e-01 7.98835794e-01\n",
      "  8.75379549e-02 3.80151979e-01 4.14562366e-01 9.05931793e-01\n",
      "  6.57492843e-01 7.68508067e-01 6.04934143e-02 6.13696177e-01\n",
      "  1.61348446e-01 1.44512613e-01 3.97886437e-01 1.62446275e-01\n",
      "  4.29485994e-01 7.62874326e-03 9.75135889e-01 7.01878080e-01\n",
      "  2.52474154e-01 5.75970568e-01 8.72372443e-01 8.17523631e-01\n",
      "  3.45055730e-01 4.40828664e-01 3.55495367e-01 6.34956525e-01]\n",
      " [3.23936733e-01 6.74876445e-01 3.45387740e-01 4.64020594e-01\n",
      "  6.50885241e-01 6.00171775e-01 8.38530217e-01 4.31221511e-02\n",
      "  8.66844897e-01 5.28036280e-01 2.12320311e-01 9.72752182e-01\n",
      "  1.27441177e-01 5.22164664e-01 2.50216806e-01 6.54898084e-01\n",
      "  4.73570428e-01 5.31657658e-01 6.47406773e-01 3.23960156e-01\n",
      "  9.61251641e-01 1.28337094e-01 3.91817778e-01 8.10114252e-01\n",
      "  2.52314110e-01 2.31739503e-01 4.32916968e-01 7.88682589e-01]]\n"
     ]
    }
   ],
   "source": [
    "# 7) 랜덤값으로 채운 (28, 28) numpy array를 생성하여 np_sample 변수에 담으세요.\n",
    "\n",
    "np_sample = np.random.random((28,28))\n",
    "print(np_sample)\n",
    "\n"
   ]
  },
  {
   "cell_type": "markdown",
   "metadata": {
    "colab_type": "text",
    "id": "J00GVYYZUVs8"
   },
   "source": [
    "## 02. Array Indexing & Slicing"
   ]
  },
  {
   "cell_type": "markdown",
   "metadata": {},
   "source": [
    "1차원 array"
   ]
  },
  {
   "cell_type": "code",
   "execution_count": 81,
   "metadata": {},
   "outputs": [],
   "source": [
    "import numpy as np\n",
    "score = np.array( [78,91,84,89,93,65])"
   ]
  },
  {
   "cell_type": "code",
   "execution_count": 82,
   "metadata": {},
   "outputs": [
    {
     "data": {
      "text/plain": [
       "array([91, 93])"
      ]
     },
     "execution_count": 82,
     "metadata": {},
     "output_type": "execute_result"
    }
   ],
   "source": [
    "score[score>=90]"
   ]
  },
  {
   "cell_type": "markdown",
   "metadata": {},
   "source": [
    "2차원 array"
   ]
  },
  {
   "cell_type": "code",
   "execution_count": 83,
   "metadata": {},
   "outputs": [],
   "source": [
    "score_2d = np.array( [[78,91,84,89,93,65]\n",
    "                     ,[82,87,96,79,91,73]] )"
   ]
  },
  {
   "cell_type": "code",
   "execution_count": 86,
   "metadata": {
    "scrolled": true
   },
   "outputs": [
    {
     "name": "stdout",
     "output_type": "stream",
     "text": [
      "[[78 91 84 89 93 65]\n",
      " [82 87 96 79 91 73]]\n"
     ]
    },
    {
     "data": {
      "text/plain": [
       "numpy.ndarray"
      ]
     },
     "execution_count": 86,
     "metadata": {},
     "output_type": "execute_result"
    }
   ],
   "source": [
    "print(score_2d)\n",
    "type(score_2d)"
   ]
  },
  {
   "cell_type": "markdown",
   "metadata": {},
   "source": [
    "### element 단위 비교, 연산이 가능하다!\n",
    "\n",
    "***비교의 결과는 True  또는 False***"
   ]
  },
  {
   "cell_type": "code",
   "execution_count": 88,
   "metadata": {},
   "outputs": [
    {
     "data": {
      "text/plain": [
       "array([78, 91, 84, 89, 93, 65])"
      ]
     },
     "execution_count": 88,
     "metadata": {},
     "output_type": "execute_result"
    }
   ],
   "source": [
    "score_2d[0]"
   ]
  },
  {
   "cell_type": "code",
   "execution_count": 87,
   "metadata": {},
   "outputs": [
    {
     "data": {
      "text/plain": [
       "array([False,  True, False, False,  True, False])"
      ]
     },
     "execution_count": 87,
     "metadata": {},
     "output_type": "execute_result"
    }
   ],
   "source": [
    "score_2d[0] >= 90"
   ]
  },
  {
   "cell_type": "code",
   "execution_count": 89,
   "metadata": {},
   "outputs": [
    {
     "data": {
      "text/plain": [
       "array([[False,  True, False, False,  True, False],\n",
       "       [False, False,  True, False,  True, False]])"
      ]
     },
     "execution_count": 89,
     "metadata": {},
     "output_type": "execute_result"
    }
   ],
   "source": [
    "score_2d >= 90"
   ]
  },
  {
   "cell_type": "code",
   "execution_count": 90,
   "metadata": {},
   "outputs": [
    {
     "data": {
      "text/plain": [
       "array([91, 93])"
      ]
     },
     "execution_count": 90,
     "metadata": {},
     "output_type": "execute_result"
    }
   ],
   "source": [
    "# array[row][column]\n",
    "score_2d[0][score_2d[0] >= 90]"
   ]
  },
  {
   "cell_type": "code",
   "execution_count": 91,
   "metadata": {},
   "outputs": [
    {
     "data": {
      "text/plain": [
       "array([91, 93])"
      ]
     },
     "execution_count": 91,
     "metadata": {},
     "output_type": "execute_result"
    }
   ],
   "source": [
    "# array[row, column]\n",
    "score_2d[0,score_2d[0] >= 90]"
   ]
  },
  {
   "cell_type": "code",
   "execution_count": 92,
   "metadata": {},
   "outputs": [
    {
     "data": {
      "text/plain": [
       "array([96, 91])"
      ]
     },
     "execution_count": 92,
     "metadata": {},
     "output_type": "execute_result"
    }
   ],
   "source": [
    "score_2d[1][score_2d[1] >= 90]"
   ]
  },
  {
   "cell_type": "code",
   "execution_count": 93,
   "metadata": {},
   "outputs": [
    {
     "name": "stdout",
     "output_type": "stream",
     "text": [
      "[[ 1  2  3  4]\n",
      " [ 5  6  7  8]\n",
      " [ 9 10 11 12]]\n"
     ]
    }
   ],
   "source": [
    "# 다음의 shape을 가지는 array 생성\n",
    "# [[ 1  2  3  4]\n",
    "#  [ 5  6  7  8]\n",
    "#  [ 9 10 11 12]]\n",
    "\n",
    "a = np.array([[1, 2, 3, 4], [5, 6, 7, 8], [9, 10, 11, 12]])\n",
    "# shape (3, 4) \n",
    "print(a)"
   ]
  },
  {
   "cell_type": "code",
   "execution_count": 94,
   "metadata": {
    "colab": {},
    "colab_type": "code",
    "id": "PPT8J81eUVs8"
   },
   "outputs": [
    {
     "name": "stdout",
     "output_type": "stream",
     "text": [
      "[[2 3]\n",
      " [6 7]]\n"
     ]
    }
   ],
   "source": [
    "# Slice를 이용하여 하위 배열 잘라내기.\n",
    "# [[2 3]\n",
    "#  [6 7]]\n",
    "\n",
    "# ?에 올 내용은?\n",
    "b = a[0:2, 1:3]  \n",
    "print(b)"
   ]
  },
  {
   "cell_type": "code",
   "execution_count": 95,
   "metadata": {},
   "outputs": [
    {
     "name": "stdout",
     "output_type": "stream",
     "text": [
      "[[ 1  2  3  4]\n",
      " [ 5  6  7  8]\n",
      " [ 9 10 11 12]]\n"
     ]
    }
   ],
   "source": [
    "print(a)"
   ]
  },
  {
   "cell_type": "code",
   "execution_count": 96,
   "metadata": {},
   "outputs": [
    {
     "name": "stdout",
     "output_type": "stream",
     "text": [
      "2\n",
      "77\n"
     ]
    }
   ],
   "source": [
    "# 배열의 조각을 수정하면 원래 배열이 수정됩니다. \n",
    "print(a[0, 1])   # \"2\"\n",
    "b[0, 0] = 77     # b[0, 0] = a[0, 1]\n",
    "print(a[0, 1])   # \"77\"\n",
    "\n",
    "#배열a를 자른 배열b는 별개의 것이 아니라, a를 바라보고 있는 정의만 있음."
   ]
  },
  {
   "cell_type": "code",
   "execution_count": 97,
   "metadata": {
    "scrolled": true
   },
   "outputs": [
    {
     "name": "stdout",
     "output_type": "stream",
     "text": [
      "[[11 77]\n",
      " [ 5  6]]\n",
      "[[ 1 77  3  4]\n",
      " [ 5  6  7  8]\n",
      " [ 9 10 11 12]]\n"
     ]
    }
   ],
   "source": [
    "# List는 범위를 지정하면 복사가 되지만, np.array는 copy()를 사용해야 진짜 복사가 된다.\n",
    "b_copy = a[0:2,0:2].copy() \n",
    "b_copy[0,0] = 11\n",
    "print(b_copy)\n",
    "print(a)"
   ]
  },
  {
   "cell_type": "code",
   "execution_count": 98,
   "metadata": {},
   "outputs": [
    {
     "name": "stdout",
     "output_type": "stream",
     "text": [
      "[[ 1  2  3  4]\n",
      " [ 5  6  7  8]\n",
      " [ 9 10 11 12]]\n"
     ]
    }
   ],
   "source": [
    "# 다음의 shape을 가지는 array 생성\n",
    "a = np.array([[1, 2, 3, 4], [5, 6, 7, 8], [9, 10, 11, 12]])\n",
    "print(a)"
   ]
  },
  {
   "cell_type": "markdown",
   "metadata": {},
   "source": [
    "### 데이터를 액세스 하는 두가지 방법\n"
   ]
  },
  {
   "cell_type": "code",
   "execution_count": 104,
   "metadata": {},
   "outputs": [
    {
     "name": "stdout",
     "output_type": "stream",
     "text": [
      "[5 6 7 8] (4,)\n"
     ]
    }
   ],
   "source": [
    "# 데이터에 액세스하는 두 가지 방법.\n",
    "\n",
    "# 행\n",
    "# 1. 정수 인덱스와 슬라이스를 섞으면 더 낮은 순위의 배열이 생성됩니다. \n",
    "row_r1 = a[1, :]             # Rank 1\n",
    "print(row_r1, row_r1.shape)  # \"[5 6 7 8] (4,)\""
   ]
  },
  {
   "cell_type": "code",
   "execution_count": 105,
   "metadata": {},
   "outputs": [
    {
     "name": "stdout",
     "output_type": "stream",
     "text": [
      "[[5 6 7 8]] (1, 4)\n"
     ]
    }
   ],
   "source": [
    "# 2. 슬라이스만 사용하면 원래 배열과 같은 차원의 배열이 생성됩니다.\n",
    "row_r2 = a[1:2, :]           # Rank 2\n",
    "print(row_r2, row_r2.shape)  # \"[[5 6 7 8]] (1, 4)\""
   ]
  },
  {
   "cell_type": "code",
   "execution_count": 106,
   "metadata": {},
   "outputs": [
    {
     "name": "stdout",
     "output_type": "stream",
     "text": [
      "[ 2  6 10] (3,)\n"
     ]
    }
   ],
   "source": [
    "# 열\n",
    "col_r1 = a[:, 1]\n",
    "print(col_r1, col_r1.shape)  # \"[ 2  6 10] (3,)\""
   ]
  },
  {
   "cell_type": "code",
   "execution_count": 107,
   "metadata": {
    "colab": {},
    "colab_type": "code",
    "id": "b4vHMt3XUVs_"
   },
   "outputs": [
    {
     "name": "stdout",
     "output_type": "stream",
     "text": [
      "[[ 2]\n",
      " [ 6]\n",
      " [10]] (3, 1)\n"
     ]
    }
   ],
   "source": [
    "col_r2 = a[:, 1:2]\n",
    "print(col_r2, col_r2.shape)  # \"[[ 2]\n",
    "                             #   [ 6]\n",
    "                            #   [10]] (3, 1)\""
   ]
  },
  {
   "cell_type": "code",
   "execution_count": 108,
   "metadata": {},
   "outputs": [
    {
     "name": "stdout",
     "output_type": "stream",
     "text": [
      "[[1 2]\n",
      " [3 4]\n",
      " [5 6]]\n"
     ]
    }
   ],
   "source": [
    "# Integer array indexing\n",
    "a = np.array([[1, 2], [3, 4], [5, 6]])\n",
    "print(a)"
   ]
  },
  {
   "cell_type": "code",
   "execution_count": 109,
   "metadata": {},
   "outputs": [
    {
     "name": "stdout",
     "output_type": "stream",
     "text": [
      "[[1 2]\n",
      " [3 4]\n",
      " [5 6]]\n",
      "---------------\n",
      "[[1 2]\n",
      " [5 6]]\n",
      "---------------\n",
      "[[1 2]]\n",
      "---------------\n",
      "[1 2]\n",
      "---------------\n"
     ]
    }
   ],
   "source": [
    "print( a[[0,1,2]] )\n",
    "print('---------------')\n",
    "\n",
    "print( a[[0,2]] )\n",
    "print('---------------')\n",
    "\n",
    "print( a[[0]] )\n",
    "print('---------------')\n",
    "\n",
    "print( a[0] )\n",
    "print('---------------')\n"
   ]
  },
  {
   "cell_type": "code",
   "execution_count": 110,
   "metadata": {
    "colab": {},
    "colab_type": "code",
    "id": "8gruuHkgUVtC",
    "scrolled": false
   },
   "outputs": [
    {
     "name": "stdout",
     "output_type": "stream",
     "text": [
      "[1 4 5]\n"
     ]
    }
   ],
   "source": [
    "# 실행하기 전에 아래 문장의 결과를 예상해보세요!\n",
    "print(a[[0, 1, 2], [0, 1, 0]])   "
   ]
  },
  {
   "cell_type": "code",
   "execution_count": 111,
   "metadata": {},
   "outputs": [
    {
     "name": "stdout",
     "output_type": "stream",
     "text": [
      "[1 4 5]\n"
     ]
    }
   ],
   "source": [
    "print(np.array([a[0, 0], a[1, 1], a[2, 0]]))"
   ]
  },
  {
   "cell_type": "code",
   "execution_count": 112,
   "metadata": {},
   "outputs": [
    {
     "name": "stdout",
     "output_type": "stream",
     "text": [
      "[2 2]\n",
      "[2 2]\n"
     ]
    }
   ],
   "source": [
    "# 같은 위치 데이터를 여러번 사용할 수 있음\n",
    "# \"[2 2]\"\n",
    "print(a[[0, 0], [1, 1]])\n",
    "print(np.array([a[0, 1], a[0, 1]]))  "
   ]
  },
  {
   "cell_type": "markdown",
   "metadata": {},
   "source": [
    "* element 선택 방식 : 좀 헷갈립니다"
   ]
  },
  {
   "cell_type": "code",
   "execution_count": 116,
   "metadata": {
    "colab": {},
    "colab_type": "code",
    "id": "nSZScoYWUVtF"
   },
   "outputs": [
    {
     "name": "stdout",
     "output_type": "stream",
     "text": [
      "[[ 1  2  3]\n",
      " [ 4  5  6]\n",
      " [ 7  8  9]\n",
      " [10 11 12]]\n"
     ]
    }
   ],
   "source": [
    "a = np.array([[1, 2, 3], [4, 5, 6], [7, 8, 9], [10, 11, 12]])\n",
    "print(a)  # \"array([[ 1,  2,  3],\n",
    "          #         [ 4,  5,  6],\n",
    "          #         [ 7,  8,  9],\n",
    "          #         [10, 11, 12]])\"\n",
    "\n"
   ]
  },
  {
   "cell_type": "code",
   "execution_count": 117,
   "metadata": {
    "scrolled": true
   },
   "outputs": [
    {
     "name": "stdout",
     "output_type": "stream",
     "text": [
      "[0 1 2 3]\n",
      "---------------\n",
      "[0 2 0 1]\n",
      "---------------\n",
      "[[ 1  2  3]\n",
      " [ 4  5  6]\n",
      " [ 7  8  9]\n",
      " [10 11 12]]\n"
     ]
    }
   ],
   "source": [
    "b = np.arange(4)\n",
    "c = np.array([0, 2, 0, 1])\n",
    "print(b)\n",
    "print('---------------')\n",
    "print(c)\n",
    "print('---------------')\n",
    "print(a)\n",
    "\n",
    "#print(a[b, c])  # \"[ 1  6  7 11]\""
   ]
  },
  {
   "cell_type": "code",
   "execution_count": 118,
   "metadata": {},
   "outputs": [
    {
     "name": "stdout",
     "output_type": "stream",
     "text": [
      "[ 1  6  7 11]\n"
     ]
    }
   ],
   "source": [
    "print(a[b, c]) "
   ]
  },
  {
   "cell_type": "code",
   "execution_count": 119,
   "metadata": {},
   "outputs": [
    {
     "name": "stdout",
     "output_type": "stream",
     "text": [
      "[[11  2  3]\n",
      " [ 4  5 16]\n",
      " [17  8  9]\n",
      " [10 21 12]]\n"
     ]
    }
   ],
   "source": [
    "# 선택된 모든 element를 변경\n",
    "a[b, c] += 10\n",
    "\n",
    "print(a)  \n",
    "          # prints \"array([[11,  2,  3],\n",
    "          #                [ 4,  5, 16],\n",
    "          #                [17,  8,  9],\n",
    "          #                [10, 21, 12]])"
   ]
  },
  {
   "cell_type": "code",
   "execution_count": 120,
   "metadata": {
    "colab": {},
    "colab_type": "code",
    "id": "S4ixwAj6UVtH"
   },
   "outputs": [
    {
     "name": "stdout",
     "output_type": "stream",
     "text": [
      "[[1 2]\n",
      " [3 4]\n",
      " [5 6]]\n",
      "[[False False]\n",
      " [ True  True]\n",
      " [ True  True]]\n"
     ]
    }
   ],
   "source": [
    "# Boolean array indexing\n",
    "\n",
    "a = np.array([[1, 2], [3, 4], [5, 6]])\n",
    "bool_idx = (a > 2)\n",
    "print(a)\n",
    "print(bool_idx)      # \"[[False False]\n",
    "                     #   [ True  True]\n",
    "                     #   [ True  True]]\""
   ]
  },
  {
   "cell_type": "code",
   "execution_count": 121,
   "metadata": {
    "scrolled": false
   },
   "outputs": [
    {
     "name": "stdout",
     "output_type": "stream",
     "text": [
      "[3 4 5 6]\n",
      "[3 4 5 6]\n"
     ]
    }
   ],
   "source": [
    "print(a[bool_idx])  # \"[3 4 5 6]\"\n",
    "print(a[a > 2])     # \"[3 4 5 6]\""
   ]
  },
  {
   "cell_type": "markdown",
   "metadata": {
    "colab_type": "text",
    "id": "c5fyes7tUVtI"
   },
   "source": [
    "### 실습2 : Arrays Indexing"
   ]
  },
  {
   "cell_type": "code",
   "execution_count": 126,
   "metadata": {},
   "outputs": [
    {
     "name": "stdout",
     "output_type": "stream",
     "text": [
      "[[ 1  2  3]\n",
      " [ 4  5  6]\n",
      " [ 7  8  9]\n",
      " [10 11 12]]\n"
     ]
    }
   ],
   "source": [
    "import numpy as np\n",
    "# 1) 다음의 shape을 가지는 numpy array를 생성하여 np_arr 변수에 담으세요\n",
    "# [[  1  2  3]\n",
    "#  [  4  5  6]\n",
    "#  [  7  8  9]\n",
    "#  [ 10 11 12]]\n",
    "\n",
    "np_arr = np.array([[1 , 2,  3],[  4 , 5 , 6],[  7 , 8 , 9],[ 10 ,11 ,12]])\n",
    "print(np_arr)\n"
   ]
  },
  {
   "cell_type": "code",
   "execution_count": 127,
   "metadata": {},
   "outputs": [
    {
     "data": {
      "text/plain": [
       "(4, 3)"
      ]
     },
     "execution_count": 127,
     "metadata": {},
     "output_type": "execute_result"
    }
   ],
   "source": [
    "# 2) np_arr의 shape를 확인하세요.\n",
    "\n",
    "np_arr.shape\n",
    "\n"
   ]
  },
  {
   "cell_type": "code",
   "execution_count": 128,
   "metadata": {},
   "outputs": [
    {
     "data": {
      "text/plain": [
       "array([10, 11, 12])"
      ]
     },
     "execution_count": 128,
     "metadata": {},
     "output_type": "execute_result"
    }
   ],
   "source": [
    "# 3) np_arr의 3행의 데이터를 1차원 배열로 출력하세요.\n",
    "# [7 8 9]\n",
    "np_arr[3]\n"
   ]
  },
  {
   "cell_type": "code",
   "execution_count": 131,
   "metadata": {},
   "outputs": [
    {
     "data": {
      "text/plain": [
       "array([ 2,  5,  8, 11])"
      ]
     },
     "execution_count": 131,
     "metadata": {},
     "output_type": "execute_result"
    }
   ],
   "source": [
    "# 4) np_arr의 2열의 데이터를 1차원 배열로 출력하세요.\n",
    "\n",
    "np_arr[:,1]"
   ]
  },
  {
   "cell_type": "code",
   "execution_count": 139,
   "metadata": {},
   "outputs": [
    {
     "data": {
      "text/plain": [
       "array([[ 2],\n",
       "       [ 5],\n",
       "       [ 8],\n",
       "       [11]])"
      ]
     },
     "execution_count": 139,
     "metadata": {},
     "output_type": "execute_result"
    }
   ],
   "source": [
    "# 5) np_arr의 2열의 데이터를 2차원 배열로 출력하세요.\n",
    "np_arr[:,1:2]\n"
   ]
  },
  {
   "cell_type": "code",
   "execution_count": 147,
   "metadata": {
    "colab": {},
    "colab_type": "code",
    "id": "enFua6rAUVtJ"
   },
   "outputs": [
    {
     "name": "stdout",
     "output_type": "stream",
     "text": [
      "[ 8  9 10 11 12]\n"
     ]
    }
   ],
   "source": [
    "# 6) 아래의 출력문이 어떤 값을 출력할 지 추측한 후에 결과를 확인하세요.\n",
    "\n",
    "print(np_arr[np_arr>7])"
   ]
  },
  {
   "cell_type": "code",
   "execution_count": 150,
   "metadata": {},
   "outputs": [],
   "source": [
    "# 7) 위의 실습에서 선택된 element 값을 모두 2배로 만드세요.\n",
    "np_arr[np_arr>7]=np_arr[np_arr>7]*2\n"
   ]
  },
  {
   "cell_type": "code",
   "execution_count": 151,
   "metadata": {},
   "outputs": [
    {
     "name": "stdout",
     "output_type": "stream",
     "text": [
      "[[ 1  2  3]\n",
      " [ 4  5  6]\n",
      " [ 7 16 18]\n",
      " [20 22 24]]\n"
     ]
    }
   ],
   "source": [
    "# 8) np_arr을 출력해 봅니다.\n",
    "\n",
    "print(np_arr)"
   ]
  },
  {
   "cell_type": "code",
   "execution_count": 152,
   "metadata": {},
   "outputs": [
    {
     "data": {
      "text/plain": [
       "array([ 3,  6, 18, 24])"
      ]
     },
     "execution_count": 152,
     "metadata": {},
     "output_type": "execute_result"
    }
   ],
   "source": [
    "# 9) np_arr의 element중에 3의 배수인 element만 찾습니다. (3의 배수 찾는 법: x % 3 == 0)\n",
    "\n",
    "np_arr[np_arr%3==0]"
   ]
  },
  {
   "cell_type": "markdown",
   "metadata": {
    "colab_type": "text",
    "id": "KiF6MXK8UVtM"
   },
   "source": [
    "## 03. Data 변환"
   ]
  },
  {
   "cell_type": "code",
   "execution_count": 153,
   "metadata": {
    "colab": {},
    "colab_type": "code",
    "id": "uHeFLGshUVtM"
   },
   "outputs": [
    {
     "name": "stdout",
     "output_type": "stream",
     "text": [
      "int32\n",
      "float64\n"
     ]
    }
   ],
   "source": [
    "x = np.array([1, 2])\n",
    "print(x.dtype)             # \"int64\"\n",
    "\n",
    "x = np.array([1.0, 2.0])\n",
    "print(x.dtype)             #\"float64\""
   ]
  },
  {
   "cell_type": "code",
   "execution_count": 154,
   "metadata": {},
   "outputs": [
    {
     "name": "stdout",
     "output_type": "stream",
     "text": [
      "float64\n"
     ]
    }
   ],
   "source": [
    "# 아래 array의 dtype은? \n",
    "x = np.array([1, 2.0])\n",
    "print(x.dtype)             "
   ]
  },
  {
   "cell_type": "code",
   "execution_count": 155,
   "metadata": {},
   "outputs": [
    {
     "name": "stdout",
     "output_type": "stream",
     "text": [
      "int64\n",
      "[1 2]\n"
     ]
    }
   ],
   "source": [
    "x = np.array([1.9, 2.0], dtype=np.int64)   # 강제로 데이터 형식 지정\n",
    "print(x.dtype)                         \n",
    "print(x)"
   ]
  },
  {
   "cell_type": "markdown",
   "metadata": {},
   "source": [
    "int32 : –2,147,483,648 ~ 2,147,483,647 <br>\n",
    "int64 : –9,223,372,036,854,775,808 ~ 9,223,372,036,854,775,807"
   ]
  },
  {
   "cell_type": "code",
   "execution_count": 157,
   "metadata": {},
   "outputs": [
    {
     "name": "stdout",
     "output_type": "stream",
     "text": [
      "<class 'list'>\n"
     ]
    }
   ],
   "source": [
    "# List\n",
    "a = [1,2,3,4]\n",
    "print(type(a))"
   ]
  },
  {
   "cell_type": "code",
   "execution_count": 158,
   "metadata": {},
   "outputs": [
    {
     "name": "stdout",
     "output_type": "stream",
     "text": [
      "<class 'numpy.ndarray'>\n"
     ]
    }
   ],
   "source": [
    "# Numpy Array\n",
    "x = np.array(a)\n",
    "print(type(x))             # <class ‘numpy.ndarray’>"
   ]
  },
  {
   "cell_type": "code",
   "execution_count": 159,
   "metadata": {
    "colab": {},
    "colab_type": "code",
    "id": "926go3WGUVtP"
   },
   "outputs": [
    {
     "name": "stdout",
     "output_type": "stream",
     "text": [
      "[1, 2, 3, 4]\n",
      "<class 'list'>\n"
     ]
    }
   ],
   "source": [
    "# numpy.ndarray to list\n",
    "y = x.tolist()     # 종종 쓰인다. \n",
    "print(y)               # [1, 2]\n",
    "print(type(y))             # <class ‘list’>"
   ]
  },
  {
   "cell_type": "code",
   "execution_count": 161,
   "metadata": {},
   "outputs": [
    {
     "data": {
      "text/plain": [
       "[[1, 2, 3], [4, 5, 6], [7, 16, 18], [20, 22, 24]]"
      ]
     },
     "execution_count": 161,
     "metadata": {},
     "output_type": "execute_result"
    }
   ],
   "source": [
    "np_arr.tolist()"
   ]
  },
  {
   "cell_type": "code",
   "execution_count": 171,
   "metadata": {},
   "outputs": [
    {
     "name": "stdout",
     "output_type": "stream",
     "text": [
      "[[[0.76216873 0.21431965 0.54687478]\n",
      "  [0.107984   0.63407104 0.21381162]\n",
      "  [0.19169699 0.92995743 0.87731034]]\n",
      "\n",
      " [[0.77126631 0.47601217 0.73238117]\n",
      "  [0.82011834 0.6568247  0.06373939]\n",
      "  [0.6391015  0.68028899 0.99929513]]\n",
      "\n",
      " [[0.83105096 0.08533692 0.63750994]\n",
      "  [0.88074721 0.25257379 0.74357206]\n",
      "  [0.45824883 0.50567734 0.12501515]]]\n",
      "[[[0.7621687257727061, 0.21431965139126796, 0.5468747775792636], [0.10798400199357039, 0.6340710383250637, 0.2138116212480572], [0.19169699014912334, 0.9299574255486661, 0.8773103379806082]], [[0.7712663134238561, 0.4760121707645184, 0.7323811661250211], [0.8201183428373594, 0.6568246958877885, 0.06373939200363676], [0.6391015034234573, 0.6802889923757106, 0.9992951275672098]], [[0.8310509641964506, 0.08533691889347972, 0.6375099357548805], [0.8807472090637654, 0.25257379336594554, 0.7435720645082495], [0.45824883007139516, 0.5056773359049284, 0.12501514858867302]]]\n"
     ]
    }
   ],
   "source": [
    "ll= np.random.random((3,3,3))\n",
    "print(ll)\n",
    "print(ll.tolist())"
   ]
  },
  {
   "cell_type": "markdown",
   "metadata": {
    "colab_type": "text",
    "id": "v7cmzxq1UVtR"
   },
   "source": [
    "## 04. Array Math"
   ]
  },
  {
   "cell_type": "markdown",
   "metadata": {},
   "source": [
    "함수 그대로 사용하기. "
   ]
  },
  {
   "cell_type": "code",
   "execution_count": 178,
   "metadata": {},
   "outputs": [
    {
     "name": "stdout",
     "output_type": "stream",
     "text": [
      "[[1. 2.]\n",
      " [3. 4.]]\n",
      "[[5. 6.]\n",
      " [7. 8.]]\n"
     ]
    }
   ],
   "source": [
    "x = np.array([[1, 2], [3, 4]], dtype=np.float64)\n",
    "y = np.array([[5, 6], [7, 8]], dtype=np.float64)\n",
    "print(x)\n",
    "print(y)"
   ]
  },
  {
   "cell_type": "code",
   "execution_count": 173,
   "metadata": {},
   "outputs": [
    {
     "name": "stdout",
     "output_type": "stream",
     "text": [
      "[[ 6.  8.]\n",
      " [10. 12.]]\n",
      "[[ 6.  8.]\n",
      " [10. 12.]]\n"
     ]
    }
   ],
   "source": [
    "# array 더하기\n",
    "# [[ 6.0  8.0]\n",
    "#  [10.0 12.0]]\n",
    "print(x + y)\n",
    "print(np.add(x, y))"
   ]
  },
  {
   "cell_type": "code",
   "execution_count": 179,
   "metadata": {},
   "outputs": [
    {
     "name": "stdout",
     "output_type": "stream",
     "text": [
      "[[-4. -4.]\n",
      " [-4. -4.]]\n",
      "[[-4. -4.]\n",
      " [-4. -4.]]\n"
     ]
    }
   ],
   "source": [
    "# array 빼기\n",
    "# [[-4.0 -4.0]\n",
    "#  [-4.0 -4.0]]\n",
    "print(x - y)\n",
    "print(np.subtract(x, y))"
   ]
  },
  {
   "cell_type": "code",
   "execution_count": 180,
   "metadata": {},
   "outputs": [
    {
     "name": "stdout",
     "output_type": "stream",
     "text": [
      "[[ 5. 12.]\n",
      " [21. 32.]]\n",
      "[[ 5. 12.]\n",
      " [21. 32.]]\n"
     ]
    }
   ],
   "source": [
    "# array 곱하기\n",
    "# [[ 5.0 12.0]\n",
    "#  [21.0 32.0]]\n",
    "print(x * y)\n",
    "print(np.multiply(x, y))"
   ]
  },
  {
   "cell_type": "code",
   "execution_count": 181,
   "metadata": {},
   "outputs": [
    {
     "name": "stdout",
     "output_type": "stream",
     "text": [
      "[[0.2        0.33333333]\n",
      " [0.42857143 0.5       ]]\n",
      "[[0.2        0.33333333]\n",
      " [0.42857143 0.5       ]]\n"
     ]
    }
   ],
   "source": [
    "# array 나누기\n",
    "# [[ 0.2         0.33333333]\n",
    "#  [ 0.42857143  0.5       ]]\n",
    "print(x / y)\n",
    "print(np.divide(x, y))"
   ]
  },
  {
   "cell_type": "code",
   "execution_count": 182,
   "metadata": {
    "colab": {},
    "colab_type": "code",
    "id": "F2cPuK5ZUVtS"
   },
   "outputs": [
    {
     "name": "stdout",
     "output_type": "stream",
     "text": [
      "[[1.         1.41421356]\n",
      " [1.73205081 2.        ]]\n",
      "[[ 1.  4.]\n",
      " [ 9. 16.]]\n",
      "[[ 1.  4.]\n",
      " [ 9. 16.]]\n"
     ]
    }
   ],
   "source": [
    "# array 제곱근\n",
    "# [[ 1.          1.41421356]\n",
    "#  [ 1.73205081  2.        ]]\n",
    "print(np.sqrt(x))\n",
    "\n",
    "# array 제곱\n",
    "print(x ** 2)\n",
    "print(np.power(x, 2))\n"
   ]
  },
  {
   "cell_type": "code",
   "execution_count": 186,
   "metadata": {},
   "outputs": [],
   "source": [
    "# List와 다른점\n",
    "height = [1.73, 1.68, 1.71, 1.89, 1.79]\n",
    "weight = [65.4, 59.2, 63.6, 88.4, 68.7]\n",
    "# List로는 사칙연산이 안 되므로, weight / height ** 2 이거 계산이 안 됨\n",
    "#TypeError: unsupported operand type(s) for **: 'list' and 'int'\n"
   ]
  },
  {
   "cell_type": "code",
   "execution_count": 187,
   "metadata": {},
   "outputs": [
    {
     "data": {
      "text/plain": [
       "array([21.85171573, 20.97505669, 21.75028214, 24.7473475 , 21.44127836])"
      ]
     },
     "execution_count": 187,
     "metadata": {},
     "output_type": "execute_result"
    }
   ],
   "source": [
    "# numpy array는 element 끼리 계산 된다!\n",
    "np_height = np.array(height)\n",
    "np_weight = np.array(weight)\n",
    "np_weight / np_height ** 2\n",
    "#array([ 21.852, 20.975, 21.75 , 24.747, 21.441])"
   ]
  },
  {
   "cell_type": "code",
   "execution_count": 188,
   "metadata": {},
   "outputs": [
    {
     "data": {
      "text/plain": [
       "[1, 2, 3, 1, 2, 3]"
      ]
     },
     "execution_count": 188,
     "metadata": {},
     "output_type": "execute_result"
    }
   ],
   "source": [
    "python_list = [1, 2, 3]\n",
    "numpy_array = np.array([1, 2, 3])\n",
    "\n",
    "python_list + python_list # element에 대한 계산이 아니고, list를 이어 붙임\n",
    "# [1, 2, 3, 1, 2, 3]"
   ]
  },
  {
   "cell_type": "code",
   "execution_count": 189,
   "metadata": {},
   "outputs": [
    {
     "data": {
      "text/plain": [
       "[1, 2, 3, 1, 2, 3, 1, 2, 3]"
      ]
     },
     "execution_count": 189,
     "metadata": {},
     "output_type": "execute_result"
    }
   ],
   "source": [
    "python_list * 3 # 이것도 element의 계산이 아닌 이어 붙이는 것"
   ]
  },
  {
   "cell_type": "code",
   "execution_count": 190,
   "metadata": {},
   "outputs": [
    {
     "data": {
      "text/plain": [
       "array([2, 4, 6])"
      ]
     },
     "execution_count": 190,
     "metadata": {},
     "output_type": "execute_result"
    }
   ],
   "source": [
    "numpy_array + numpy_array\n",
    "# array([2, 4, 6])"
   ]
  },
  {
   "cell_type": "code",
   "execution_count": 191,
   "metadata": {},
   "outputs": [
    {
     "data": {
      "text/plain": [
       "array([3, 6, 9])"
      ]
     },
     "execution_count": 191,
     "metadata": {},
     "output_type": "execute_result"
    }
   ],
   "source": [
    "numpy_array * 3"
   ]
  },
  {
   "cell_type": "markdown",
   "metadata": {},
   "source": [
    "### 행렬 곱"
   ]
  },
  {
   "cell_type": "code",
   "execution_count": 194,
   "metadata": {},
   "outputs": [
    {
     "name": "stdout",
     "output_type": "stream",
     "text": [
      "[[1 2]\n",
      " [3 4]]\n",
      "[[5 6]\n",
      " [7 8]]\n",
      "[ 9 10]\n",
      "[11 12]\n"
     ]
    }
   ],
   "source": [
    "# 행렬곱\n",
    "\n",
    "x = np.array([[1, 2], [3, 4]])\n",
    "y = np.array([[5, 6], [7, 8]])\n",
    "\n",
    "v = np.array([9, 10])\n",
    "w = np.array([11, 12])\n",
    "\n",
    "print(x)\n",
    "print(y)\n",
    "print(v)\n",
    "print(w)"
   ]
  },
  {
   "cell_type": "code",
   "execution_count": 193,
   "metadata": {},
   "outputs": [
    {
     "name": "stdout",
     "output_type": "stream",
     "text": [
      "219\n",
      "219\n",
      "219\n"
     ]
    }
   ],
   "source": [
    "# (1, 2) * (1, 2), 219\n",
    "print(9 * 11 + 10 * 12)\n",
    "print(v.dot(w))\n",
    "print(np.dot(v, w))"
   ]
  },
  {
   "cell_type": "code",
   "execution_count": 195,
   "metadata": {},
   "outputs": [
    {
     "name": "stdout",
     "output_type": "stream",
     "text": [
      "(1, 1): 29\n",
      "(1, 2): 67\n",
      "[29 67]\n",
      "[29 67]\n"
     ]
    }
   ],
   "source": [
    "# (2, 2) * (1, 2), rank 2 array\n",
    "print(\"(1, 1): %d\" % (1 * 9 + 2 * 10))\n",
    "print(\"(1, 2): %d\" % (3 * 9 + 4 * 10))\n",
    "print(x.dot(v))\n",
    "print(np.dot(x, v))"
   ]
  },
  {
   "cell_type": "code",
   "execution_count": 196,
   "metadata": {
    "colab": {},
    "colab_type": "code",
    "id": "pZqEw71kUVtT"
   },
   "outputs": [
    {
     "name": "stdout",
     "output_type": "stream",
     "text": [
      "(1, 1): 19\n",
      "(1, 2): 22\n",
      "(2, 1): 43\n",
      "(2, 2): 50\n",
      "[[19 22]\n",
      " [43 50]]\n",
      "[[19 22]\n",
      " [43 50]]\n"
     ]
    }
   ],
   "source": [
    "# (2, 2) * (2, 2), rank 2 array\n",
    "# [[19 22]\n",
    "#  [43 50]]\n",
    "print(\"(1, 1): %d\" % (1 * 5 + 2 * 7))\n",
    "print(\"(1, 2): %d\" % (1 * 6 + 2 * 8))\n",
    "print(\"(2, 1): %d\" % (3 * 5 + 4 * 7))\n",
    "print(\"(2, 2): %d\" % (3 * 6 + 4 * 8))\n",
    "print(x.dot(y))\n",
    "print(np.dot(x, y))"
   ]
  },
  {
   "cell_type": "code",
   "execution_count": 214,
   "metadata": {},
   "outputs": [
    {
     "name": "stdout",
     "output_type": "stream",
     "text": [
      "[[1 2 3]\n",
      " [4 5 6]]\n",
      "[[1 2]\n",
      " [3 4]\n",
      " [5 6]]\n",
      "[[22 28]\n",
      " [49 64]]\n"
     ]
    }
   ],
   "source": [
    "aa = np.array([[1,2,3],[4,5,6]])\n",
    "bb = np.array([[1,2],[3,4],[5,6]])\n",
    "\n",
    "print(aa)\n",
    "print(bb)\n",
    "\n",
    "print(aa.dot(bb))"
   ]
  },
  {
   "cell_type": "code",
   "execution_count": 207,
   "metadata": {
    "colab": {},
    "colab_type": "code",
    "id": "cpCAFljWUVtV"
   },
   "outputs": [
    {
     "name": "stdout",
     "output_type": "stream",
     "text": [
      "10\n",
      "[4 6]\n",
      "[3 7]\n",
      "2.5\n",
      "[2. 3.]\n",
      "1.118033988749895\n",
      "[0.5 0.5]\n"
     ]
    }
   ],
   "source": [
    "x = np.array([[1, 2], [3, 4]])\n",
    "\n",
    "# 합산\n",
    "print(np.sum(x))          # \"10\"\n",
    "\n",
    "# 열 합산\n",
    "print(np.sum(x, axis=0))  # \"[4 6]\"\n",
    "\n",
    "# 행 합산\n",
    "print(np.sum(x, axis=1))  # \"[3 7]\"\n",
    "\n",
    "# 평균\n",
    "print(np.mean(x))\n",
    "print(np.mean(x, axis=0))\n",
    "\n",
    "# 표준펹차\n",
    "print(np.std(x))\n",
    "print(np.std(x, axis=1))"
   ]
  },
  {
   "cell_type": "code",
   "execution_count": 208,
   "metadata": {},
   "outputs": [
    {
     "name": "stdout",
     "output_type": "stream",
     "text": [
      "(1, 4)\n",
      "--------------\n",
      "[[1 2 3 4]]\n"
     ]
    }
   ],
   "source": [
    "# 전치행렬\n",
    "\n",
    "x= np.array([1, 2, 3, 4], ndmin=2)\n",
    "print(x.shape)\n",
    "print('--------------')\n",
    "print(x)\n"
   ]
  },
  {
   "cell_type": "code",
   "execution_count": 209,
   "metadata": {},
   "outputs": [
    {
     "name": "stdout",
     "output_type": "stream",
     "text": [
      "[[1]\n",
      " [2]\n",
      " [3]\n",
      " [4]]\n"
     ]
    }
   ],
   "source": [
    "print(x.T)"
   ]
  },
  {
   "cell_type": "code",
   "execution_count": 210,
   "metadata": {
    "colab": {},
    "colab_type": "code",
    "id": "gjNY9204UVtW"
   },
   "outputs": [
    {
     "name": "stdout",
     "output_type": "stream",
     "text": [
      "[[1 2]\n",
      " [3 4]]\n",
      "[[1 3]\n",
      " [2 4]]\n"
     ]
    }
   ],
   "source": [
    "x = np.array([[1, 2], [3, 4]])\n",
    "print(x)    # \"[[1 2]\n",
    "            #   [3 4]]\"\n",
    "\n",
    "print(x.T)  # \"[[1 3]\n",
    "            #   [2 4]]\""
   ]
  },
  {
   "cell_type": "code",
   "execution_count": null,
   "metadata": {},
   "outputs": [],
   "source": [
    "x = np.array([1, 2, 3, 4], ndmin=2) # ndmin 없이 해보기, 없으면 1차원 array으로 만들어진다. 전치행렬이 동작하지 않는다.\n",
    "print(x)   \t    # \"[[1 2 3 4]]\"\n",
    "print(x.shape)  # (1, 4)\n",
    "\n",
    "# 전치 행렬\n",
    "print(x.T)  # \"[[1]\n",
    "            #   [2]\n",
    "            #   [3]\n",
    "            #   [4]]”\n",
    "            \n",
    "# rank 1 에서는 변화가 없음\n",
    "v = np.array([1,2,3])\n",
    "print(v)    # \"[1 2 3]\"\n",
    "print(v.T)  # \"[1 2 3]\""
   ]
  },
  {
   "cell_type": "markdown",
   "metadata": {
    "colab_type": "text",
    "id": "7vuhQeXAUVtY"
   },
   "source": [
    "### 실습 : 변환과 연산"
   ]
  },
  {
   "cell_type": "code",
   "execution_count": 215,
   "metadata": {
    "colab": {},
    "colab_type": "code",
    "id": "JO0qaTN7UVtZ"
   },
   "outputs": [
    {
     "name": "stdout",
     "output_type": "stream",
     "text": [
      "[[0.11028091 0.11400347 0.31125956]\n",
      " [0.01308974 0.21904709 0.81402626]\n",
      " [0.97663481 0.38068369 0.93548195]\n",
      " [0.18919571 0.88244095 0.57483116]]\n"
     ]
    }
   ],
   "source": [
    "# 1) 랜덤값으로 채운 (4, 3) numpy array를 생성하여 np_rand 변수에 담으세요.\n",
    "\n",
    "np_rand = np.random.random((4,3))\n",
    "print(np_rand)"
   ]
  },
  {
   "cell_type": "code",
   "execution_count": null,
   "metadata": {},
   "outputs": [],
   "source": [
    "# 2) np_rand를 출력하세요.\n",
    "\n"
   ]
  },
  {
   "cell_type": "code",
   "execution_count": 216,
   "metadata": {},
   "outputs": [
    {
     "data": {
      "text/plain": [
       "array([1.28920117, 1.5961752 , 2.63559893])"
      ]
     },
     "execution_count": 216,
     "metadata": {},
     "output_type": "execute_result"
    }
   ],
   "source": [
    "# 3) np_rand를 열 방향으로 합산하세요.\n",
    "\n",
    "np.sum(np_rand, axis = 0)"
   ]
  },
  {
   "cell_type": "code",
   "execution_count": 217,
   "metadata": {},
   "outputs": [
    {
     "data": {
      "text/plain": [
       "array([0.53554394, 1.0461631 , 2.29280045, 1.64646781])"
      ]
     },
     "execution_count": 217,
     "metadata": {},
     "output_type": "execute_result"
    }
   ],
   "source": [
    "# 4) np_rand를 행 방향으로 합산하세요.\n",
    "\n",
    "np.sum(np_rand, axis=1)\n"
   ]
  },
  {
   "cell_type": "code",
   "execution_count": 218,
   "metadata": {},
   "outputs": [
    {
     "data": {
      "text/plain": [
       "array([[0.11028091, 0.01308974, 0.97663481, 0.18919571],\n",
       "       [0.11400347, 0.21904709, 0.38068369, 0.88244095],\n",
       "       [0.31125956, 0.81402626, 0.93548195, 0.57483116]])"
      ]
     },
     "execution_count": 218,
     "metadata": {},
     "output_type": "execute_result"
    }
   ],
   "source": [
    "# 5) np_rand의 전치 행렬을 출력하세요.\n",
    "\n",
    "np_rand.T"
   ]
  },
  {
   "cell_type": "markdown",
   "metadata": {
    "colab_type": "text",
    "id": "-1OWDcQDcI5A"
   },
   "source": [
    "## 06. Shuffle, Sampling, Split"
   ]
  },
  {
   "cell_type": "markdown",
   "metadata": {
    "colab_type": "text",
    "id": "zF05aVKdUVtm"
   },
   "source": [
    "### shuffle"
   ]
  },
  {
   "cell_type": "code",
   "execution_count": 219,
   "metadata": {},
   "outputs": [
    {
     "name": "stdout",
     "output_type": "stream",
     "text": [
      "[(0., 380., 3.61, 3.) (1., 660., 3.67, 3.) (1., 800., 4.  , 1.)\n",
      " (1., 640., 3.19, 4.) (0., 520., 2.93, 4.) (1., 760., 3.  , 2.)\n",
      " (1., 560., 2.98, 1.) (0., 400., 3.08, 2.) (1., 540., 3.39, 3.)\n",
      " (0., 700., 3.92, 2.)]\n"
     ]
    }
   ],
   "source": [
    "data = np.genfromtxt(r\"C:\\Users\\50008313\\Python_Jupyter_Study\\2기교육\\3_Python기초\\샘플데이터\\Graduate_apply.csv\", delimiter=\",\", names=True)\n",
    "\n",
    "print(data[0:10])"
   ]
  },
  {
   "cell_type": "code",
   "execution_count": 220,
   "metadata": {
    "colab": {
     "base_uri": "https://localhost:8080/",
     "height": 161
    },
    "colab_type": "code",
    "executionInfo": {
     "elapsed": 625,
     "status": "ok",
     "timestamp": 1529133316214,
     "user": {
      "displayName": "김정훈",
      "photoUrl": "//lh5.googleusercontent.com/-bxbnSTt8iBo/AAAAAAAAAAI/AAAAAAAAAC8/ZcYn9C1jc5w/s50-c-k-no/photo.jpg",
      "userId": "107887219599388888482"
     },
     "user_tz": -540
    },
    "id": "tyGN9LiXUVtn",
    "outputId": "0478d464-d605-48a2-8a30-94e731e94c02"
   },
   "outputs": [
    {
     "name": "stdout",
     "output_type": "stream",
     "text": [
      "[(1., 740., 3.86, 2.) (0., 700., 3.83, 2.) (0., 500., 3.95, 4.)\n",
      " (1., 620., 3.71, 1.) (0., 520., 3.35, 3.) (0., 560., 3.16, 1.)\n",
      " (0., 500., 2.71, 2.) (0., 640., 3.86, 3.) (1., 680., 3.76, 3.)\n",
      " (1., 620., 3.61, 1.)]\n"
     ]
    }
   ],
   "source": [
    "# Shuffle (이 셀을 Ctrl + Enter로 반복실행해보자 )\n",
    "np.random.shuffle(data)\n",
    "print(data[0:10])"
   ]
  },
  {
   "cell_type": "markdown",
   "metadata": {
    "colab_type": "text",
    "id": "k5Z2NwwYcSHM"
   },
   "source": [
    "### sampling\n",
    "\n",
    "[여기참고](https://docs.scipy.org/doc/numpy-1.14.0/reference/generated/numpy.random.choice.html)"
   ]
  },
  {
   "cell_type": "code",
   "execution_count": 221,
   "metadata": {
    "colab": {
     "base_uri": "https://localhost:8080/",
     "height": 71
    },
    "colab_type": "code",
    "executionInfo": {
     "elapsed": 626,
     "status": "ok",
     "timestamp": 1529133874981,
     "user": {
      "displayName": "김정훈",
      "photoUrl": "//lh5.googleusercontent.com/-bxbnSTt8iBo/AAAAAAAAAAI/AAAAAAAAAC8/ZcYn9C1jc5w/s50-c-k-no/photo.jpg",
      "userId": "107887219599388888482"
     },
     "user_tz": -540
    },
    "id": "WS4JeMRCcSC6",
    "outputId": "a0f81d83-d235-4b29-8d5f-c4224e7f07af"
   },
   "outputs": [
    {
     "data": {
      "text/plain": [
       "array([(0., 640., 3.93, 2.), (0., 580., 3.02, 2.), (1., 740., 4.  , 3.),\n",
       "       (0., 380., 3.34, 3.)],\n",
       "      dtype=[('admit', '<f8'), ('gre', '<f8'), ('gpa', '<f8'), ('rank', '<f8')])"
      ]
     },
     "execution_count": 221,
     "metadata": {},
     "output_type": "execute_result"
    }
   ],
   "source": [
    "#np.random.choice\n",
    "np.random.choice(data, 4)"
   ]
  },
  {
   "cell_type": "code",
   "execution_count": 225,
   "metadata": {},
   "outputs": [
    {
     "data": {
      "text/plain": [
       "array([7, 5, 6, 2])"
      ]
     },
     "execution_count": 225,
     "metadata": {},
     "output_type": "execute_result"
    }
   ],
   "source": [
    "# 복원추출 : 한번 뽑은 것을 다시 뽑을 수 있는 추출\n",
    "np.random.choice(np.array([0,1,2,3,4,5,6,7,8,9]), 4)"
   ]
  },
  {
   "cell_type": "code",
   "execution_count": 226,
   "metadata": {},
   "outputs": [
    {
     "data": {
      "text/plain": [
       "array([6, 9, 8, 1])"
      ]
     },
     "execution_count": 226,
     "metadata": {},
     "output_type": "execute_result"
    }
   ],
   "source": [
    "# 비복원추출 : 한번 뽑은 것을 다시 뽑을 수 없는 추출\n",
    "np.random.choice(np.array([0,1,2,3,4,5,6,7,8,9]), 4, replace = False)"
   ]
  },
  {
   "cell_type": "markdown",
   "metadata": {
    "colab_type": "text",
    "id": "tLW2zcpmUVtq"
   },
   "source": [
    "### split"
   ]
  },
  {
   "cell_type": "code",
   "execution_count": 227,
   "metadata": {
    "colab": {},
    "colab_type": "code",
    "id": "1tkOOqI9UVts"
   },
   "outputs": [
    {
     "name": "stdout",
     "output_type": "stream",
     "text": [
      "100\n",
      "100\n",
      "100\n",
      "100\n"
     ]
    }
   ],
   "source": [
    "# Split\n",
    "s1, s2, s3, s4 = data[:100], data[100:200], data[200:300], data[300:]\n",
    "print(len(s1))\n",
    "#print(s1)\n",
    "print(len(s2))\n",
    "print(len(s3))\n",
    "print(len(s4))"
   ]
  },
  {
   "cell_type": "markdown",
   "metadata": {
    "colab_type": "text",
    "id": "ujFBMTSEUVtt"
   },
   "source": [
    "### 실습 : Shuffle, Sampling, Split"
   ]
  },
  {
   "cell_type": "code",
   "execution_count": 267,
   "metadata": {
    "colab": {},
    "colab_type": "code",
    "id": "99MKalAiUVtu"
   },
   "outputs": [
    {
     "name": "stdout",
     "output_type": "stream",
     "text": [
      "(400,)\n",
      "(300,)\n",
      "(100,)\n"
     ]
    }
   ],
   "source": [
    "# 1) ./Graduate_apply.csv 파일을 읽어서 apply 변수에 담으세요. \n",
    "\n",
    "apply = np.genfromtxt(r\"C:\\Users\\50008313\\Python_Jupyter_Study\\2기교육\\3_Python기초\\샘플데이터\\Graduate_apply.csv\", delimiter=\",\", names=True)\n",
    "\n",
    "\n",
    "# 2) apply의 element 갯수를 확인하세요. (400)\n",
    "\n",
    "print(apply.shape)\n",
    "\n",
    "# 3) apply의 데이터 중 0 ~ 300 까지의 행은 train 변수에, 301 ~ 마지막 까지의 행은 test 변수에 담으세요.\n",
    "\n",
    "train = apply[0:300,]\n",
    "test = apply[300:,]\n",
    "\n",
    "print(train.shape)\n",
    "print(test.shape)\n"
   ]
  },
  {
   "cell_type": "code",
   "execution_count": 252,
   "metadata": {
    "scrolled": false
   },
   "outputs": [
    {
     "data": {
      "text/plain": [
       "array([(0., 600., 2.82, 4.), (0., 400., 2.93, 3.), (0., 700., 3.72, 2.),\n",
       "       (0., 540., 3.5 , 2.), (1., 720., 3.5 , 3.)],\n",
       "      dtype=[('admit', '<f8'), ('gre', '<f8'), ('gpa', '<f8'), ('rank', '<f8')])"
      ]
     },
     "execution_count": 252,
     "metadata": {},
     "output_type": "execute_result"
    }
   ],
   "source": [
    "# 4) train에 담겨있는 데이터를 suffle 한 후 상위 5개 데이터를 조회하시오.\n",
    "\n",
    "np.random.shuffle(train)\n",
    "train[0:5]"
   ]
  },
  {
   "cell_type": "code",
   "execution_count": 254,
   "metadata": {},
   "outputs": [
    {
     "name": "stdout",
     "output_type": "stream",
     "text": [
      "[  0   1   2   3   4   5   6   7   8   9  10  11  12  13  14  15  16  17\n",
      "  18  19  20  21  22  23  24  25  26  27  28  29  30  31  32  33  34  35\n",
      "  36  37  38  39  40  41  42  43  44  45  46  47  48  49  50  51  52  53\n",
      "  54  55  56  57  58  59  60  61  62  63  64  65  66  67  68  69  70  71\n",
      "  72  73  74  75  76  77  78  79  80  81  82  83  84  85  86  87  88  89\n",
      "  90  91  92  93  94  95  96  97  98  99 100]\n"
     ]
    }
   ],
   "source": [
    "# 5) 0에서 100까지의 숫자를 1차원 array 'Arr'에 담으시오\n",
    "Arr = np.array(range(101))\n",
    "print(Arr)\n"
   ]
  },
  {
   "cell_type": "code",
   "execution_count": 268,
   "metadata": {},
   "outputs": [
    {
     "data": {
      "text/plain": [
       "array([92, 15, 33, 75, 86,  5, 98, 43, 61, 72])"
      ]
     },
     "execution_count": 268,
     "metadata": {},
     "output_type": "execute_result"
    }
   ],
   "source": [
    "# 6) 5번에서 만든 Arr에서 10개의 값을 무작위로 추출하시오. 단, 비복원 추출 방식을 사용하시오\n",
    "np.random.choice(Arr, 10, replace = False)\n"
   ]
  },
  {
   "cell_type": "code",
   "execution_count": 269,
   "metadata": {},
   "outputs": [
    {
     "data": {
      "text/plain": [
       "array([11, 38, 55, 25, 87, 41, 13, 90, 67, 94])"
      ]
     },
     "execution_count": 269,
     "metadata": {},
     "output_type": "execute_result"
    }
   ],
   "source": [
    "# 7) Arr에서 10개의 값을 무작위로 추출하시오. 단 복원 추출 방식을 사용하시오.\n",
    "\n",
    "np.random.choice(Arr, 10, replace = True)"
   ]
  },
  {
   "cell_type": "code",
   "execution_count": 266,
   "metadata": {},
   "outputs": [
    {
     "data": {
      "text/plain": [
       "array([15, 10,  9, 66, 53, 54, 18, 44, 84, 11])"
      ]
     },
     "execution_count": 266,
     "metadata": {},
     "output_type": "execute_result"
    }
   ],
   "source": [
    "# 8) Arr에서 5개의 값을 무작위로 추출하고자 합니다.  \n",
    "# 그러나 다른 컴퓨터에서도 동일한 값으로 추출되도록(재현되도록) 코드를 작성하시오.\n",
    "np.random.seed(5079)\n",
    "np.random.choice(Arr, 10)"
   ]
  },
  {
   "cell_type": "code",
   "execution_count": 304,
   "metadata": {},
   "outputs": [
    {
     "data": {
      "text/plain": [
       "array([[0.74453325, 0.66682612, 0.72992962, 0.70792054, 0.30657658],\n",
       "       [0.92512978, 0.22152317, 0.47143656, 0.28256454, 0.93653363],\n",
       "       [0.42207272, 0.18025419, 0.59948927, 0.11601636, 0.42386532],\n",
       "       [0.27958553, 0.29979225, 0.88773503, 0.44024903, 0.46546665],\n",
       "       [0.25581297, 0.38739989, 0.9213187 , 0.92132974, 0.55072583]])"
      ]
     },
     "execution_count": 304,
     "metadata": {},
     "output_type": "execute_result"
    }
   ],
   "source": [
    "arr2 = np.random.random((20,5))\n",
    "arr2[np.random.choice(arr2.shape[0],5),]"
   ]
  },
  {
   "cell_type": "code",
   "execution_count": null,
   "metadata": {},
   "outputs": [],
   "source": []
  },
  {
   "cell_type": "markdown",
   "metadata": {
    "colab_type": "text",
    "id": "C_rowriIUVtw"
   },
   "source": [
    "## Numpy Documentation\n",
    "\n",
    "This brief overview has touched on many of the important things that you need to know about numpy, but is far from complete. Check out the <a href=\"http://docs.scipy.org/doc/numpy/reference/\">numpy reference</a> to find out much more about numpy."
   ]
  },
  {
   "cell_type": "code",
   "execution_count": null,
   "metadata": {},
   "outputs": [],
   "source": []
  }
 ],
 "metadata": {
  "colab": {
   "collapsed_sections": [
    "Tae5l6ABY89V",
    "FB4DtUU2UVsj",
    "Cj80rqK-UVsw",
    "J00GVYYZUVs8",
    "KiF6MXK8UVtM",
    "v7cmzxq1UVtR",
    "p3E0RUeXUVtb",
    "-1OWDcQDcI5A",
    "zF05aVKdUVtm"
   ],
   "name": "71.Numpy.ipynb",
   "provenance": [],
   "version": "0.3.2"
  },
  "kernelspec": {
   "display_name": "Python 3",
   "language": "python",
   "name": "python3"
  },
  "language_info": {
   "codemirror_mode": {
    "name": "ipython",
    "version": 3
   },
   "file_extension": ".py",
   "mimetype": "text/x-python",
   "name": "python",
   "nbconvert_exporter": "python",
   "pygments_lexer": "ipython3",
   "version": "3.7.1"
  }
 },
 "nbformat": 4,
 "nbformat_minor": 1
}
